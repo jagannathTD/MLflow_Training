{
 "cells": [
  {
   "cell_type": "markdown",
   "metadata": {},
   "source": [
    "# FORCASTING"
   ]
  },
  {
   "cell_type": "code",
   "execution_count": 59,
   "metadata": {},
   "outputs": [],
   "source": [
    "import pandas as pd\n",
    "from sklearn.ensemble import RandomForestRegressor\n",
    "from sklearn.metrics import mean_squared_error\n",
    "from math import sqrt\n",
    "import matplotlib.pyplot as plt\n",
    "from sklearn.model_selection import train_test_split\n",
    "import plotly.express as px\n",
    "from sklearn.preprocessing import StandardScaler\n",
    "from statsmodels.tsa.arima.model import ARIMA\n",
    "import matplotlib.pyplot as plt\n",
    "import numpy as np\n",
    "from tensorflow.keras.models import Sequential\n",
    "from tensorflow.keras.layers import LSTM, Dense\n",
    "from sklearn.metrics import mean_squared_error\n",
    "import seaborn as sns\n",
    "import matplotlib.pyplot as plt\n",
    "from sklearn.model_selection import train_test_split\n",
    "from sklearn.linear_model import LinearRegression\n",
    "from sklearn.metrics import mean_squared_error\n",
    "from sklearn.feature_selection import SelectKBest, f_regression\n",
    "\n"
   ]
  },
  {
   "cell_type": "code",
   "execution_count": 60,
   "metadata": {},
   "outputs": [],
   "source": [
    "df=pd.read_csv(r\"C:\\Users\\Nagaraj Nagappan\\Desktop\\MLFlow2\\final_fake_data.csv\")"
   ]
  },
  {
   "cell_type": "code",
   "execution_count": 61,
   "metadata": {},
   "outputs": [],
   "source": [
    "df=df.drop('Unnamed: 0', axis=1)"
   ]
  },
  {
   "cell_type": "code",
   "execution_count": 62,
   "metadata": {},
   "outputs": [
    {
     "data": {
      "text/html": [
       "<div>\n",
       "<style scoped>\n",
       "    .dataframe tbody tr th:only-of-type {\n",
       "        vertical-align: middle;\n",
       "    }\n",
       "\n",
       "    .dataframe tbody tr th {\n",
       "        vertical-align: top;\n",
       "    }\n",
       "\n",
       "    .dataframe thead th {\n",
       "        text-align: right;\n",
       "    }\n",
       "</style>\n",
       "<table border=\"1\" class=\"dataframe\">\n",
       "  <thead>\n",
       "    <tr style=\"text-align: right;\">\n",
       "      <th></th>\n",
       "      <th>Date</th>\n",
       "      <th>Inventory</th>\n",
       "      <th>Sales</th>\n",
       "      <th>After Sales</th>\n",
       "      <th>Load Count</th>\n",
       "      <th>Total Gallons Delivered</th>\n",
       "      <th>Day</th>\n",
       "      <th>Is Public Holiday</th>\n",
       "      <th>Temp-F</th>\n",
       "      <th>Month</th>\n",
       "      <th>Season</th>\n",
       "      <th>Demand</th>\n",
       "      <th>Sales % of Inventory</th>\n",
       "      <th>Average Load Volume</th>\n",
       "      <th>Average Sales per load</th>\n",
       "      <th>Inventory Turnover</th>\n",
       "      <th>Days of Inventory on Hand</th>\n",
       "      <th>Sales Growth Rate</th>\n",
       "    </tr>\n",
       "  </thead>\n",
       "  <tbody>\n",
       "    <tr>\n",
       "      <th>0</th>\n",
       "      <td>2019-06-19</td>\n",
       "      <td>33981.120</td>\n",
       "      <td>30613.47</td>\n",
       "      <td>3367.65</td>\n",
       "      <td>4</td>\n",
       "      <td>30550</td>\n",
       "      <td>Wednesday</td>\n",
       "      <td>False</td>\n",
       "      <td>78.5</td>\n",
       "      <td>6</td>\n",
       "      <td>Summer</td>\n",
       "      <td>30613.47</td>\n",
       "      <td>90.09</td>\n",
       "      <td>7637.50</td>\n",
       "      <td>7653.37</td>\n",
       "      <td>0.90</td>\n",
       "      <td>1.11</td>\n",
       "      <td>0.00</td>\n",
       "    </tr>\n",
       "    <tr>\n",
       "      <th>1</th>\n",
       "      <td>2019-06-20</td>\n",
       "      <td>41851.722</td>\n",
       "      <td>27402.34</td>\n",
       "      <td>14449.38</td>\n",
       "      <td>5</td>\n",
       "      <td>37880</td>\n",
       "      <td>Thursday</td>\n",
       "      <td>False</td>\n",
       "      <td>79.0</td>\n",
       "      <td>6</td>\n",
       "      <td>Summer</td>\n",
       "      <td>27402.34</td>\n",
       "      <td>65.47</td>\n",
       "      <td>7576.00</td>\n",
       "      <td>5480.47</td>\n",
       "      <td>0.65</td>\n",
       "      <td>1.53</td>\n",
       "      <td>-10.49</td>\n",
       "    </tr>\n",
       "    <tr>\n",
       "      <th>2</th>\n",
       "      <td>2019-06-21</td>\n",
       "      <td>44027.074</td>\n",
       "      <td>27458.89</td>\n",
       "      <td>16568.18</td>\n",
       "      <td>1</td>\n",
       "      <td>7770</td>\n",
       "      <td>Friday</td>\n",
       "      <td>False</td>\n",
       "      <td>80.5</td>\n",
       "      <td>6</td>\n",
       "      <td>Summer</td>\n",
       "      <td>27458.89</td>\n",
       "      <td>62.37</td>\n",
       "      <td>7770.00</td>\n",
       "      <td>27458.89</td>\n",
       "      <td>0.62</td>\n",
       "      <td>1.60</td>\n",
       "      <td>0.21</td>\n",
       "    </tr>\n",
       "    <tr>\n",
       "      <th>3</th>\n",
       "      <td>2019-06-22</td>\n",
       "      <td>24683.161</td>\n",
       "      <td>13303.20</td>\n",
       "      <td>11379.96</td>\n",
       "      <td>3</td>\n",
       "      <td>22830</td>\n",
       "      <td>Saturday</td>\n",
       "      <td>False</td>\n",
       "      <td>79.0</td>\n",
       "      <td>6</td>\n",
       "      <td>Summer</td>\n",
       "      <td>13303.20</td>\n",
       "      <td>53.90</td>\n",
       "      <td>7610.00</td>\n",
       "      <td>4434.40</td>\n",
       "      <td>0.54</td>\n",
       "      <td>1.86</td>\n",
       "      <td>-51.55</td>\n",
       "    </tr>\n",
       "    <tr>\n",
       "      <th>4</th>\n",
       "      <td>2019-06-23</td>\n",
       "      <td>34343.323</td>\n",
       "      <td>11559.55</td>\n",
       "      <td>22783.77</td>\n",
       "      <td>1</td>\n",
       "      <td>7700</td>\n",
       "      <td>Sunday</td>\n",
       "      <td>False</td>\n",
       "      <td>80.0</td>\n",
       "      <td>6</td>\n",
       "      <td>Summer</td>\n",
       "      <td>11559.55</td>\n",
       "      <td>33.66</td>\n",
       "      <td>7700.00</td>\n",
       "      <td>11559.55</td>\n",
       "      <td>0.34</td>\n",
       "      <td>2.97</td>\n",
       "      <td>-13.11</td>\n",
       "    </tr>\n",
       "    <tr>\n",
       "      <th>...</th>\n",
       "      <td>...</td>\n",
       "      <td>...</td>\n",
       "      <td>...</td>\n",
       "      <td>...</td>\n",
       "      <td>...</td>\n",
       "      <td>...</td>\n",
       "      <td>...</td>\n",
       "      <td>...</td>\n",
       "      <td>...</td>\n",
       "      <td>...</td>\n",
       "      <td>...</td>\n",
       "      <td>...</td>\n",
       "      <td>...</td>\n",
       "      <td>...</td>\n",
       "      <td>...</td>\n",
       "      <td>...</td>\n",
       "      <td>...</td>\n",
       "      <td>...</td>\n",
       "    </tr>\n",
       "    <tr>\n",
       "      <th>1586</th>\n",
       "      <td>2023-10-27</td>\n",
       "      <td>29249.333</td>\n",
       "      <td>25489.35</td>\n",
       "      <td>3759.98</td>\n",
       "      <td>6</td>\n",
       "      <td>28949</td>\n",
       "      <td>Friday</td>\n",
       "      <td>False</td>\n",
       "      <td>76.9</td>\n",
       "      <td>10</td>\n",
       "      <td>Autumn</td>\n",
       "      <td>25489.35</td>\n",
       "      <td>87.15</td>\n",
       "      <td>4824.83</td>\n",
       "      <td>4248.22</td>\n",
       "      <td>0.87</td>\n",
       "      <td>1.15</td>\n",
       "      <td>58.43</td>\n",
       "    </tr>\n",
       "    <tr>\n",
       "      <th>1587</th>\n",
       "      <td>2023-10-28</td>\n",
       "      <td>33953.073</td>\n",
       "      <td>20213.43</td>\n",
       "      <td>13739.64</td>\n",
       "      <td>3</td>\n",
       "      <td>23901</td>\n",
       "      <td>Saturday</td>\n",
       "      <td>False</td>\n",
       "      <td>70.5</td>\n",
       "      <td>10</td>\n",
       "      <td>Autumn</td>\n",
       "      <td>20213.43</td>\n",
       "      <td>59.53</td>\n",
       "      <td>7967.00</td>\n",
       "      <td>6737.81</td>\n",
       "      <td>0.60</td>\n",
       "      <td>1.68</td>\n",
       "      <td>-20.70</td>\n",
       "    </tr>\n",
       "    <tr>\n",
       "      <th>1588</th>\n",
       "      <td>2023-10-29</td>\n",
       "      <td>39282.705</td>\n",
       "      <td>21794.07</td>\n",
       "      <td>17488.64</td>\n",
       "      <td>4</td>\n",
       "      <td>32142</td>\n",
       "      <td>Sunday</td>\n",
       "      <td>False</td>\n",
       "      <td>78.1</td>\n",
       "      <td>10</td>\n",
       "      <td>Autumn</td>\n",
       "      <td>21794.07</td>\n",
       "      <td>55.48</td>\n",
       "      <td>8035.50</td>\n",
       "      <td>5448.52</td>\n",
       "      <td>0.55</td>\n",
       "      <td>1.80</td>\n",
       "      <td>7.82</td>\n",
       "    </tr>\n",
       "    <tr>\n",
       "      <th>1589</th>\n",
       "      <td>2023-10-30</td>\n",
       "      <td>24813.582</td>\n",
       "      <td>26506.10</td>\n",
       "      <td>-1692.52</td>\n",
       "      <td>3</td>\n",
       "      <td>30084</td>\n",
       "      <td>Monday</td>\n",
       "      <td>False</td>\n",
       "      <td>76.4</td>\n",
       "      <td>10</td>\n",
       "      <td>Autumn</td>\n",
       "      <td>26506.10</td>\n",
       "      <td>106.82</td>\n",
       "      <td>10028.00</td>\n",
       "      <td>8835.37</td>\n",
       "      <td>1.07</td>\n",
       "      <td>0.94</td>\n",
       "      <td>21.62</td>\n",
       "    </tr>\n",
       "    <tr>\n",
       "      <th>1590</th>\n",
       "      <td>2023-10-31</td>\n",
       "      <td>20115.336</td>\n",
       "      <td>21232.92</td>\n",
       "      <td>-1117.58</td>\n",
       "      <td>2</td>\n",
       "      <td>36646</td>\n",
       "      <td>Tuesday</td>\n",
       "      <td>False</td>\n",
       "      <td>79.9</td>\n",
       "      <td>10</td>\n",
       "      <td>Autumn</td>\n",
       "      <td>21232.92</td>\n",
       "      <td>105.56</td>\n",
       "      <td>18323.00</td>\n",
       "      <td>10616.46</td>\n",
       "      <td>1.06</td>\n",
       "      <td>0.95</td>\n",
       "      <td>-19.89</td>\n",
       "    </tr>\n",
       "  </tbody>\n",
       "</table>\n",
       "<p>1591 rows × 18 columns</p>\n",
       "</div>"
      ],
      "text/plain": [
       "            Date  Inventory     Sales  After Sales  Load Count  \\\n",
       "0     2019-06-19  33981.120  30613.47      3367.65           4   \n",
       "1     2019-06-20  41851.722  27402.34     14449.38           5   \n",
       "2     2019-06-21  44027.074  27458.89     16568.18           1   \n",
       "3     2019-06-22  24683.161  13303.20     11379.96           3   \n",
       "4     2019-06-23  34343.323  11559.55     22783.77           1   \n",
       "...          ...        ...       ...          ...         ...   \n",
       "1586  2023-10-27  29249.333  25489.35      3759.98           6   \n",
       "1587  2023-10-28  33953.073  20213.43     13739.64           3   \n",
       "1588  2023-10-29  39282.705  21794.07     17488.64           4   \n",
       "1589  2023-10-30  24813.582  26506.10     -1692.52           3   \n",
       "1590  2023-10-31  20115.336  21232.92     -1117.58           2   \n",
       "\n",
       "      Total Gallons Delivered        Day  Is Public Holiday  Temp-F  Month  \\\n",
       "0                       30550  Wednesday              False    78.5      6   \n",
       "1                       37880   Thursday              False    79.0      6   \n",
       "2                        7770     Friday              False    80.5      6   \n",
       "3                       22830   Saturday              False    79.0      6   \n",
       "4                        7700     Sunday              False    80.0      6   \n",
       "...                       ...        ...                ...     ...    ...   \n",
       "1586                    28949     Friday              False    76.9     10   \n",
       "1587                    23901   Saturday              False    70.5     10   \n",
       "1588                    32142     Sunday              False    78.1     10   \n",
       "1589                    30084     Monday              False    76.4     10   \n",
       "1590                    36646    Tuesday              False    79.9     10   \n",
       "\n",
       "      Season    Demand  Sales % of Inventory  Average Load Volume  \\\n",
       "0     Summer  30613.47                 90.09              7637.50   \n",
       "1     Summer  27402.34                 65.47              7576.00   \n",
       "2     Summer  27458.89                 62.37              7770.00   \n",
       "3     Summer  13303.20                 53.90              7610.00   \n",
       "4     Summer  11559.55                 33.66              7700.00   \n",
       "...      ...       ...                   ...                  ...   \n",
       "1586  Autumn  25489.35                 87.15              4824.83   \n",
       "1587  Autumn  20213.43                 59.53              7967.00   \n",
       "1588  Autumn  21794.07                 55.48              8035.50   \n",
       "1589  Autumn  26506.10                106.82             10028.00   \n",
       "1590  Autumn  21232.92                105.56             18323.00   \n",
       "\n",
       "      Average Sales per load  Inventory Turnover  Days of Inventory on Hand  \\\n",
       "0                    7653.37                0.90                       1.11   \n",
       "1                    5480.47                0.65                       1.53   \n",
       "2                   27458.89                0.62                       1.60   \n",
       "3                    4434.40                0.54                       1.86   \n",
       "4                   11559.55                0.34                       2.97   \n",
       "...                      ...                 ...                        ...   \n",
       "1586                 4248.22                0.87                       1.15   \n",
       "1587                 6737.81                0.60                       1.68   \n",
       "1588                 5448.52                0.55                       1.80   \n",
       "1589                 8835.37                1.07                       0.94   \n",
       "1590                10616.46                1.06                       0.95   \n",
       "\n",
       "      Sales Growth Rate  \n",
       "0                  0.00  \n",
       "1                -10.49  \n",
       "2                  0.21  \n",
       "3                -51.55  \n",
       "4                -13.11  \n",
       "...                 ...  \n",
       "1586              58.43  \n",
       "1587             -20.70  \n",
       "1588               7.82  \n",
       "1589              21.62  \n",
       "1590             -19.89  \n",
       "\n",
       "[1591 rows x 18 columns]"
      ]
     },
     "execution_count": 62,
     "metadata": {},
     "output_type": "execute_result"
    }
   ],
   "source": [
    "df"
   ]
  },
  {
   "cell_type": "markdown",
   "metadata": {},
   "source": [
    "# 1. Data Preprocessing:\n"
   ]
  },
  {
   "cell_type": "markdown",
   "metadata": {},
   "source": [
    "## setting index"
   ]
  },
  {
   "cell_type": "code",
   "execution_count": 63,
   "metadata": {},
   "outputs": [],
   "source": [
    "\n",
    "\n",
    "df['Date'] = pd.to_datetime(df['Date'])\n",
    "df.set_index('Date', inplace=True)\n",
    "\n"
   ]
  },
  {
   "cell_type": "code",
   "execution_count": 64,
   "metadata": {},
   "outputs": [
    {
     "data": {
      "text/html": [
       "<div>\n",
       "<style scoped>\n",
       "    .dataframe tbody tr th:only-of-type {\n",
       "        vertical-align: middle;\n",
       "    }\n",
       "\n",
       "    .dataframe tbody tr th {\n",
       "        vertical-align: top;\n",
       "    }\n",
       "\n",
       "    .dataframe thead th {\n",
       "        text-align: right;\n",
       "    }\n",
       "</style>\n",
       "<table border=\"1\" class=\"dataframe\">\n",
       "  <thead>\n",
       "    <tr style=\"text-align: right;\">\n",
       "      <th></th>\n",
       "      <th>Inventory</th>\n",
       "      <th>Sales</th>\n",
       "      <th>After Sales</th>\n",
       "      <th>Load Count</th>\n",
       "      <th>Total Gallons Delivered</th>\n",
       "      <th>Day</th>\n",
       "      <th>Is Public Holiday</th>\n",
       "      <th>Temp-F</th>\n",
       "      <th>Month</th>\n",
       "      <th>Season</th>\n",
       "      <th>Demand</th>\n",
       "      <th>Sales % of Inventory</th>\n",
       "      <th>Average Load Volume</th>\n",
       "      <th>Average Sales per load</th>\n",
       "      <th>Inventory Turnover</th>\n",
       "      <th>Days of Inventory on Hand</th>\n",
       "      <th>Sales Growth Rate</th>\n",
       "    </tr>\n",
       "    <tr>\n",
       "      <th>Date</th>\n",
       "      <th></th>\n",
       "      <th></th>\n",
       "      <th></th>\n",
       "      <th></th>\n",
       "      <th></th>\n",
       "      <th></th>\n",
       "      <th></th>\n",
       "      <th></th>\n",
       "      <th></th>\n",
       "      <th></th>\n",
       "      <th></th>\n",
       "      <th></th>\n",
       "      <th></th>\n",
       "      <th></th>\n",
       "      <th></th>\n",
       "      <th></th>\n",
       "      <th></th>\n",
       "    </tr>\n",
       "  </thead>\n",
       "  <tbody>\n",
       "    <tr>\n",
       "      <th>2019-06-19</th>\n",
       "      <td>33981.120</td>\n",
       "      <td>30613.47</td>\n",
       "      <td>3367.65</td>\n",
       "      <td>4</td>\n",
       "      <td>30550</td>\n",
       "      <td>Wednesday</td>\n",
       "      <td>False</td>\n",
       "      <td>78.5</td>\n",
       "      <td>6</td>\n",
       "      <td>Summer</td>\n",
       "      <td>30613.47</td>\n",
       "      <td>90.09</td>\n",
       "      <td>7637.5</td>\n",
       "      <td>7653.37</td>\n",
       "      <td>0.90</td>\n",
       "      <td>1.11</td>\n",
       "      <td>0.00</td>\n",
       "    </tr>\n",
       "    <tr>\n",
       "      <th>2019-06-20</th>\n",
       "      <td>41851.722</td>\n",
       "      <td>27402.34</td>\n",
       "      <td>14449.38</td>\n",
       "      <td>5</td>\n",
       "      <td>37880</td>\n",
       "      <td>Thursday</td>\n",
       "      <td>False</td>\n",
       "      <td>79.0</td>\n",
       "      <td>6</td>\n",
       "      <td>Summer</td>\n",
       "      <td>27402.34</td>\n",
       "      <td>65.47</td>\n",
       "      <td>7576.0</td>\n",
       "      <td>5480.47</td>\n",
       "      <td>0.65</td>\n",
       "      <td>1.53</td>\n",
       "      <td>-10.49</td>\n",
       "    </tr>\n",
       "    <tr>\n",
       "      <th>2019-06-21</th>\n",
       "      <td>44027.074</td>\n",
       "      <td>27458.89</td>\n",
       "      <td>16568.18</td>\n",
       "      <td>1</td>\n",
       "      <td>7770</td>\n",
       "      <td>Friday</td>\n",
       "      <td>False</td>\n",
       "      <td>80.5</td>\n",
       "      <td>6</td>\n",
       "      <td>Summer</td>\n",
       "      <td>27458.89</td>\n",
       "      <td>62.37</td>\n",
       "      <td>7770.0</td>\n",
       "      <td>27458.89</td>\n",
       "      <td>0.62</td>\n",
       "      <td>1.60</td>\n",
       "      <td>0.21</td>\n",
       "    </tr>\n",
       "    <tr>\n",
       "      <th>2019-06-22</th>\n",
       "      <td>24683.161</td>\n",
       "      <td>13303.20</td>\n",
       "      <td>11379.96</td>\n",
       "      <td>3</td>\n",
       "      <td>22830</td>\n",
       "      <td>Saturday</td>\n",
       "      <td>False</td>\n",
       "      <td>79.0</td>\n",
       "      <td>6</td>\n",
       "      <td>Summer</td>\n",
       "      <td>13303.20</td>\n",
       "      <td>53.90</td>\n",
       "      <td>7610.0</td>\n",
       "      <td>4434.40</td>\n",
       "      <td>0.54</td>\n",
       "      <td>1.86</td>\n",
       "      <td>-51.55</td>\n",
       "    </tr>\n",
       "    <tr>\n",
       "      <th>2019-06-23</th>\n",
       "      <td>34343.323</td>\n",
       "      <td>11559.55</td>\n",
       "      <td>22783.77</td>\n",
       "      <td>1</td>\n",
       "      <td>7700</td>\n",
       "      <td>Sunday</td>\n",
       "      <td>False</td>\n",
       "      <td>80.0</td>\n",
       "      <td>6</td>\n",
       "      <td>Summer</td>\n",
       "      <td>11559.55</td>\n",
       "      <td>33.66</td>\n",
       "      <td>7700.0</td>\n",
       "      <td>11559.55</td>\n",
       "      <td>0.34</td>\n",
       "      <td>2.97</td>\n",
       "      <td>-13.11</td>\n",
       "    </tr>\n",
       "  </tbody>\n",
       "</table>\n",
       "</div>"
      ],
      "text/plain": [
       "            Inventory     Sales  After Sales  Load Count  \\\n",
       "Date                                                       \n",
       "2019-06-19  33981.120  30613.47      3367.65           4   \n",
       "2019-06-20  41851.722  27402.34     14449.38           5   \n",
       "2019-06-21  44027.074  27458.89     16568.18           1   \n",
       "2019-06-22  24683.161  13303.20     11379.96           3   \n",
       "2019-06-23  34343.323  11559.55     22783.77           1   \n",
       "\n",
       "            Total Gallons Delivered        Day  Is Public Holiday  Temp-F  \\\n",
       "Date                                                                        \n",
       "2019-06-19                    30550  Wednesday              False    78.5   \n",
       "2019-06-20                    37880   Thursday              False    79.0   \n",
       "2019-06-21                     7770     Friday              False    80.5   \n",
       "2019-06-22                    22830   Saturday              False    79.0   \n",
       "2019-06-23                     7700     Sunday              False    80.0   \n",
       "\n",
       "            Month  Season    Demand  Sales % of Inventory  \\\n",
       "Date                                                        \n",
       "2019-06-19      6  Summer  30613.47                 90.09   \n",
       "2019-06-20      6  Summer  27402.34                 65.47   \n",
       "2019-06-21      6  Summer  27458.89                 62.37   \n",
       "2019-06-22      6  Summer  13303.20                 53.90   \n",
       "2019-06-23      6  Summer  11559.55                 33.66   \n",
       "\n",
       "            Average Load Volume  Average Sales per load  Inventory Turnover  \\\n",
       "Date                                                                          \n",
       "2019-06-19               7637.5                 7653.37                0.90   \n",
       "2019-06-20               7576.0                 5480.47                0.65   \n",
       "2019-06-21               7770.0                27458.89                0.62   \n",
       "2019-06-22               7610.0                 4434.40                0.54   \n",
       "2019-06-23               7700.0                11559.55                0.34   \n",
       "\n",
       "            Days of Inventory on Hand  Sales Growth Rate  \n",
       "Date                                                      \n",
       "2019-06-19                       1.11               0.00  \n",
       "2019-06-20                       1.53             -10.49  \n",
       "2019-06-21                       1.60               0.21  \n",
       "2019-06-22                       1.86             -51.55  \n",
       "2019-06-23                       2.97             -13.11  "
      ]
     },
     "execution_count": 64,
     "metadata": {},
     "output_type": "execute_result"
    }
   ],
   "source": [
    "df.head()"
   ]
  },
  {
   "cell_type": "code",
   "execution_count": 65,
   "metadata": {},
   "outputs": [
    {
     "data": {
      "text/html": [
       "<div>\n",
       "<style scoped>\n",
       "    .dataframe tbody tr th:only-of-type {\n",
       "        vertical-align: middle;\n",
       "    }\n",
       "\n",
       "    .dataframe tbody tr th {\n",
       "        vertical-align: top;\n",
       "    }\n",
       "\n",
       "    .dataframe thead th {\n",
       "        text-align: right;\n",
       "    }\n",
       "</style>\n",
       "<table border=\"1\" class=\"dataframe\">\n",
       "  <thead>\n",
       "    <tr style=\"text-align: right;\">\n",
       "      <th></th>\n",
       "      <th>Inventory</th>\n",
       "      <th>Sales</th>\n",
       "      <th>After Sales</th>\n",
       "      <th>Load Count</th>\n",
       "      <th>Total Gallons Delivered</th>\n",
       "      <th>Day</th>\n",
       "      <th>Is Public Holiday</th>\n",
       "      <th>Temp-F</th>\n",
       "      <th>Month</th>\n",
       "      <th>Season</th>\n",
       "      <th>Demand</th>\n",
       "      <th>Sales % of Inventory</th>\n",
       "      <th>Average Load Volume</th>\n",
       "      <th>Average Sales per load</th>\n",
       "      <th>Inventory Turnover</th>\n",
       "      <th>Days of Inventory on Hand</th>\n",
       "      <th>Sales Growth Rate</th>\n",
       "    </tr>\n",
       "    <tr>\n",
       "      <th>Date</th>\n",
       "      <th></th>\n",
       "      <th></th>\n",
       "      <th></th>\n",
       "      <th></th>\n",
       "      <th></th>\n",
       "      <th></th>\n",
       "      <th></th>\n",
       "      <th></th>\n",
       "      <th></th>\n",
       "      <th></th>\n",
       "      <th></th>\n",
       "      <th></th>\n",
       "      <th></th>\n",
       "      <th></th>\n",
       "      <th></th>\n",
       "      <th></th>\n",
       "      <th></th>\n",
       "    </tr>\n",
       "  </thead>\n",
       "  <tbody>\n",
       "    <tr>\n",
       "      <th>2023-10-22</th>\n",
       "      <td>35871.185</td>\n",
       "      <td>16721.26</td>\n",
       "      <td>19149.92</td>\n",
       "      <td>2</td>\n",
       "      <td>30172</td>\n",
       "      <td>Sunday</td>\n",
       "      <td>False</td>\n",
       "      <td>71.5</td>\n",
       "      <td>10</td>\n",
       "      <td>Autumn</td>\n",
       "      <td>16721.26</td>\n",
       "      <td>46.61</td>\n",
       "      <td>15086.00</td>\n",
       "      <td>8360.63</td>\n",
       "      <td>0.47</td>\n",
       "      <td>2.15</td>\n",
       "      <td>-34.27</td>\n",
       "    </tr>\n",
       "    <tr>\n",
       "      <th>2023-10-23</th>\n",
       "      <td>37633.795</td>\n",
       "      <td>30280.79</td>\n",
       "      <td>7353.00</td>\n",
       "      <td>3</td>\n",
       "      <td>35278</td>\n",
       "      <td>Monday</td>\n",
       "      <td>False</td>\n",
       "      <td>70.6</td>\n",
       "      <td>10</td>\n",
       "      <td>Autumn</td>\n",
       "      <td>30280.79</td>\n",
       "      <td>80.46</td>\n",
       "      <td>11759.33</td>\n",
       "      <td>10093.60</td>\n",
       "      <td>0.80</td>\n",
       "      <td>1.24</td>\n",
       "      <td>81.09</td>\n",
       "    </tr>\n",
       "    <tr>\n",
       "      <th>2023-10-24</th>\n",
       "      <td>23067.663</td>\n",
       "      <td>23516.86</td>\n",
       "      <td>-449.20</td>\n",
       "      <td>2</td>\n",
       "      <td>39738</td>\n",
       "      <td>Tuesday</td>\n",
       "      <td>False</td>\n",
       "      <td>74.3</td>\n",
       "      <td>10</td>\n",
       "      <td>Autumn</td>\n",
       "      <td>23516.86</td>\n",
       "      <td>101.95</td>\n",
       "      <td>19869.00</td>\n",
       "      <td>11758.43</td>\n",
       "      <td>1.02</td>\n",
       "      <td>0.98</td>\n",
       "      <td>-22.34</td>\n",
       "    </tr>\n",
       "    <tr>\n",
       "      <th>2023-10-25</th>\n",
       "      <td>22638.315</td>\n",
       "      <td>27941.95</td>\n",
       "      <td>-5303.64</td>\n",
       "      <td>2</td>\n",
       "      <td>43987</td>\n",
       "      <td>Wednesday</td>\n",
       "      <td>False</td>\n",
       "      <td>72.7</td>\n",
       "      <td>10</td>\n",
       "      <td>Autumn</td>\n",
       "      <td>27941.95</td>\n",
       "      <td>123.43</td>\n",
       "      <td>21993.50</td>\n",
       "      <td>13970.98</td>\n",
       "      <td>1.23</td>\n",
       "      <td>0.81</td>\n",
       "      <td>18.82</td>\n",
       "    </tr>\n",
       "    <tr>\n",
       "      <th>2023-10-26</th>\n",
       "      <td>41628.464</td>\n",
       "      <td>16088.57</td>\n",
       "      <td>25539.89</td>\n",
       "      <td>4</td>\n",
       "      <td>25915</td>\n",
       "      <td>Thursday</td>\n",
       "      <td>False</td>\n",
       "      <td>72.5</td>\n",
       "      <td>10</td>\n",
       "      <td>Autumn</td>\n",
       "      <td>16088.57</td>\n",
       "      <td>38.65</td>\n",
       "      <td>6478.75</td>\n",
       "      <td>4022.14</td>\n",
       "      <td>0.39</td>\n",
       "      <td>2.59</td>\n",
       "      <td>-42.42</td>\n",
       "    </tr>\n",
       "    <tr>\n",
       "      <th>2023-10-27</th>\n",
       "      <td>29249.333</td>\n",
       "      <td>25489.35</td>\n",
       "      <td>3759.98</td>\n",
       "      <td>6</td>\n",
       "      <td>28949</td>\n",
       "      <td>Friday</td>\n",
       "      <td>False</td>\n",
       "      <td>76.9</td>\n",
       "      <td>10</td>\n",
       "      <td>Autumn</td>\n",
       "      <td>25489.35</td>\n",
       "      <td>87.15</td>\n",
       "      <td>4824.83</td>\n",
       "      <td>4248.22</td>\n",
       "      <td>0.87</td>\n",
       "      <td>1.15</td>\n",
       "      <td>58.43</td>\n",
       "    </tr>\n",
       "    <tr>\n",
       "      <th>2023-10-28</th>\n",
       "      <td>33953.073</td>\n",
       "      <td>20213.43</td>\n",
       "      <td>13739.64</td>\n",
       "      <td>3</td>\n",
       "      <td>23901</td>\n",
       "      <td>Saturday</td>\n",
       "      <td>False</td>\n",
       "      <td>70.5</td>\n",
       "      <td>10</td>\n",
       "      <td>Autumn</td>\n",
       "      <td>20213.43</td>\n",
       "      <td>59.53</td>\n",
       "      <td>7967.00</td>\n",
       "      <td>6737.81</td>\n",
       "      <td>0.60</td>\n",
       "      <td>1.68</td>\n",
       "      <td>-20.70</td>\n",
       "    </tr>\n",
       "    <tr>\n",
       "      <th>2023-10-29</th>\n",
       "      <td>39282.705</td>\n",
       "      <td>21794.07</td>\n",
       "      <td>17488.64</td>\n",
       "      <td>4</td>\n",
       "      <td>32142</td>\n",
       "      <td>Sunday</td>\n",
       "      <td>False</td>\n",
       "      <td>78.1</td>\n",
       "      <td>10</td>\n",
       "      <td>Autumn</td>\n",
       "      <td>21794.07</td>\n",
       "      <td>55.48</td>\n",
       "      <td>8035.50</td>\n",
       "      <td>5448.52</td>\n",
       "      <td>0.55</td>\n",
       "      <td>1.80</td>\n",
       "      <td>7.82</td>\n",
       "    </tr>\n",
       "    <tr>\n",
       "      <th>2023-10-30</th>\n",
       "      <td>24813.582</td>\n",
       "      <td>26506.10</td>\n",
       "      <td>-1692.52</td>\n",
       "      <td>3</td>\n",
       "      <td>30084</td>\n",
       "      <td>Monday</td>\n",
       "      <td>False</td>\n",
       "      <td>76.4</td>\n",
       "      <td>10</td>\n",
       "      <td>Autumn</td>\n",
       "      <td>26506.10</td>\n",
       "      <td>106.82</td>\n",
       "      <td>10028.00</td>\n",
       "      <td>8835.37</td>\n",
       "      <td>1.07</td>\n",
       "      <td>0.94</td>\n",
       "      <td>21.62</td>\n",
       "    </tr>\n",
       "    <tr>\n",
       "      <th>2023-10-31</th>\n",
       "      <td>20115.336</td>\n",
       "      <td>21232.92</td>\n",
       "      <td>-1117.58</td>\n",
       "      <td>2</td>\n",
       "      <td>36646</td>\n",
       "      <td>Tuesday</td>\n",
       "      <td>False</td>\n",
       "      <td>79.9</td>\n",
       "      <td>10</td>\n",
       "      <td>Autumn</td>\n",
       "      <td>21232.92</td>\n",
       "      <td>105.56</td>\n",
       "      <td>18323.00</td>\n",
       "      <td>10616.46</td>\n",
       "      <td>1.06</td>\n",
       "      <td>0.95</td>\n",
       "      <td>-19.89</td>\n",
       "    </tr>\n",
       "  </tbody>\n",
       "</table>\n",
       "</div>"
      ],
      "text/plain": [
       "            Inventory     Sales  After Sales  Load Count  \\\n",
       "Date                                                       \n",
       "2023-10-22  35871.185  16721.26     19149.92           2   \n",
       "2023-10-23  37633.795  30280.79      7353.00           3   \n",
       "2023-10-24  23067.663  23516.86      -449.20           2   \n",
       "2023-10-25  22638.315  27941.95     -5303.64           2   \n",
       "2023-10-26  41628.464  16088.57     25539.89           4   \n",
       "2023-10-27  29249.333  25489.35      3759.98           6   \n",
       "2023-10-28  33953.073  20213.43     13739.64           3   \n",
       "2023-10-29  39282.705  21794.07     17488.64           4   \n",
       "2023-10-30  24813.582  26506.10     -1692.52           3   \n",
       "2023-10-31  20115.336  21232.92     -1117.58           2   \n",
       "\n",
       "            Total Gallons Delivered        Day  Is Public Holiday  Temp-F  \\\n",
       "Date                                                                        \n",
       "2023-10-22                    30172     Sunday              False    71.5   \n",
       "2023-10-23                    35278     Monday              False    70.6   \n",
       "2023-10-24                    39738    Tuesday              False    74.3   \n",
       "2023-10-25                    43987  Wednesday              False    72.7   \n",
       "2023-10-26                    25915   Thursday              False    72.5   \n",
       "2023-10-27                    28949     Friday              False    76.9   \n",
       "2023-10-28                    23901   Saturday              False    70.5   \n",
       "2023-10-29                    32142     Sunday              False    78.1   \n",
       "2023-10-30                    30084     Monday              False    76.4   \n",
       "2023-10-31                    36646    Tuesday              False    79.9   \n",
       "\n",
       "            Month  Season    Demand  Sales % of Inventory  \\\n",
       "Date                                                        \n",
       "2023-10-22     10  Autumn  16721.26                 46.61   \n",
       "2023-10-23     10  Autumn  30280.79                 80.46   \n",
       "2023-10-24     10  Autumn  23516.86                101.95   \n",
       "2023-10-25     10  Autumn  27941.95                123.43   \n",
       "2023-10-26     10  Autumn  16088.57                 38.65   \n",
       "2023-10-27     10  Autumn  25489.35                 87.15   \n",
       "2023-10-28     10  Autumn  20213.43                 59.53   \n",
       "2023-10-29     10  Autumn  21794.07                 55.48   \n",
       "2023-10-30     10  Autumn  26506.10                106.82   \n",
       "2023-10-31     10  Autumn  21232.92                105.56   \n",
       "\n",
       "            Average Load Volume  Average Sales per load  Inventory Turnover  \\\n",
       "Date                                                                          \n",
       "2023-10-22             15086.00                 8360.63                0.47   \n",
       "2023-10-23             11759.33                10093.60                0.80   \n",
       "2023-10-24             19869.00                11758.43                1.02   \n",
       "2023-10-25             21993.50                13970.98                1.23   \n",
       "2023-10-26              6478.75                 4022.14                0.39   \n",
       "2023-10-27              4824.83                 4248.22                0.87   \n",
       "2023-10-28              7967.00                 6737.81                0.60   \n",
       "2023-10-29              8035.50                 5448.52                0.55   \n",
       "2023-10-30             10028.00                 8835.37                1.07   \n",
       "2023-10-31             18323.00                10616.46                1.06   \n",
       "\n",
       "            Days of Inventory on Hand  Sales Growth Rate  \n",
       "Date                                                      \n",
       "2023-10-22                       2.15             -34.27  \n",
       "2023-10-23                       1.24              81.09  \n",
       "2023-10-24                       0.98             -22.34  \n",
       "2023-10-25                       0.81              18.82  \n",
       "2023-10-26                       2.59             -42.42  \n",
       "2023-10-27                       1.15              58.43  \n",
       "2023-10-28                       1.68             -20.70  \n",
       "2023-10-29                       1.80               7.82  \n",
       "2023-10-30                       0.94              21.62  \n",
       "2023-10-31                       0.95             -19.89  "
      ]
     },
     "execution_count": 65,
     "metadata": {},
     "output_type": "execute_result"
    }
   ],
   "source": [
    "df.tail(10)"
   ]
  },
  {
   "cell_type": "code",
   "execution_count": 66,
   "metadata": {},
   "outputs": [
    {
     "data": {
      "text/plain": [
       "Index(['Inventory', 'Sales', 'After Sales', 'Load Count',\n",
       "       'Total Gallons Delivered', 'Day', 'Is Public Holiday', 'Temp-F',\n",
       "       'Month', 'Season', 'Demand', 'Sales % of Inventory',\n",
       "       'Average Load Volume', 'Average Sales per load', 'Inventory Turnover',\n",
       "       'Days of Inventory on Hand', 'Sales Growth Rate'],\n",
       "      dtype='object')"
      ]
     },
     "execution_count": 66,
     "metadata": {},
     "output_type": "execute_result"
    }
   ],
   "source": [
    "df.columns"
   ]
  },
  {
   "cell_type": "markdown",
   "metadata": {},
   "source": [
    "# VAR MODEL"
   ]
  },
  {
   "cell_type": "code",
   "execution_count": 67,
   "metadata": {},
   "outputs": [],
   "source": [
    "import pandas as pd\n",
    "import matplotlib.pyplot as plt\n",
    "from sklearn.model_selection import train_test_split\n",
    "from sklearn.metrics import mean_squared_error\n",
    "from statsmodels.tsa.api import VAR\n",
    "from statsmodels.tools.eval_measures import rmse"
   ]
  },
  {
   "cell_type": "code",
   "execution_count": 68,
   "metadata": {},
   "outputs": [],
   "source": [
    "train_size = int(len(df) * 0.8)\n",
    "train, test = df[:train_size], df[train_size:]"
   ]
  },
  {
   "cell_type": "markdown",
   "metadata": {},
   "source": [
    "#### # Model Training and Evaluation\n"
   ]
  },
  {
   "cell_type": "code",
   "execution_count": 69,
   "metadata": {},
   "outputs": [
    {
     "name": "stderr",
     "output_type": "stream",
     "text": [
      "c:\\Users\\Nagaraj Nagappan\\anaconda3\\envs\\vs_code\\lib\\site-packages\\statsmodels\\tsa\\base\\tsa_model.py:473: ValueWarning:\n",
      "\n",
      "A date index has been provided, but it has no associated frequency information and so will be ignored when e.g. forecasting.\n",
      "\n"
     ]
    },
    {
     "data": {
      "text/plain": [
       "array([[3.17207888e+04, 2.34917368e+04, 8.22905210e+03, 2.95677886e+00,\n",
       "        3.55724096e+04, 7.95594674e+01],\n",
       "       [3.27633085e+04, 2.45740083e+04, 8.18930019e+03, 2.94958297e+00,\n",
       "        3.43960497e+04, 7.88170983e+01],\n",
       "       [3.28656491e+04, 2.47453050e+04, 8.12034412e+03, 2.98956588e+00,\n",
       "        3.41005565e+04, 7.80512025e+01],\n",
       "       ...,\n",
       "       [3.34829858e+04, 2.49786303e+04, 8.50435550e+03, 3.05910273e+00,\n",
       "        3.29260207e+04, 7.32447327e+01],\n",
       "       [3.34829829e+04, 2.49786328e+04, 8.50435012e+03, 3.05909726e+00,\n",
       "        3.29260138e+04, 7.32447323e+01],\n",
       "       [3.34829787e+04, 2.49786309e+04, 8.50434780e+03, 3.05909722e+00,\n",
       "        3.29260150e+04, 7.32447323e+01]])"
      ]
     },
     "execution_count": 69,
     "metadata": {},
     "output_type": "execute_result"
    }
   ],
   "source": [
    "model = VAR(train[['Inventory', 'Sales', 'After Sales', 'Load Count', 'Total Gallons Delivered', 'Temp-F']])\n",
    "model_fit = model.fit()\n",
    "\n",
    "lag_order = model_fit.k_ar\n",
    "forecast_input = test[['Inventory', 'Sales', 'After Sales', 'Load Count', 'Total Gallons Delivered', 'Temp-F']].values\n",
    "predictions = model_fit.forecast(y=forecast_input, steps=len(test))\n",
    "predictions\n",
    "\n"
   ]
  },
  {
   "cell_type": "markdown",
   "metadata": {},
   "source": [
    "#### Evaluate the model\n"
   ]
  },
  {
   "cell_type": "code",
   "execution_count": 70,
   "metadata": {},
   "outputs": [
    {
     "name": "stdout",
     "output_type": "stream",
     "text": [
      "Mean Squared Error: 92379947.59989573\n",
      "Root Mean Squared Error: 9611.448777364198\n"
     ]
    }
   ],
   "source": [
    "mse = mean_squared_error(test['Sales'], predictions[:, 0])\n",
    "print(f'Mean Squared Error: {mse}')\n",
    "rmse_val = rmse(test['Sales'], predictions[:, 0])\n",
    "print(f'Root Mean Squared Error: {rmse_val}')"
   ]
  },
  {
   "cell_type": "code",
   "execution_count": 71,
   "metadata": {},
   "outputs": [
    {
     "data": {
      "text/plain": [
       "array([[3.17207888e+04, 2.34917368e+04, 8.22905210e+03, 2.95677886e+00,\n",
       "        3.55724096e+04, 7.95594674e+01],\n",
       "       [3.27633085e+04, 2.45740083e+04, 8.18930019e+03, 2.94958297e+00,\n",
       "        3.43960497e+04, 7.88170983e+01],\n",
       "       [3.28656491e+04, 2.47453050e+04, 8.12034412e+03, 2.98956588e+00,\n",
       "        3.41005565e+04, 7.80512025e+01],\n",
       "       ...,\n",
       "       [3.34829858e+04, 2.49786303e+04, 8.50435550e+03, 3.05910273e+00,\n",
       "        3.29260207e+04, 7.32447327e+01],\n",
       "       [3.34829829e+04, 2.49786328e+04, 8.50435012e+03, 3.05909726e+00,\n",
       "        3.29260138e+04, 7.32447323e+01],\n",
       "       [3.34829787e+04, 2.49786309e+04, 8.50434780e+03, 3.05909722e+00,\n",
       "        3.29260150e+04, 7.32447323e+01]])"
      ]
     },
     "execution_count": 71,
     "metadata": {},
     "output_type": "execute_result"
    }
   ],
   "source": [
    "predictions"
   ]
  },
  {
   "cell_type": "markdown",
   "metadata": {},
   "source": [
    "# Data Visualisation"
   ]
  },
  {
   "cell_type": "code",
   "execution_count": 72,
   "metadata": {},
   "outputs": [
    {
     "data": {
      "application/vnd.plotly.v1+json": {
       "config": {
        "plotlyServerURL": "https://plot.ly"
       },
       "data": [
        {
         "hovertemplate": "variable=Sales<br>Date=%{x}<br>value=%{y}<extra></extra>",
         "legendgroup": "Sales",
         "line": {
          "color": "#636efa",
          "dash": "solid"
         },
         "marker": {
          "symbol": "circle"
         },
         "mode": "lines",
         "name": "Sales",
         "orientation": "v",
         "showlegend": true,
         "type": "scatter",
         "x": [
          "2022-12-17T00:00:00",
          "2022-12-18T00:00:00",
          "2022-12-19T00:00:00",
          "2022-12-20T00:00:00",
          "2022-12-21T00:00:00",
          "2022-12-22T00:00:00",
          "2022-12-23T00:00:00",
          "2022-12-24T00:00:00",
          "2022-12-25T00:00:00",
          "2022-12-26T00:00:00",
          "2022-12-27T00:00:00",
          "2022-12-28T00:00:00",
          "2022-12-29T00:00:00",
          "2022-12-30T00:00:00",
          "2022-12-31T00:00:00",
          "2023-01-01T00:00:00",
          "2023-01-02T00:00:00",
          "2023-01-03T00:00:00",
          "2023-01-04T00:00:00",
          "2023-01-05T00:00:00",
          "2023-01-06T00:00:00",
          "2023-01-07T00:00:00",
          "2023-01-08T00:00:00",
          "2023-01-09T00:00:00",
          "2023-01-10T00:00:00",
          "2023-01-11T00:00:00",
          "2023-01-12T00:00:00",
          "2023-01-13T00:00:00",
          "2023-01-14T00:00:00",
          "2023-01-15T00:00:00",
          "2023-01-16T00:00:00",
          "2023-01-17T00:00:00",
          "2023-01-18T00:00:00",
          "2023-01-19T00:00:00",
          "2023-01-20T00:00:00",
          "2023-01-21T00:00:00",
          "2023-01-22T00:00:00",
          "2023-01-23T00:00:00",
          "2023-01-24T00:00:00",
          "2023-01-25T00:00:00",
          "2023-01-26T00:00:00",
          "2023-01-27T00:00:00",
          "2023-01-28T00:00:00",
          "2023-01-29T00:00:00",
          "2023-01-30T00:00:00",
          "2023-01-31T00:00:00",
          "2023-02-01T00:00:00",
          "2023-02-02T00:00:00",
          "2023-02-03T00:00:00",
          "2023-02-04T00:00:00",
          "2023-02-05T00:00:00",
          "2023-02-06T00:00:00",
          "2023-02-07T00:00:00",
          "2023-02-08T00:00:00",
          "2023-02-09T00:00:00",
          "2023-02-10T00:00:00",
          "2023-02-11T00:00:00",
          "2023-02-12T00:00:00",
          "2023-02-13T00:00:00",
          "2023-02-14T00:00:00",
          "2023-02-15T00:00:00",
          "2023-02-16T00:00:00",
          "2023-02-17T00:00:00",
          "2023-02-18T00:00:00",
          "2023-02-19T00:00:00",
          "2023-02-20T00:00:00",
          "2023-02-21T00:00:00",
          "2023-02-22T00:00:00",
          "2023-02-23T00:00:00",
          "2023-02-24T00:00:00",
          "2023-02-25T00:00:00",
          "2023-02-26T00:00:00",
          "2023-02-27T00:00:00",
          "2023-02-28T00:00:00",
          "2023-03-01T00:00:00",
          "2023-03-02T00:00:00",
          "2023-03-03T00:00:00",
          "2023-03-04T00:00:00",
          "2023-03-05T00:00:00",
          "2023-03-06T00:00:00",
          "2023-03-07T00:00:00",
          "2023-03-08T00:00:00",
          "2023-03-09T00:00:00",
          "2023-03-10T00:00:00",
          "2023-03-11T00:00:00",
          "2023-03-12T00:00:00",
          "2023-03-13T00:00:00",
          "2023-03-14T00:00:00",
          "2023-03-15T00:00:00",
          "2023-03-16T00:00:00",
          "2023-03-17T00:00:00",
          "2023-03-18T00:00:00",
          "2023-03-19T00:00:00",
          "2023-03-20T00:00:00",
          "2023-03-21T00:00:00",
          "2023-03-22T00:00:00",
          "2023-03-23T00:00:00",
          "2023-03-24T00:00:00",
          "2023-03-25T00:00:00",
          "2023-03-26T00:00:00",
          "2023-03-27T00:00:00",
          "2023-03-28T00:00:00",
          "2023-03-29T00:00:00",
          "2023-03-30T00:00:00",
          "2023-03-31T00:00:00",
          "2023-04-01T00:00:00",
          "2023-04-02T00:00:00",
          "2023-04-03T00:00:00",
          "2023-04-04T00:00:00",
          "2023-04-05T00:00:00",
          "2023-04-06T00:00:00",
          "2023-04-07T00:00:00",
          "2023-04-08T00:00:00",
          "2023-04-09T00:00:00",
          "2023-04-10T00:00:00",
          "2023-04-11T00:00:00",
          "2023-04-12T00:00:00",
          "2023-04-13T00:00:00",
          "2023-04-14T00:00:00",
          "2023-04-15T00:00:00",
          "2023-04-16T00:00:00",
          "2023-04-17T00:00:00",
          "2023-04-18T00:00:00",
          "2023-04-19T00:00:00",
          "2023-04-20T00:00:00",
          "2023-04-21T00:00:00",
          "2023-04-22T00:00:00",
          "2023-04-23T00:00:00",
          "2023-04-24T00:00:00",
          "2023-04-25T00:00:00",
          "2023-04-26T00:00:00",
          "2023-04-27T00:00:00",
          "2023-04-28T00:00:00",
          "2023-04-29T00:00:00",
          "2023-04-30T00:00:00",
          "2023-05-01T00:00:00",
          "2023-05-02T00:00:00",
          "2023-05-03T00:00:00",
          "2023-05-04T00:00:00",
          "2023-05-05T00:00:00",
          "2023-05-06T00:00:00",
          "2023-05-07T00:00:00",
          "2023-05-08T00:00:00",
          "2023-05-09T00:00:00",
          "2023-05-10T00:00:00",
          "2023-05-11T00:00:00",
          "2023-05-12T00:00:00",
          "2023-05-13T00:00:00",
          "2023-05-14T00:00:00",
          "2023-05-15T00:00:00",
          "2023-05-16T00:00:00",
          "2023-05-17T00:00:00",
          "2023-05-18T00:00:00",
          "2023-05-19T00:00:00",
          "2023-05-20T00:00:00",
          "2023-05-21T00:00:00",
          "2023-05-22T00:00:00",
          "2023-05-23T00:00:00",
          "2023-05-24T00:00:00",
          "2023-05-25T00:00:00",
          "2023-05-26T00:00:00",
          "2023-05-27T00:00:00",
          "2023-05-28T00:00:00",
          "2023-05-29T00:00:00",
          "2023-05-30T00:00:00",
          "2023-05-31T00:00:00",
          "2023-06-01T00:00:00",
          "2023-06-02T00:00:00",
          "2023-06-03T00:00:00",
          "2023-06-04T00:00:00",
          "2023-06-05T00:00:00",
          "2023-06-06T00:00:00",
          "2023-06-07T00:00:00",
          "2023-06-08T00:00:00",
          "2023-06-09T00:00:00",
          "2023-06-10T00:00:00",
          "2023-06-11T00:00:00",
          "2023-06-12T00:00:00",
          "2023-06-13T00:00:00",
          "2023-06-14T00:00:00",
          "2023-06-15T00:00:00",
          "2023-06-16T00:00:00",
          "2023-06-17T00:00:00",
          "2023-06-18T00:00:00",
          "2023-06-19T00:00:00",
          "2023-06-20T00:00:00",
          "2023-06-21T00:00:00",
          "2023-06-22T00:00:00",
          "2023-06-23T00:00:00",
          "2023-06-24T00:00:00",
          "2023-06-25T00:00:00",
          "2023-06-26T00:00:00",
          "2023-06-27T00:00:00",
          "2023-06-28T00:00:00",
          "2023-06-29T00:00:00",
          "2023-06-30T00:00:00",
          "2023-07-01T00:00:00",
          "2023-07-02T00:00:00",
          "2023-07-03T00:00:00",
          "2023-07-04T00:00:00",
          "2023-07-05T00:00:00",
          "2023-07-06T00:00:00",
          "2023-07-07T00:00:00",
          "2023-07-08T00:00:00",
          "2023-07-09T00:00:00",
          "2023-07-10T00:00:00",
          "2023-07-11T00:00:00",
          "2023-07-12T00:00:00",
          "2023-07-13T00:00:00",
          "2023-07-14T00:00:00",
          "2023-07-15T00:00:00",
          "2023-07-16T00:00:00",
          "2023-07-17T00:00:00",
          "2023-07-18T00:00:00",
          "2023-07-19T00:00:00",
          "2023-07-20T00:00:00",
          "2023-07-21T00:00:00",
          "2023-07-22T00:00:00",
          "2023-07-23T00:00:00",
          "2023-07-24T00:00:00",
          "2023-07-25T00:00:00",
          "2023-07-26T00:00:00",
          "2023-07-27T00:00:00",
          "2023-07-28T00:00:00",
          "2023-07-29T00:00:00",
          "2023-07-30T00:00:00",
          "2023-07-31T00:00:00",
          "2023-08-01T00:00:00",
          "2023-08-02T00:00:00",
          "2023-08-03T00:00:00",
          "2023-08-04T00:00:00",
          "2023-08-05T00:00:00",
          "2023-08-06T00:00:00",
          "2023-08-07T00:00:00",
          "2023-08-08T00:00:00",
          "2023-08-09T00:00:00",
          "2023-08-10T00:00:00",
          "2023-08-11T00:00:00",
          "2023-08-12T00:00:00",
          "2023-08-13T00:00:00",
          "2023-08-14T00:00:00",
          "2023-08-15T00:00:00",
          "2023-08-16T00:00:00",
          "2023-08-17T00:00:00",
          "2023-08-18T00:00:00",
          "2023-08-19T00:00:00",
          "2023-08-20T00:00:00",
          "2023-08-21T00:00:00",
          "2023-08-22T00:00:00",
          "2023-08-23T00:00:00",
          "2023-08-24T00:00:00",
          "2023-08-25T00:00:00",
          "2023-08-26T00:00:00",
          "2023-08-27T00:00:00",
          "2023-08-28T00:00:00",
          "2023-08-29T00:00:00",
          "2023-08-30T00:00:00",
          "2023-08-31T00:00:00",
          "2023-09-01T00:00:00",
          "2023-09-02T00:00:00",
          "2023-09-03T00:00:00",
          "2023-09-04T00:00:00",
          "2023-09-05T00:00:00",
          "2023-09-06T00:00:00",
          "2023-09-07T00:00:00",
          "2023-09-08T00:00:00",
          "2023-09-09T00:00:00",
          "2023-09-10T00:00:00",
          "2023-09-11T00:00:00",
          "2023-09-12T00:00:00",
          "2023-09-13T00:00:00",
          "2023-09-14T00:00:00",
          "2023-09-15T00:00:00",
          "2023-09-16T00:00:00",
          "2023-09-17T00:00:00",
          "2023-09-18T00:00:00",
          "2023-09-19T00:00:00",
          "2023-09-20T00:00:00",
          "2023-09-21T00:00:00",
          "2023-09-22T00:00:00",
          "2023-09-23T00:00:00",
          "2023-09-24T00:00:00",
          "2023-09-25T00:00:00",
          "2023-09-26T00:00:00",
          "2023-09-27T00:00:00",
          "2023-09-28T00:00:00",
          "2023-09-29T00:00:00",
          "2023-09-30T00:00:00",
          "2023-10-01T00:00:00",
          "2023-10-02T00:00:00",
          "2023-10-03T00:00:00",
          "2023-10-04T00:00:00",
          "2023-10-05T00:00:00",
          "2023-10-06T00:00:00",
          "2023-10-07T00:00:00",
          "2023-10-08T00:00:00",
          "2023-10-09T00:00:00",
          "2023-10-10T00:00:00",
          "2023-10-11T00:00:00",
          "2023-10-12T00:00:00",
          "2023-10-13T00:00:00",
          "2023-10-14T00:00:00",
          "2023-10-15T00:00:00",
          "2023-10-16T00:00:00",
          "2023-10-17T00:00:00",
          "2023-10-18T00:00:00",
          "2023-10-19T00:00:00",
          "2023-10-20T00:00:00",
          "2023-10-21T00:00:00",
          "2023-10-22T00:00:00",
          "2023-10-23T00:00:00",
          "2023-10-24T00:00:00",
          "2023-10-25T00:00:00",
          "2023-10-26T00:00:00",
          "2023-10-27T00:00:00",
          "2023-10-28T00:00:00",
          "2023-10-29T00:00:00",
          "2023-10-30T00:00:00",
          "2023-10-31T00:00:00"
         ],
         "xaxis": "x",
         "y": [
          22734.81,
          22298.87,
          21473.84,
          25045.45,
          32881.26,
          30442.76,
          28953.29,
          26937.25,
          19502.12,
          28397.56,
          16252.2,
          32390.37,
          28641.79,
          17312.12,
          28077.52,
          25181.14,
          31996.7,
          18080.92,
          15157.74,
          18794.26,
          22908.96,
          29185.85,
          25570.24,
          19981.59,
          27152.44,
          19587.52,
          25835.49,
          27761.58,
          30121.38,
          23212.4,
          25884.47,
          24783.08,
          22640.1,
          21051.09,
          12152,
          28954.41,
          35049.87,
          25392.4,
          15611.48,
          35272.75,
          31470.15,
          25675.63,
          27731.47,
          29907.69,
          31786.21,
          20576.66,
          17403.35,
          25814.39,
          22827.25,
          27827.96,
          26919.68,
          28175.18,
          26428.92,
          27795.5,
          34738.5,
          27037.44,
          19612.34,
          31360.45,
          30280.15,
          23342.85,
          26874.35,
          24972.46,
          27437.06,
          29633.84,
          28332.51,
          28857.72,
          27487.25,
          28176.78,
          26450.37,
          30705.03,
          24774.34,
          18634.25,
          30262.38,
          21423.98,
          16319.34,
          29450.33,
          20263.63,
          24337.08,
          26559.64,
          29225.26,
          26134.32,
          29087.24,
          23255.9,
          28904.21,
          33356.88,
          24759.28,
          20227.95,
          24814.77,
          23774.31,
          26886.4,
          30575.64,
          26488.75,
          22979.52,
          19019.16,
          27821.88,
          30768.1,
          29233.58,
          20653.97,
          21868.44,
          26417.53,
          24736.08,
          26094.41,
          21401.54,
          25903.59,
          26705.38,
          29299.83,
          23967.15,
          33337.87,
          22141.31,
          26582.7,
          26293.36,
          14702.36,
          30828.29,
          23073.64,
          22995.41,
          19920.73,
          16592.11,
          26493.79,
          32814.29,
          25128.52,
          22642.65,
          25680.44,
          25691.99,
          23492.7,
          25502.29,
          22272.17,
          30306.14,
          28145.88,
          26311.46,
          26651.21,
          29802.22,
          29579.58,
          30625.76,
          30073.01,
          17403.65,
          26759.45,
          29650.13,
          22558.37,
          23417.88,
          19927.45,
          21768.94,
          20599.14,
          35913.82,
          29915.22,
          21147.97,
          21547.33,
          25228.22,
          25720.03,
          24043.4,
          26251.44,
          26069.29,
          30691.83,
          24778.77,
          22070.97,
          26733.08,
          28938.4,
          21920,
          25659.78,
          19153.99,
          24827.82,
          32485.81,
          21222.4,
          23554.31,
          27783.86,
          28980.07,
          28026.37,
          25040.84,
          25922.63,
          20505.61,
          18388.45,
          28065.56,
          24510.68,
          20970.25,
          25520.2,
          20335.76,
          27475.73,
          35685.24,
          28527.16,
          27019.8,
          21961.96,
          23189.88,
          20895.83,
          17188.31,
          22795.29,
          27812.83,
          21874.8,
          32682.84,
          25084.31,
          27319.49,
          28833.83,
          25256.35,
          19436.79,
          21032.13,
          27078.73,
          21845.29,
          21636.77,
          20548.64,
          30794.88,
          23968.3,
          30078.47,
          23228.64,
          25972.18,
          19766.58,
          22126.17,
          24115.21,
          16135.4,
          18084.28,
          29632.44,
          34552.6,
          21442.7,
          19494.19,
          19968.15,
          23624.31,
          21049.84,
          14084.04,
          24668.34,
          11987.17,
          35666.7,
          31474.36,
          22523.08,
          27257.35,
          19110.18,
          26960.22,
          21817.13,
          21213.9,
          28052.72,
          22501.96,
          21392.91,
          24698.78,
          19782.76,
          30545.44,
          16133.75,
          31455.03,
          29690.92,
          18554.81,
          21139.33,
          25191.44,
          21413.89,
          21963.03,
          27549.85,
          23578.8,
          26783.59,
          22367.75,
          20438.81,
          19361.62,
          25384.83,
          28265.19,
          22834.66,
          28545,
          21045.82,
          24229.25,
          24317.91,
          26436.73,
          21043.04,
          18096.69,
          18653.59,
          26118.35,
          31219.56,
          33594.78,
          19844.68,
          27982.34,
          22271.71,
          20540.3,
          26682.92,
          27998.1,
          19559.1,
          26417.33,
          26727.46,
          19228.79,
          34279.82,
          23499.49,
          29037.23,
          25090.05,
          25653.4,
          26133.26,
          19291.01,
          33084.22,
          25188.77,
          33614.96,
          24724.15,
          24294.49,
          28621.98,
          28583.11,
          22397.47,
          29498.88,
          34489.35,
          27224.56,
          31204.44,
          29458.64,
          30761,
          16493.61,
          25723.16,
          21021.17,
          16313.95,
          20659.66,
          25868.25,
          23433.58,
          28611.07,
          26826.3,
          34139.21,
          23529.21,
          19931.48,
          17257.68,
          21997.69,
          36279.05,
          24680.11,
          28982.94,
          23576.32,
          25440.89,
          16721.26,
          30280.79,
          23516.86,
          27941.95,
          16088.57,
          25489.35,
          20213.43,
          21794.07,
          26506.1,
          21232.92
         ],
         "yaxis": "y"
        },
        {
         "mode": "lines",
         "name": "Predicted",
         "type": "scatter",
         "x": [
          "2022-12-17T00:00:00",
          "2022-12-18T00:00:00",
          "2022-12-19T00:00:00",
          "2022-12-20T00:00:00",
          "2022-12-21T00:00:00",
          "2022-12-22T00:00:00",
          "2022-12-23T00:00:00",
          "2022-12-24T00:00:00",
          "2022-12-25T00:00:00",
          "2022-12-26T00:00:00",
          "2022-12-27T00:00:00",
          "2022-12-28T00:00:00",
          "2022-12-29T00:00:00",
          "2022-12-30T00:00:00",
          "2022-12-31T00:00:00",
          "2023-01-01T00:00:00",
          "2023-01-02T00:00:00",
          "2023-01-03T00:00:00",
          "2023-01-04T00:00:00",
          "2023-01-05T00:00:00",
          "2023-01-06T00:00:00",
          "2023-01-07T00:00:00",
          "2023-01-08T00:00:00",
          "2023-01-09T00:00:00",
          "2023-01-10T00:00:00",
          "2023-01-11T00:00:00",
          "2023-01-12T00:00:00",
          "2023-01-13T00:00:00",
          "2023-01-14T00:00:00",
          "2023-01-15T00:00:00",
          "2023-01-16T00:00:00",
          "2023-01-17T00:00:00",
          "2023-01-18T00:00:00",
          "2023-01-19T00:00:00",
          "2023-01-20T00:00:00",
          "2023-01-21T00:00:00",
          "2023-01-22T00:00:00",
          "2023-01-23T00:00:00",
          "2023-01-24T00:00:00",
          "2023-01-25T00:00:00",
          "2023-01-26T00:00:00",
          "2023-01-27T00:00:00",
          "2023-01-28T00:00:00",
          "2023-01-29T00:00:00",
          "2023-01-30T00:00:00",
          "2023-01-31T00:00:00",
          "2023-02-01T00:00:00",
          "2023-02-02T00:00:00",
          "2023-02-03T00:00:00",
          "2023-02-04T00:00:00",
          "2023-02-05T00:00:00",
          "2023-02-06T00:00:00",
          "2023-02-07T00:00:00",
          "2023-02-08T00:00:00",
          "2023-02-09T00:00:00",
          "2023-02-10T00:00:00",
          "2023-02-11T00:00:00",
          "2023-02-12T00:00:00",
          "2023-02-13T00:00:00",
          "2023-02-14T00:00:00",
          "2023-02-15T00:00:00",
          "2023-02-16T00:00:00",
          "2023-02-17T00:00:00",
          "2023-02-18T00:00:00",
          "2023-02-19T00:00:00",
          "2023-02-20T00:00:00",
          "2023-02-21T00:00:00",
          "2023-02-22T00:00:00",
          "2023-02-23T00:00:00",
          "2023-02-24T00:00:00",
          "2023-02-25T00:00:00",
          "2023-02-26T00:00:00",
          "2023-02-27T00:00:00",
          "2023-02-28T00:00:00",
          "2023-03-01T00:00:00",
          "2023-03-02T00:00:00",
          "2023-03-03T00:00:00",
          "2023-03-04T00:00:00",
          "2023-03-05T00:00:00",
          "2023-03-06T00:00:00",
          "2023-03-07T00:00:00",
          "2023-03-08T00:00:00",
          "2023-03-09T00:00:00",
          "2023-03-10T00:00:00",
          "2023-03-11T00:00:00",
          "2023-03-12T00:00:00",
          "2023-03-13T00:00:00",
          "2023-03-14T00:00:00",
          "2023-03-15T00:00:00",
          "2023-03-16T00:00:00",
          "2023-03-17T00:00:00",
          "2023-03-18T00:00:00",
          "2023-03-19T00:00:00",
          "2023-03-20T00:00:00",
          "2023-03-21T00:00:00",
          "2023-03-22T00:00:00",
          "2023-03-23T00:00:00",
          "2023-03-24T00:00:00",
          "2023-03-25T00:00:00",
          "2023-03-26T00:00:00",
          "2023-03-27T00:00:00",
          "2023-03-28T00:00:00",
          "2023-03-29T00:00:00",
          "2023-03-30T00:00:00",
          "2023-03-31T00:00:00",
          "2023-04-01T00:00:00",
          "2023-04-02T00:00:00",
          "2023-04-03T00:00:00",
          "2023-04-04T00:00:00",
          "2023-04-05T00:00:00",
          "2023-04-06T00:00:00",
          "2023-04-07T00:00:00",
          "2023-04-08T00:00:00",
          "2023-04-09T00:00:00",
          "2023-04-10T00:00:00",
          "2023-04-11T00:00:00",
          "2023-04-12T00:00:00",
          "2023-04-13T00:00:00",
          "2023-04-14T00:00:00",
          "2023-04-15T00:00:00",
          "2023-04-16T00:00:00",
          "2023-04-17T00:00:00",
          "2023-04-18T00:00:00",
          "2023-04-19T00:00:00",
          "2023-04-20T00:00:00",
          "2023-04-21T00:00:00",
          "2023-04-22T00:00:00",
          "2023-04-23T00:00:00",
          "2023-04-24T00:00:00",
          "2023-04-25T00:00:00",
          "2023-04-26T00:00:00",
          "2023-04-27T00:00:00",
          "2023-04-28T00:00:00",
          "2023-04-29T00:00:00",
          "2023-04-30T00:00:00",
          "2023-05-01T00:00:00",
          "2023-05-02T00:00:00",
          "2023-05-03T00:00:00",
          "2023-05-04T00:00:00",
          "2023-05-05T00:00:00",
          "2023-05-06T00:00:00",
          "2023-05-07T00:00:00",
          "2023-05-08T00:00:00",
          "2023-05-09T00:00:00",
          "2023-05-10T00:00:00",
          "2023-05-11T00:00:00",
          "2023-05-12T00:00:00",
          "2023-05-13T00:00:00",
          "2023-05-14T00:00:00",
          "2023-05-15T00:00:00",
          "2023-05-16T00:00:00",
          "2023-05-17T00:00:00",
          "2023-05-18T00:00:00",
          "2023-05-19T00:00:00",
          "2023-05-20T00:00:00",
          "2023-05-21T00:00:00",
          "2023-05-22T00:00:00",
          "2023-05-23T00:00:00",
          "2023-05-24T00:00:00",
          "2023-05-25T00:00:00",
          "2023-05-26T00:00:00",
          "2023-05-27T00:00:00",
          "2023-05-28T00:00:00",
          "2023-05-29T00:00:00",
          "2023-05-30T00:00:00",
          "2023-05-31T00:00:00",
          "2023-06-01T00:00:00",
          "2023-06-02T00:00:00",
          "2023-06-03T00:00:00",
          "2023-06-04T00:00:00",
          "2023-06-05T00:00:00",
          "2023-06-06T00:00:00",
          "2023-06-07T00:00:00",
          "2023-06-08T00:00:00",
          "2023-06-09T00:00:00",
          "2023-06-10T00:00:00",
          "2023-06-11T00:00:00",
          "2023-06-12T00:00:00",
          "2023-06-13T00:00:00",
          "2023-06-14T00:00:00",
          "2023-06-15T00:00:00",
          "2023-06-16T00:00:00",
          "2023-06-17T00:00:00",
          "2023-06-18T00:00:00",
          "2023-06-19T00:00:00",
          "2023-06-20T00:00:00",
          "2023-06-21T00:00:00",
          "2023-06-22T00:00:00",
          "2023-06-23T00:00:00",
          "2023-06-24T00:00:00",
          "2023-06-25T00:00:00",
          "2023-06-26T00:00:00",
          "2023-06-27T00:00:00",
          "2023-06-28T00:00:00",
          "2023-06-29T00:00:00",
          "2023-06-30T00:00:00",
          "2023-07-01T00:00:00",
          "2023-07-02T00:00:00",
          "2023-07-03T00:00:00",
          "2023-07-04T00:00:00",
          "2023-07-05T00:00:00",
          "2023-07-06T00:00:00",
          "2023-07-07T00:00:00",
          "2023-07-08T00:00:00",
          "2023-07-09T00:00:00",
          "2023-07-10T00:00:00",
          "2023-07-11T00:00:00",
          "2023-07-12T00:00:00",
          "2023-07-13T00:00:00",
          "2023-07-14T00:00:00",
          "2023-07-15T00:00:00",
          "2023-07-16T00:00:00",
          "2023-07-17T00:00:00",
          "2023-07-18T00:00:00",
          "2023-07-19T00:00:00",
          "2023-07-20T00:00:00",
          "2023-07-21T00:00:00",
          "2023-07-22T00:00:00",
          "2023-07-23T00:00:00",
          "2023-07-24T00:00:00",
          "2023-07-25T00:00:00",
          "2023-07-26T00:00:00",
          "2023-07-27T00:00:00",
          "2023-07-28T00:00:00",
          "2023-07-29T00:00:00",
          "2023-07-30T00:00:00",
          "2023-07-31T00:00:00",
          "2023-08-01T00:00:00",
          "2023-08-02T00:00:00",
          "2023-08-03T00:00:00",
          "2023-08-04T00:00:00",
          "2023-08-05T00:00:00",
          "2023-08-06T00:00:00",
          "2023-08-07T00:00:00",
          "2023-08-08T00:00:00",
          "2023-08-09T00:00:00",
          "2023-08-10T00:00:00",
          "2023-08-11T00:00:00",
          "2023-08-12T00:00:00",
          "2023-08-13T00:00:00",
          "2023-08-14T00:00:00",
          "2023-08-15T00:00:00",
          "2023-08-16T00:00:00",
          "2023-08-17T00:00:00",
          "2023-08-18T00:00:00",
          "2023-08-19T00:00:00",
          "2023-08-20T00:00:00",
          "2023-08-21T00:00:00",
          "2023-08-22T00:00:00",
          "2023-08-23T00:00:00",
          "2023-08-24T00:00:00",
          "2023-08-25T00:00:00",
          "2023-08-26T00:00:00",
          "2023-08-27T00:00:00",
          "2023-08-28T00:00:00",
          "2023-08-29T00:00:00",
          "2023-08-30T00:00:00",
          "2023-08-31T00:00:00",
          "2023-09-01T00:00:00",
          "2023-09-02T00:00:00",
          "2023-09-03T00:00:00",
          "2023-09-04T00:00:00",
          "2023-09-05T00:00:00",
          "2023-09-06T00:00:00",
          "2023-09-07T00:00:00",
          "2023-09-08T00:00:00",
          "2023-09-09T00:00:00",
          "2023-09-10T00:00:00",
          "2023-09-11T00:00:00",
          "2023-09-12T00:00:00",
          "2023-09-13T00:00:00",
          "2023-09-14T00:00:00",
          "2023-09-15T00:00:00",
          "2023-09-16T00:00:00",
          "2023-09-17T00:00:00",
          "2023-09-18T00:00:00",
          "2023-09-19T00:00:00",
          "2023-09-20T00:00:00",
          "2023-09-21T00:00:00",
          "2023-09-22T00:00:00",
          "2023-09-23T00:00:00",
          "2023-09-24T00:00:00",
          "2023-09-25T00:00:00",
          "2023-09-26T00:00:00",
          "2023-09-27T00:00:00",
          "2023-09-28T00:00:00",
          "2023-09-29T00:00:00",
          "2023-09-30T00:00:00",
          "2023-10-01T00:00:00",
          "2023-10-02T00:00:00",
          "2023-10-03T00:00:00",
          "2023-10-04T00:00:00",
          "2023-10-05T00:00:00",
          "2023-10-06T00:00:00",
          "2023-10-07T00:00:00",
          "2023-10-08T00:00:00",
          "2023-10-09T00:00:00",
          "2023-10-10T00:00:00",
          "2023-10-11T00:00:00",
          "2023-10-12T00:00:00",
          "2023-10-13T00:00:00",
          "2023-10-14T00:00:00",
          "2023-10-15T00:00:00",
          "2023-10-16T00:00:00",
          "2023-10-17T00:00:00",
          "2023-10-18T00:00:00",
          "2023-10-19T00:00:00",
          "2023-10-20T00:00:00",
          "2023-10-21T00:00:00",
          "2023-10-22T00:00:00",
          "2023-10-23T00:00:00",
          "2023-10-24T00:00:00",
          "2023-10-25T00:00:00",
          "2023-10-26T00:00:00",
          "2023-10-27T00:00:00",
          "2023-10-28T00:00:00",
          "2023-10-29T00:00:00",
          "2023-10-30T00:00:00",
          "2023-10-31T00:00:00"
         ],
         "y": [
          31720.788808892743,
          32763.308453194433,
          32865.64906578874,
          32971.26279451735,
          33047.350448883975,
          33109.69255678826,
          33162.75007411066,
          33208.2026818603,
          33247.19552065594,
          33280.65177133174,
          33309.358131292596,
          33333.99286900773,
          33355.13391850644,
          33373.27710328682,
          33388.8415813323,
          33402.19830907644,
          33413.664182921726,
          33423.5016710663,
          33431.9415766013,
          33439.18199624777,
          33445.39451896782,
          33450.72717400908,
          33455.30267280385,
          33459.2294295119,
          33462.59969346245,
          33465.492041088684,
          33467.975942859266,
          33470.10708676957,
          33471.9328166818,
          33473.49797826619,
          33474.84462202018,
          33475.99878493595,
          33476.985364545944,
          33477.83738937481,
          33478.57148266217,
          33479.19796718826,
          33479.73447267628,
          33480.19361203432,
          33480.58569101323,
          33480.92464055003,
          33481.21911704431,
          33481.47185346159,
          33481.68448059462,
          33481.86547021275,
          33482.02597975939,
          33482.1642167372,
          33482.282229769604,
          33482.380100243645,
          33482.46211212245,
          33482.5355160585,
          33482.59803902359,
          33482.65057055011,
          33482.69694816306,
          33482.737291019424,
          33482.77408196743,
          33482.805075536875,
          33482.83241262151,
          33482.85206915792,
          33482.868499759286,
          33482.887484577135,
          33482.89914081135,
          33482.90978247811,
          33482.920321627054,
          33482.92582982662,
          33482.93363834361,
          33482.94049358726,
          33482.94748339758,
          33482.953781928016,
          33482.95473074731,
          33482.959660200344,
          33482.964203523676,
          33482.96731440961,
          33482.97213838267,
          33482.97308470293,
          33482.969505125584,
          33482.970722016544,
          33482.973411877574,
          33482.97391798097,
          33482.97581552205,
          33482.978145534995,
          33482.97677147601,
          33482.973629336695,
          33482.976561198244,
          33482.97648068441,
          33482.976793416354,
          33482.97657840072,
          33482.97782297505,
          33482.982759654784,
          33482.978944306706,
          33482.98006488552,
          33482.9823168914,
          33482.98145789396,
          33482.981054799944,
          33482.97904640625,
          33482.97645852719,
          33482.97743510346,
          33482.98319870716,
          33482.98601808928,
          33482.982582613375,
          33482.98255891376,
          33482.98416277574,
          33482.97851733464,
          33482.97733313757,
          33482.979858511724,
          33482.980945971525,
          33482.98515672397,
          33482.984815575495,
          33482.98070259289,
          33482.98113085886,
          33482.97955991909,
          33482.97949522437,
          33482.982078563844,
          33482.983708321844,
          33482.98327509457,
          33482.98121350612,
          33482.98271934319,
          33482.98432053367,
          33482.98230794454,
          33482.98019153554,
          33482.97959294497,
          33482.97694434782,
          33482.97681946509,
          33482.9783310597,
          33482.97625807815,
          33482.97981469271,
          33482.98250912999,
          33482.97741420877,
          33482.97884006266,
          33482.981459205934,
          33482.97737294529,
          33482.980901318806,
          33482.984119867164,
          33482.98423868388,
          33482.986396969194,
          33482.984425433846,
          33482.97922068076,
          33482.97904755547,
          33482.97952089778,
          33482.97792994012,
          33482.98306791965,
          33482.98217851204,
          33482.979579420215,
          33482.98107735559,
          33482.97953442858,
          33482.98052517439,
          33482.98262616251,
          33482.983215520035,
          33482.983787378114,
          33482.98175415099,
          33482.980145090514,
          33482.98216250256,
          33482.9811707312,
          33482.98166025763,
          33482.983763160126,
          33482.98330878025,
          33482.98384897107,
          33482.98232079774,
          33482.98072311914,
          33482.98118203853,
          33482.980134940924,
          33482.97800800713,
          33482.97843477215,
          33482.98204367617,
          33482.98215009869,
          33482.981135278715,
          33482.98216603439,
          33482.982190866496,
          33482.97961159147,
          33482.97848264696,
          33482.9810232147,
          33482.982112734404,
          33482.984763772925,
          33482.98280427968,
          33482.97861483359,
          33482.979521180176,
          33482.980539385535,
          33482.979517867105,
          33482.97896352282,
          33482.98100912212,
          33482.980544010265,
          33482.97949597137,
          33482.98102614497,
          33482.979504087736,
          33482.97893831158,
          33482.98099018269,
          33482.98000261504,
          33482.97686567517,
          33482.97830942287,
          33482.983517000044,
          33482.98057154322,
          33482.97792088486,
          33482.978881604555,
          33482.97886500917,
          33482.97990502055,
          33482.97992990725,
          33482.98098159043,
          33482.98102250032,
          33482.98103886697,
          33482.97897640224,
          33482.97838557872,
          33482.9799127905,
          33482.97682222957,
          33482.97671894149,
          33482.980322804724,
          33482.980936356995,
          33482.98046782111,
          33482.979957886564,
          33482.97838784513,
          33482.980408386546,
          33482.985142991834,
          33482.983763736745,
          33482.98014663732,
          33482.98161252993,
          33482.982678634406,
          33482.982717645085,
          33482.98118932943,
          33482.97958306517,
          33482.980044946205,
          33482.983664836065,
          33482.986910736334,
          33482.98082292145,
          33482.978594765154,
          33482.98213089511,
          33482.979079649755,
          33482.9763891131,
          33482.979389027416,
          33482.979954481554,
          33482.97685320505,
          33482.97726969454,
          33482.978805190294,
          33482.9777902913,
          33482.981915117496,
          33482.984133284124,
          33482.98008435934,
          33482.97688891068,
          33482.980391179095,
          33482.98255509975,
          33482.98159206137,
          33482.981614011645,
          33482.9795356097,
          33482.980516547825,
          33482.980012188695,
          33482.97999149152,
          33482.982590202955,
          33482.981636499164,
          33482.98163035801,
          33482.98112780481,
          33482.9795453919,
          33482.980017601556,
          33482.97948837573,
          33482.98154313085,
          33482.98212695601,
          33482.97852311289,
          33482.97633793772,
          33482.97882357557,
          33482.98197933017,
          33482.98000890337,
          33482.98049345906,
          33482.983114724666,
          33482.98112286073,
          33482.982650922124,
          33482.9811546337,
          33482.977989381354,
          33482.97996756715,
          33482.98102567348,
          33482.98106508043,
          33482.979000293075,
          33482.97841279904,
          33482.98045034647,
          33482.982055991495,
          33482.98368360695,
          33482.9796158418,
          33482.97742039561,
          33482.98200689388,
          33482.982114960236,
          33482.981630894836,
          33482.981122298246,
          33482.9805837991,
          33482.98057024435,
          33482.977441033516,
          33482.97940321929,
          33482.98203712519,
          33482.981594168865,
          33482.98110070086,
          33482.98160730024,
          33482.981635142845,
          33482.98163505462,
          33482.984250480564,
          33482.983823687384,
          33482.980212500115,
          33482.97750621369,
          33482.975824154244,
          33482.97518509241,
          33482.9777080595,
          33482.97930607765,
          33482.97831862256,
          33482.9824510562,
          33482.9846779628,
          33482.98270847249,
          33482.98271373303,
          33482.983239024245,
          33482.98275892525,
          33482.98067681249,
          33482.981658119206,
          33482.982712808014,
          33482.98119370284,
          33482.97803862489,
          33482.978436669335,
          33482.981524887415,
          33482.98420185639,
          33482.983803702904,
          33482.98123334989,
          33482.98117105945,
          33482.98219037557,
          33482.98065968461,
          33482.98164930216,
          33482.98583643249,
          33482.98286569167,
          33482.97865724485
         ]
        }
       ],
       "layout": {
        "legend": {
         "title": {
          "text": "variable"
         },
         "tracegroupgap": 0
        },
        "template": {
         "data": {
          "bar": [
           {
            "error_x": {
             "color": "#2a3f5f"
            },
            "error_y": {
             "color": "#2a3f5f"
            },
            "marker": {
             "line": {
              "color": "#E5ECF6",
              "width": 0.5
             },
             "pattern": {
              "fillmode": "overlay",
              "size": 10,
              "solidity": 0.2
             }
            },
            "type": "bar"
           }
          ],
          "barpolar": [
           {
            "marker": {
             "line": {
              "color": "#E5ECF6",
              "width": 0.5
             },
             "pattern": {
              "fillmode": "overlay",
              "size": 10,
              "solidity": 0.2
             }
            },
            "type": "barpolar"
           }
          ],
          "carpet": [
           {
            "aaxis": {
             "endlinecolor": "#2a3f5f",
             "gridcolor": "white",
             "linecolor": "white",
             "minorgridcolor": "white",
             "startlinecolor": "#2a3f5f"
            },
            "baxis": {
             "endlinecolor": "#2a3f5f",
             "gridcolor": "white",
             "linecolor": "white",
             "minorgridcolor": "white",
             "startlinecolor": "#2a3f5f"
            },
            "type": "carpet"
           }
          ],
          "choropleth": [
           {
            "colorbar": {
             "outlinewidth": 0,
             "ticks": ""
            },
            "type": "choropleth"
           }
          ],
          "contour": [
           {
            "colorbar": {
             "outlinewidth": 0,
             "ticks": ""
            },
            "colorscale": [
             [
              0,
              "#0d0887"
             ],
             [
              0.1111111111111111,
              "#46039f"
             ],
             [
              0.2222222222222222,
              "#7201a8"
             ],
             [
              0.3333333333333333,
              "#9c179e"
             ],
             [
              0.4444444444444444,
              "#bd3786"
             ],
             [
              0.5555555555555556,
              "#d8576b"
             ],
             [
              0.6666666666666666,
              "#ed7953"
             ],
             [
              0.7777777777777778,
              "#fb9f3a"
             ],
             [
              0.8888888888888888,
              "#fdca26"
             ],
             [
              1,
              "#f0f921"
             ]
            ],
            "type": "contour"
           }
          ],
          "contourcarpet": [
           {
            "colorbar": {
             "outlinewidth": 0,
             "ticks": ""
            },
            "type": "contourcarpet"
           }
          ],
          "heatmap": [
           {
            "colorbar": {
             "outlinewidth": 0,
             "ticks": ""
            },
            "colorscale": [
             [
              0,
              "#0d0887"
             ],
             [
              0.1111111111111111,
              "#46039f"
             ],
             [
              0.2222222222222222,
              "#7201a8"
             ],
             [
              0.3333333333333333,
              "#9c179e"
             ],
             [
              0.4444444444444444,
              "#bd3786"
             ],
             [
              0.5555555555555556,
              "#d8576b"
             ],
             [
              0.6666666666666666,
              "#ed7953"
             ],
             [
              0.7777777777777778,
              "#fb9f3a"
             ],
             [
              0.8888888888888888,
              "#fdca26"
             ],
             [
              1,
              "#f0f921"
             ]
            ],
            "type": "heatmap"
           }
          ],
          "heatmapgl": [
           {
            "colorbar": {
             "outlinewidth": 0,
             "ticks": ""
            },
            "colorscale": [
             [
              0,
              "#0d0887"
             ],
             [
              0.1111111111111111,
              "#46039f"
             ],
             [
              0.2222222222222222,
              "#7201a8"
             ],
             [
              0.3333333333333333,
              "#9c179e"
             ],
             [
              0.4444444444444444,
              "#bd3786"
             ],
             [
              0.5555555555555556,
              "#d8576b"
             ],
             [
              0.6666666666666666,
              "#ed7953"
             ],
             [
              0.7777777777777778,
              "#fb9f3a"
             ],
             [
              0.8888888888888888,
              "#fdca26"
             ],
             [
              1,
              "#f0f921"
             ]
            ],
            "type": "heatmapgl"
           }
          ],
          "histogram": [
           {
            "marker": {
             "pattern": {
              "fillmode": "overlay",
              "size": 10,
              "solidity": 0.2
             }
            },
            "type": "histogram"
           }
          ],
          "histogram2d": [
           {
            "colorbar": {
             "outlinewidth": 0,
             "ticks": ""
            },
            "colorscale": [
             [
              0,
              "#0d0887"
             ],
             [
              0.1111111111111111,
              "#46039f"
             ],
             [
              0.2222222222222222,
              "#7201a8"
             ],
             [
              0.3333333333333333,
              "#9c179e"
             ],
             [
              0.4444444444444444,
              "#bd3786"
             ],
             [
              0.5555555555555556,
              "#d8576b"
             ],
             [
              0.6666666666666666,
              "#ed7953"
             ],
             [
              0.7777777777777778,
              "#fb9f3a"
             ],
             [
              0.8888888888888888,
              "#fdca26"
             ],
             [
              1,
              "#f0f921"
             ]
            ],
            "type": "histogram2d"
           }
          ],
          "histogram2dcontour": [
           {
            "colorbar": {
             "outlinewidth": 0,
             "ticks": ""
            },
            "colorscale": [
             [
              0,
              "#0d0887"
             ],
             [
              0.1111111111111111,
              "#46039f"
             ],
             [
              0.2222222222222222,
              "#7201a8"
             ],
             [
              0.3333333333333333,
              "#9c179e"
             ],
             [
              0.4444444444444444,
              "#bd3786"
             ],
             [
              0.5555555555555556,
              "#d8576b"
             ],
             [
              0.6666666666666666,
              "#ed7953"
             ],
             [
              0.7777777777777778,
              "#fb9f3a"
             ],
             [
              0.8888888888888888,
              "#fdca26"
             ],
             [
              1,
              "#f0f921"
             ]
            ],
            "type": "histogram2dcontour"
           }
          ],
          "mesh3d": [
           {
            "colorbar": {
             "outlinewidth": 0,
             "ticks": ""
            },
            "type": "mesh3d"
           }
          ],
          "parcoords": [
           {
            "line": {
             "colorbar": {
              "outlinewidth": 0,
              "ticks": ""
             }
            },
            "type": "parcoords"
           }
          ],
          "pie": [
           {
            "automargin": true,
            "type": "pie"
           }
          ],
          "scatter": [
           {
            "fillpattern": {
             "fillmode": "overlay",
             "size": 10,
             "solidity": 0.2
            },
            "type": "scatter"
           }
          ],
          "scatter3d": [
           {
            "line": {
             "colorbar": {
              "outlinewidth": 0,
              "ticks": ""
             }
            },
            "marker": {
             "colorbar": {
              "outlinewidth": 0,
              "ticks": ""
             }
            },
            "type": "scatter3d"
           }
          ],
          "scattercarpet": [
           {
            "marker": {
             "colorbar": {
              "outlinewidth": 0,
              "ticks": ""
             }
            },
            "type": "scattercarpet"
           }
          ],
          "scattergeo": [
           {
            "marker": {
             "colorbar": {
              "outlinewidth": 0,
              "ticks": ""
             }
            },
            "type": "scattergeo"
           }
          ],
          "scattergl": [
           {
            "marker": {
             "colorbar": {
              "outlinewidth": 0,
              "ticks": ""
             }
            },
            "type": "scattergl"
           }
          ],
          "scattermapbox": [
           {
            "marker": {
             "colorbar": {
              "outlinewidth": 0,
              "ticks": ""
             }
            },
            "type": "scattermapbox"
           }
          ],
          "scatterpolar": [
           {
            "marker": {
             "colorbar": {
              "outlinewidth": 0,
              "ticks": ""
             }
            },
            "type": "scatterpolar"
           }
          ],
          "scatterpolargl": [
           {
            "marker": {
             "colorbar": {
              "outlinewidth": 0,
              "ticks": ""
             }
            },
            "type": "scatterpolargl"
           }
          ],
          "scatterternary": [
           {
            "marker": {
             "colorbar": {
              "outlinewidth": 0,
              "ticks": ""
             }
            },
            "type": "scatterternary"
           }
          ],
          "surface": [
           {
            "colorbar": {
             "outlinewidth": 0,
             "ticks": ""
            },
            "colorscale": [
             [
              0,
              "#0d0887"
             ],
             [
              0.1111111111111111,
              "#46039f"
             ],
             [
              0.2222222222222222,
              "#7201a8"
             ],
             [
              0.3333333333333333,
              "#9c179e"
             ],
             [
              0.4444444444444444,
              "#bd3786"
             ],
             [
              0.5555555555555556,
              "#d8576b"
             ],
             [
              0.6666666666666666,
              "#ed7953"
             ],
             [
              0.7777777777777778,
              "#fb9f3a"
             ],
             [
              0.8888888888888888,
              "#fdca26"
             ],
             [
              1,
              "#f0f921"
             ]
            ],
            "type": "surface"
           }
          ],
          "table": [
           {
            "cells": {
             "fill": {
              "color": "#EBF0F8"
             },
             "line": {
              "color": "white"
             }
            },
            "header": {
             "fill": {
              "color": "#C8D4E3"
             },
             "line": {
              "color": "white"
             }
            },
            "type": "table"
           }
          ]
         },
         "layout": {
          "annotationdefaults": {
           "arrowcolor": "#2a3f5f",
           "arrowhead": 0,
           "arrowwidth": 1
          },
          "autotypenumbers": "strict",
          "coloraxis": {
           "colorbar": {
            "outlinewidth": 0,
            "ticks": ""
           }
          },
          "colorscale": {
           "diverging": [
            [
             0,
             "#8e0152"
            ],
            [
             0.1,
             "#c51b7d"
            ],
            [
             0.2,
             "#de77ae"
            ],
            [
             0.3,
             "#f1b6da"
            ],
            [
             0.4,
             "#fde0ef"
            ],
            [
             0.5,
             "#f7f7f7"
            ],
            [
             0.6,
             "#e6f5d0"
            ],
            [
             0.7,
             "#b8e186"
            ],
            [
             0.8,
             "#7fbc41"
            ],
            [
             0.9,
             "#4d9221"
            ],
            [
             1,
             "#276419"
            ]
           ],
           "sequential": [
            [
             0,
             "#0d0887"
            ],
            [
             0.1111111111111111,
             "#46039f"
            ],
            [
             0.2222222222222222,
             "#7201a8"
            ],
            [
             0.3333333333333333,
             "#9c179e"
            ],
            [
             0.4444444444444444,
             "#bd3786"
            ],
            [
             0.5555555555555556,
             "#d8576b"
            ],
            [
             0.6666666666666666,
             "#ed7953"
            ],
            [
             0.7777777777777778,
             "#fb9f3a"
            ],
            [
             0.8888888888888888,
             "#fdca26"
            ],
            [
             1,
             "#f0f921"
            ]
           ],
           "sequentialminus": [
            [
             0,
             "#0d0887"
            ],
            [
             0.1111111111111111,
             "#46039f"
            ],
            [
             0.2222222222222222,
             "#7201a8"
            ],
            [
             0.3333333333333333,
             "#9c179e"
            ],
            [
             0.4444444444444444,
             "#bd3786"
            ],
            [
             0.5555555555555556,
             "#d8576b"
            ],
            [
             0.6666666666666666,
             "#ed7953"
            ],
            [
             0.7777777777777778,
             "#fb9f3a"
            ],
            [
             0.8888888888888888,
             "#fdca26"
            ],
            [
             1,
             "#f0f921"
            ]
           ]
          },
          "colorway": [
           "#636efa",
           "#EF553B",
           "#00cc96",
           "#ab63fa",
           "#FFA15A",
           "#19d3f3",
           "#FF6692",
           "#B6E880",
           "#FF97FF",
           "#FECB52"
          ],
          "font": {
           "color": "#2a3f5f"
          },
          "geo": {
           "bgcolor": "white",
           "lakecolor": "white",
           "landcolor": "#E5ECF6",
           "showlakes": true,
           "showland": true,
           "subunitcolor": "white"
          },
          "hoverlabel": {
           "align": "left"
          },
          "hovermode": "closest",
          "mapbox": {
           "style": "light"
          },
          "paper_bgcolor": "white",
          "plot_bgcolor": "#E5ECF6",
          "polar": {
           "angularaxis": {
            "gridcolor": "white",
            "linecolor": "white",
            "ticks": ""
           },
           "bgcolor": "#E5ECF6",
           "radialaxis": {
            "gridcolor": "white",
            "linecolor": "white",
            "ticks": ""
           }
          },
          "scene": {
           "xaxis": {
            "backgroundcolor": "#E5ECF6",
            "gridcolor": "white",
            "gridwidth": 2,
            "linecolor": "white",
            "showbackground": true,
            "ticks": "",
            "zerolinecolor": "white"
           },
           "yaxis": {
            "backgroundcolor": "#E5ECF6",
            "gridcolor": "white",
            "gridwidth": 2,
            "linecolor": "white",
            "showbackground": true,
            "ticks": "",
            "zerolinecolor": "white"
           },
           "zaxis": {
            "backgroundcolor": "#E5ECF6",
            "gridcolor": "white",
            "gridwidth": 2,
            "linecolor": "white",
            "showbackground": true,
            "ticks": "",
            "zerolinecolor": "white"
           }
          },
          "shapedefaults": {
           "line": {
            "color": "#2a3f5f"
           }
          },
          "ternary": {
           "aaxis": {
            "gridcolor": "white",
            "linecolor": "white",
            "ticks": ""
           },
           "baxis": {
            "gridcolor": "white",
            "linecolor": "white",
            "ticks": ""
           },
           "bgcolor": "#E5ECF6",
           "caxis": {
            "gridcolor": "white",
            "linecolor": "white",
            "ticks": ""
           }
          },
          "title": {
           "x": 0.05
          },
          "xaxis": {
           "automargin": true,
           "gridcolor": "white",
           "linecolor": "white",
           "ticks": "",
           "title": {
            "standoff": 15
           },
           "zerolinecolor": "white",
           "zerolinewidth": 2
          },
          "yaxis": {
           "automargin": true,
           "gridcolor": "white",
           "linecolor": "white",
           "ticks": "",
           "title": {
            "standoff": 15
           },
           "zerolinecolor": "white",
           "zerolinewidth": 2
          }
         }
        },
        "title": {
         "text": "Actual vs Predicted Sales"
        },
        "xaxis": {
         "anchor": "y",
         "domain": [
          0,
          1
         ],
         "title": {
          "text": "Date"
         }
        },
        "yaxis": {
         "anchor": "x",
         "domain": [
          0,
          1
         ],
         "title": {
          "text": "value"
         }
        }
       }
      }
     },
     "metadata": {},
     "output_type": "display_data"
    }
   ],
   "source": [
    "fig = px.line(test, x=test.index, y=['Sales'], title='Actual vs Predicted Sales')\n",
    "fig.add_scatter(x=test.index, y=predictions[:, 0], mode='lines', name='Predicted')\n",
    "fig.show()\n"
   ]
  },
  {
   "cell_type": "markdown",
   "metadata": {},
   "source": [
    "# RANDOM FOREST"
   ]
  },
  {
   "cell_type": "code",
   "execution_count": 73,
   "metadata": {},
   "outputs": [
    {
     "name": "stdout",
     "output_type": "stream",
     "text": [
      "Mean Squared Error (Random Forest): 274326.4298056642\n",
      "Root Mean Squared Error (Random Forest): 523.7618063639846\n"
     ]
    }
   ],
   "source": [
    "# Assuming 'df' is your DataFrame with a datetime index and 'Sales' column\n",
    "X = df[['Inventory', 'After Sales', 'Load Count', 'Total Gallons Delivered', 'Temp-F']]\n",
    "y = df['Sales']\n",
    "\n",
    "# Split the data into training and testing sets (80% training, 20% testing)\n",
    "X_train, X_test, y_train, y_test = train_test_split(X, y, test_size=0.2, random_state=42)\n",
    "\n",
    "# Initialize and fit the Random Forest model\n",
    "rf_model = RandomForestRegressor(n_estimators=100, random_state=42)\n",
    "rf_model.fit(X_train, y_train)\n",
    "\n",
    "# Make predictions on the test set\n",
    "rf_predictions = rf_model.predict(X_test)\n",
    "\n",
    "# Evaluate the model\n",
    "mse_rf = mean_squared_error(y_test, rf_predictions)\n",
    "rmse_rf = sqrt(mse_rf)\n",
    "\n",
    "print(f'Mean Squared Error (Random Forest): {mse_rf}')\n",
    "print(f'Root Mean Squared Error (Random Forest): {rmse_rf}')\n"
   ]
  },
  {
   "cell_type": "code",
   "execution_count": 74,
   "metadata": {},
   "outputs": [
    {
     "data": {
      "text/plain": [
       "array([13952.5931, 22579.1323, 26875.4115, 23426.5782, 26261.9725,\n",
       "       13095.2657, 26845.8368, 22867.0055, 24366.3954, 25413.3119,\n",
       "       25081.9143, 18172.4519, 23977.7945, 29351.6422, 31924.2809,\n",
       "       23551.2176, 15389.1456, 16990.2342, 34250.8351, 35450.4155,\n",
       "       29766.7855, 24846.8765, 26836.2431, 26512.5028, 24864.8612,\n",
       "       32269.3945, 22912.6038, 23378.1374, 23313.029 , 17715.7136,\n",
       "       29109.2225, 32283.5831, 27204.6289, 24115.2396, 27533.1361,\n",
       "       30992.0491, 31029.6972, 21481.6963, 27411.8867, 25622.9309,\n",
       "       22122.6112, 14515.1554, 19814.8833, 25990.973 , 24634.5343,\n",
       "       20162.2812, 26105.8891, 26771.8482, 28653.8486, 29864.2798,\n",
       "       29412.0209, 18961.784 , 26007.9853, 23742.2408, 14242.0839,\n",
       "       25550.9654, 16621.6053, 33183.3077, 31716.3047, 21090.8462,\n",
       "       19240.9058, 15148.1371, 23223.3692, 25586.8149, 27842.2011,\n",
       "       29586.1781, 27874.3089, 17298.3402, 25037.0885, 31965.2651,\n",
       "       20176.325 , 20175.8005, 27542.229 , 18401.8716, 22274.8299,\n",
       "       25704.8662, 28391.7049, 35185.5041, 25577.9267, 27005.0254,\n",
       "       25072.6704, 23965.6096, 29719.2776, 33845.845 , 22910.7832,\n",
       "       24041.541 , 34709.9345, 22465.5361, 23023.8725, 10575.2037,\n",
       "       29504.4757, 26967.1651, 30987.9873, 26619.3817, 30528.3674,\n",
       "       26223.9495, 25431.2686, 29786.4546, 25298.992 , 32782.248 ,\n",
       "       17050.4462, 26714.2596, 19839.3842, 21522.2246, 23312.8158,\n",
       "       24386.6711, 20241.2791, 17477.144 , 30461.1716, 28588.0928,\n",
       "       22131.9563, 29309.3285, 20010.8522, 19745.6833, 23302.9668,\n",
       "       15191.7674, 18372.0707, 23282.0322, 29414.9414, 19233.0606,\n",
       "       13149.1757, 28662.3848, 18379.0121, 33284.5618, 31130.4055,\n",
       "       16885.5376, 28956.155 , 30042.7217, 20101.5586, 27037.8051,\n",
       "       16533.9043, 35904.3998, 19477.7676, 18363.3545, 21497.0652,\n",
       "       18158.9758, 20750.1585, 26563.6748, 24911.2329, 26879.7465,\n",
       "       25917.1263, 13735.6309, 25602.0103, 24121.5399, 27556.3986,\n",
       "       23017.6073, 16089.3609, 22099.5751, 28623.5929, 33310.6206,\n",
       "       21925.6672, 28776.8515, 27555.4606, 21746.5779, 24440.3398,\n",
       "       21983.5717, 28225.4292, 31960.2856, 17968.5995, 18945.9969,\n",
       "       25915.2123, 23398.3623, 21240.2029, 28863.948 , 25330.7843,\n",
       "       25836.7106, 24860.995 , 23176.097 , 28550.191 , 20921.3673,\n",
       "       25899.1269, 24605.4708, 24883.8723, 27708.5365, 19029.4801,\n",
       "       35826.2575, 31614.8769, 27158.8362, 23116.6666, 14842.022 ,\n",
       "       21745.3237, 18601.7875, 24256.3821, 22873.6315, 22741.4714,\n",
       "       23391.1508, 21445.2343, 18619.9782, 31073.7179, 30220.7536,\n",
       "       28627.441 , 27286.4205, 29976.4588, 31965.8922, 23885.3429,\n",
       "       25724.5985, 27176.2084, 27315.9828, 25290.0114, 26957.9965,\n",
       "       14535.4551, 30486.6236, 23218.8401, 26816.8762, 31442.0174,\n",
       "       13534.5466, 19928.1932, 19157.0084, 33733.2412, 23847.1426,\n",
       "       24276.9439, 25926.4341, 18499.8826, 20871.5945, 25471.8481,\n",
       "       16436.2628, 27619.1639, 24748.4908, 31788.4186, 30132.5899,\n",
       "       26461.8237, 30335.1109, 21892.6526, 31546.7479, 26642.5181,\n",
       "       23793.8692, 20917.773 , 17401.1434, 26818.3599, 24270.673 ,\n",
       "       26574.4781, 18826.2802, 26060.8315, 27564.624 , 29899.2167,\n",
       "       11965.6291, 21665.8732, 25414.0904, 20445.5321, 33284.2042,\n",
       "       27371.3854, 27423.1078, 28611.9911, 24846.2515, 22835.3706,\n",
       "       33426.7014, 21821.4651, 24878.9469, 29905.2131, 28735.1599,\n",
       "       26686.0382, 34911.6692, 32909.4194, 24453.8838, 26436.8938,\n",
       "       26743.2922, 21505.7865, 21442.9062, 29762.3222, 21774.2374,\n",
       "       28350.1171, 17743.2669, 29081.2715, 21141.1968, 32314.3224,\n",
       "       24734.192 , 24523.4175, 22745.5685, 31362.2997, 23437.3185,\n",
       "       23606.8141, 30307.373 , 21864.2703, 31966.3669, 25614.0333,\n",
       "       24549.0041, 19820.0509, 28794.6342, 32475.8302, 26444.5261,\n",
       "       20740.0223, 28587.0413, 35687.3892, 21679.6811, 24555.5923,\n",
       "       19434.0437, 20969.3157, 26610.3335, 26565.2154, 22822.993 ,\n",
       "       13913.3487, 30145.2942, 30039.8943, 21106.7769, 24680.1265,\n",
       "       17407.697 , 24047.148 , 29007.0313, 29961.757 , 14369.093 ,\n",
       "       35850.444 , 25923.2563, 27707.8797, 28147.818 , 24588.2223,\n",
       "       25810.1389, 27707.8489, 29097.9332, 21833.2741, 21726.6375,\n",
       "       22067.1375, 22971.5438, 21407.7731, 14134.2139, 28672.0718,\n",
       "       25518.635 , 28249.6155, 22824.228 , 22379.3865])"
      ]
     },
     "execution_count": 74,
     "metadata": {},
     "output_type": "execute_result"
    }
   ],
   "source": [
    "rf_predictions"
   ]
  },
  {
   "cell_type": "code",
   "execution_count": 75,
   "metadata": {},
   "outputs": [
    {
     "name": "stdout",
     "output_type": "stream",
     "text": [
      "Accuracy (Test Set): 97.89%\n"
     ]
    }
   ],
   "source": [
    "# Calculate RMSE for the test set\n",
    "rmse_test = sqrt(mean_squared_error(y_test, rf_predictions))\n",
    "\n",
    "# Calculate accuracy in percentage for the test set\n",
    "accuracy_test = 100 * (1 - (rmse_test / y_test.mean()))\n",
    "print(f'Accuracy (Test Set): {accuracy_test:.2f}%')"
   ]
  },
  {
   "cell_type": "code",
   "execution_count": 76,
   "metadata": {},
   "outputs": [
    {
     "data": {
      "image/png": "[encoded data removed]",
      "text/plain": [
       "<Figure size 1000x600 with 1 Axes>"
      ]
     },
     "metadata": {},
     "output_type": "display_data"
    }
   ],
   "source": [
    "plt.figure(figsize=(10, 6))\n",
    "plt.plot(test.index, y_test, label='Actual', marker='o')\n",
    "plt.plot(test.index, rf_predictions, label='Predicted', marker='o')\n",
    "plt.title('Actual vs Predicted Sales (Random Forest)')\n",
    "plt.xlabel('Date')\n",
    "plt.ylabel('Sales')\n",
    "plt.legend()\n",
    "plt.show()"
   ]
  },
  {
   "cell_type": "code",
   "execution_count": 77,
   "metadata": {},
   "outputs": [
    {
     "data": {
      "application/vnd.plotly.v1+json": {
       "config": {
        "plotlyServerURL": "https://plot.ly"
       },
       "data": [
        {
         "mode": "markers",
         "name": "Actual",
         "type": "scatter",
         "x": [
          "2022-12-17T00:00:00",
          "2022-12-18T00:00:00",
          "2022-12-19T00:00:00",
          "2022-12-20T00:00:00",
          "2022-12-21T00:00:00",
          "2022-12-22T00:00:00",
          "2022-12-23T00:00:00",
          "2022-12-24T00:00:00",
          "2022-12-25T00:00:00",
          "2022-12-26T00:00:00",
          "2022-12-27T00:00:00",
          "2022-12-28T00:00:00",
          "2022-12-29T00:00:00",
          "2022-12-30T00:00:00",
          "2022-12-31T00:00:00",
          "2023-01-01T00:00:00",
          "2023-01-02T00:00:00",
          "2023-01-03T00:00:00",
          "2023-01-04T00:00:00",
          "2023-01-05T00:00:00",
          "2023-01-06T00:00:00",
          "2023-01-07T00:00:00",
          "2023-01-08T00:00:00",
          "2023-01-09T00:00:00",
          "2023-01-10T00:00:00",
          "2023-01-11T00:00:00",
          "2023-01-12T00:00:00",
          "2023-01-13T00:00:00",
          "2023-01-14T00:00:00",
          "2023-01-15T00:00:00",
          "2023-01-16T00:00:00",
          "2023-01-17T00:00:00",
          "2023-01-18T00:00:00",
          "2023-01-19T00:00:00",
          "2023-01-20T00:00:00",
          "2023-01-21T00:00:00",
          "2023-01-22T00:00:00",
          "2023-01-23T00:00:00",
          "2023-01-24T00:00:00",
          "2023-01-25T00:00:00",
          "2023-01-26T00:00:00",
          "2023-01-27T00:00:00",
          "2023-01-28T00:00:00",
          "2023-01-29T00:00:00",
          "2023-01-30T00:00:00",
          "2023-01-31T00:00:00",
          "2023-02-01T00:00:00",
          "2023-02-02T00:00:00",
          "2023-02-03T00:00:00",
          "2023-02-04T00:00:00",
          "2023-02-05T00:00:00",
          "2023-02-06T00:00:00",
          "2023-02-07T00:00:00",
          "2023-02-08T00:00:00",
          "2023-02-09T00:00:00",
          "2023-02-10T00:00:00",
          "2023-02-11T00:00:00",
          "2023-02-12T00:00:00",
          "2023-02-13T00:00:00",
          "2023-02-14T00:00:00",
          "2023-02-15T00:00:00",
          "2023-02-16T00:00:00",
          "2023-02-17T00:00:00",
          "2023-02-18T00:00:00",
          "2023-02-19T00:00:00",
          "2023-02-20T00:00:00",
          "2023-02-21T00:00:00",
          "2023-02-22T00:00:00",
          "2023-02-23T00:00:00",
          "2023-02-24T00:00:00",
          "2023-02-25T00:00:00",
          "2023-02-26T00:00:00",
          "2023-02-27T00:00:00",
          "2023-02-28T00:00:00",
          "2023-03-01T00:00:00",
          "2023-03-02T00:00:00",
          "2023-03-03T00:00:00",
          "2023-03-04T00:00:00",
          "2023-03-05T00:00:00",
          "2023-03-06T00:00:00",
          "2023-03-07T00:00:00",
          "2023-03-08T00:00:00",
          "2023-03-09T00:00:00",
          "2023-03-10T00:00:00",
          "2023-03-11T00:00:00",
          "2023-03-12T00:00:00",
          "2023-03-13T00:00:00",
          "2023-03-14T00:00:00",
          "2023-03-15T00:00:00",
          "2023-03-16T00:00:00",
          "2023-03-17T00:00:00",
          "2023-03-18T00:00:00",
          "2023-03-19T00:00:00",
          "2023-03-20T00:00:00",
          "2023-03-21T00:00:00",
          "2023-03-22T00:00:00",
          "2023-03-23T00:00:00",
          "2023-03-24T00:00:00",
          "2023-03-25T00:00:00",
          "2023-03-26T00:00:00",
          "2023-03-27T00:00:00",
          "2023-03-28T00:00:00",
          "2023-03-29T00:00:00",
          "2023-03-30T00:00:00",
          "2023-03-31T00:00:00",
          "2023-04-01T00:00:00",
          "2023-04-02T00:00:00",
          "2023-04-03T00:00:00",
          "2023-04-04T00:00:00",
          "2023-04-05T00:00:00",
          "2023-04-06T00:00:00",
          "2023-04-07T00:00:00",
          "2023-04-08T00:00:00",
          "2023-04-09T00:00:00",
          "2023-04-10T00:00:00",
          "2023-04-11T00:00:00",
          "2023-04-12T00:00:00",
          "2023-04-13T00:00:00",
          "2023-04-14T00:00:00",
          "2023-04-15T00:00:00",
          "2023-04-16T00:00:00",
          "2023-04-17T00:00:00",
          "2023-04-18T00:00:00",
          "2023-04-19T00:00:00",
          "2023-04-20T00:00:00",
          "2023-04-21T00:00:00",
          "2023-04-22T00:00:00",
          "2023-04-23T00:00:00",
          "2023-04-24T00:00:00",
          "2023-04-25T00:00:00",
          "2023-04-26T00:00:00",
          "2023-04-27T00:00:00",
          "2023-04-28T00:00:00",
          "2023-04-29T00:00:00",
          "2023-04-30T00:00:00",
          "2023-05-01T00:00:00",
          "2023-05-02T00:00:00",
          "2023-05-03T00:00:00",
          "2023-05-04T00:00:00",
          "2023-05-05T00:00:00",
          "2023-05-06T00:00:00",
          "2023-05-07T00:00:00",
          "2023-05-08T00:00:00",
          "2023-05-09T00:00:00",
          "2023-05-10T00:00:00",
          "2023-05-11T00:00:00",
          "2023-05-12T00:00:00",
          "2023-05-13T00:00:00",
          "2023-05-14T00:00:00",
          "2023-05-15T00:00:00",
          "2023-05-16T00:00:00",
          "2023-05-17T00:00:00",
          "2023-05-18T00:00:00",
          "2023-05-19T00:00:00",
          "2023-05-20T00:00:00",
          "2023-05-21T00:00:00",
          "2023-05-22T00:00:00",
          "2023-05-23T00:00:00",
          "2023-05-24T00:00:00",
          "2023-05-25T00:00:00",
          "2023-05-26T00:00:00",
          "2023-05-27T00:00:00",
          "2023-05-28T00:00:00",
          "2023-05-29T00:00:00",
          "2023-05-30T00:00:00",
          "2023-05-31T00:00:00",
          "2023-06-01T00:00:00",
          "2023-06-02T00:00:00",
          "2023-06-03T00:00:00",
          "2023-06-04T00:00:00",
          "2023-06-05T00:00:00",
          "2023-06-06T00:00:00",
          "2023-06-07T00:00:00",
          "2023-06-08T00:00:00",
          "2023-06-09T00:00:00",
          "2023-06-10T00:00:00",
          "2023-06-11T00:00:00",
          "2023-06-12T00:00:00",
          "2023-06-13T00:00:00",
          "2023-06-14T00:00:00",
          "2023-06-15T00:00:00",
          "2023-06-16T00:00:00",
          "2023-06-17T00:00:00",
          "2023-06-18T00:00:00",
          "2023-06-19T00:00:00",
          "2023-06-20T00:00:00",
          "2023-06-21T00:00:00",
          "2023-06-22T00:00:00",
          "2023-06-23T00:00:00",
          "2023-06-24T00:00:00",
          "2023-06-25T00:00:00",
          "2023-06-26T00:00:00",
          "2023-06-27T00:00:00",
          "2023-06-28T00:00:00",
          "2023-06-29T00:00:00",
          "2023-06-30T00:00:00",
          "2023-07-01T00:00:00",
          "2023-07-02T00:00:00",
          "2023-07-03T00:00:00",
          "2023-07-04T00:00:00",
          "2023-07-05T00:00:00",
          "2023-07-06T00:00:00",
          "2023-07-07T00:00:00",
          "2023-07-08T00:00:00",
          "2023-07-09T00:00:00",
          "2023-07-10T00:00:00",
          "2023-07-11T00:00:00",
          "2023-07-12T00:00:00",
          "2023-07-13T00:00:00",
          "2023-07-14T00:00:00",
          "2023-07-15T00:00:00",
          "2023-07-16T00:00:00",
          "2023-07-17T00:00:00",
          "2023-07-18T00:00:00",
          "2023-07-19T00:00:00",
          "2023-07-20T00:00:00",
          "2023-07-21T00:00:00",
          "2023-07-22T00:00:00",
          "2023-07-23T00:00:00",
          "2023-07-24T00:00:00",
          "2023-07-25T00:00:00",
          "2023-07-26T00:00:00",
          "2023-07-27T00:00:00",
          "2023-07-28T00:00:00",
          "2023-07-29T00:00:00",
          "2023-07-30T00:00:00",
          "2023-07-31T00:00:00",
          "2023-08-01T00:00:00",
          "2023-08-02T00:00:00",
          "2023-08-03T00:00:00",
          "2023-08-04T00:00:00",
          "2023-08-05T00:00:00",
          "2023-08-06T00:00:00",
          "2023-08-07T00:00:00",
          "2023-08-08T00:00:00",
          "2023-08-09T00:00:00",
          "2023-08-10T00:00:00",
          "2023-08-11T00:00:00",
          "2023-08-12T00:00:00",
          "2023-08-13T00:00:00",
          "2023-08-14T00:00:00",
          "2023-08-15T00:00:00",
          "2023-08-16T00:00:00",
          "2023-08-17T00:00:00",
          "2023-08-18T00:00:00",
          "2023-08-19T00:00:00",
          "2023-08-20T00:00:00",
          "2023-08-21T00:00:00",
          "2023-08-22T00:00:00",
          "2023-08-23T00:00:00",
          "2023-08-24T00:00:00",
          "2023-08-25T00:00:00",
          "2023-08-26T00:00:00",
          "2023-08-27T00:00:00",
          "2023-08-28T00:00:00",
          "2023-08-29T00:00:00",
          "2023-08-30T00:00:00",
          "2023-08-31T00:00:00",
          "2023-09-01T00:00:00",
          "2023-09-02T00:00:00",
          "2023-09-03T00:00:00",
          "2023-09-04T00:00:00",
          "2023-09-05T00:00:00",
          "2023-09-06T00:00:00",
          "2023-09-07T00:00:00",
          "2023-09-08T00:00:00",
          "2023-09-09T00:00:00",
          "2023-09-10T00:00:00",
          "2023-09-11T00:00:00",
          "2023-09-12T00:00:00",
          "2023-09-13T00:00:00",
          "2023-09-14T00:00:00",
          "2023-09-15T00:00:00",
          "2023-09-16T00:00:00",
          "2023-09-17T00:00:00",
          "2023-09-18T00:00:00",
          "2023-09-19T00:00:00",
          "2023-09-20T00:00:00",
          "2023-09-21T00:00:00",
          "2023-09-22T00:00:00",
          "2023-09-23T00:00:00",
          "2023-09-24T00:00:00",
          "2023-09-25T00:00:00",
          "2023-09-26T00:00:00",
          "2023-09-27T00:00:00",
          "2023-09-28T00:00:00",
          "2023-09-29T00:00:00",
          "2023-09-30T00:00:00",
          "2023-10-01T00:00:00",
          "2023-10-02T00:00:00",
          "2023-10-03T00:00:00",
          "2023-10-04T00:00:00",
          "2023-10-05T00:00:00",
          "2023-10-06T00:00:00",
          "2023-10-07T00:00:00",
          "2023-10-08T00:00:00",
          "2023-10-09T00:00:00",
          "2023-10-10T00:00:00",
          "2023-10-11T00:00:00",
          "2023-10-12T00:00:00",
          "2023-10-13T00:00:00",
          "2023-10-14T00:00:00",
          "2023-10-15T00:00:00",
          "2023-10-16T00:00:00",
          "2023-10-17T00:00:00",
          "2023-10-18T00:00:00",
          "2023-10-19T00:00:00",
          "2023-10-20T00:00:00",
          "2023-10-21T00:00:00",
          "2023-10-22T00:00:00",
          "2023-10-23T00:00:00",
          "2023-10-24T00:00:00",
          "2023-10-25T00:00:00",
          "2023-10-26T00:00:00",
          "2023-10-27T00:00:00",
          "2023-10-28T00:00:00",
          "2023-10-29T00:00:00",
          "2023-10-30T00:00:00",
          "2023-10-31T00:00:00"
         ],
         "y": [
          12882.23,
          22756.09,
          26960.22,
          23791.05,
          25909.71,
          12649.89,
          27140.75,
          22716.32,
          24345.62,
          25125.82,
          25392.4,
          18080.92,
          24054.75,
          29458.64,
          32083.93,
          23455.76,
          15086.61,
          16269.73,
          37239.92,
          34994.7,
          29442.3,
          24687.63,
          26727.46,
          26393.18,
          24785.9,
          32443.85,
          22990.69,
          23529.21,
          23085.45,
          17103.73,
          29226.06,
          32473.85,
          27212.3,
          23921.79,
          27488.09,
          31184.58,
          31215.82,
          21701.56,
          27506.46,
          25834.75,
          21947.09,
          14028.57,
          19382.91,
          26064.08,
          24651.26,
          20339.09,
          26433.32,
          27056.33,
          28921.43,
          30007.58,
          29802.22,
          18653.59,
          25961.08,
          24043.4,
          13831.14,
          25419.6,
          16623.11,
          32702.3,
          31555.96,
          21219.14,
          18251.59,
          14877.43,
          23140.33,
          25729.75,
          27958.14,
          30162.45,
          27908.03,
          17312.12,
          24792.65,
          32284.52,
          20244.11,
          20049.77,
          27437.06,
          18610.33,
          22501.96,
          25378.5,
          28641.79,
          35455.57,
          25678.82,
          27200.87,
          25040.84,
          23608.11,
          29708.84,
          34416.6,
          22574.56,
          23774.31,
          34153.83,
          22213.16,
          22979.1,
          5468.68,
          29293.52,
          26886.4,
          30921.27,
          26859.24,
          31126.29,
          26493.79,
          25440.89,
          29983.89,
          25090.05,
          33320.89,
          17068.73,
          26703.96,
          19412.45,
          21547.33,
          23203.77,
          24187.54,
          20588.73,
          17692.69,
          30405.57,
          28437.97,
          22236.32,
          29239.6,
          19920.73,
          19981.59,
          23376.12,
          14858.2,
          18842.11,
          23384.8,
          29502.99,
          19072.22,
          14704.26,
          28589.47,
          18634.25,
          34246.43,
          31148.83,
          16722.71,
          28953.29,
          30149.14,
          20492.47,
          27139.39,
          17091.84,
          37715.89,
          19408.31,
          17403.65,
          21849.65,
          17926.14,
          20540.3,
          26580.25,
          24908.25,
          26610.17,
          26002.61,
          13020.52,
          25659.78,
          24394.96,
          27731.47,
          22445.7,
          16247.01,
          21857.13,
          28794.12,
          33594.78,
          22026.48,
          28670.33,
          27607.29,
          21798.24,
          23578.8,
          21858.89,
          27999.69,
          31786.21,
          17637.27,
          18447.07,
          25980.46,
          23803.63,
          21405.86,
          28820.63,
          25384.83,
          25454,
          25128.52,
          23186.49,
          28643.95,
          21185.34,
          25838.24,
          24624.1,
          24510.68,
          27671.31,
          19228.79,
          36869.18,
          32531.23,
          27224.56,
          22905.03,
          15271.68,
          21948.35,
          18254.22,
          24200.62,
          22668.59,
          22872.05,
          23379.05,
          21318.12,
          18215.09,
          30807.26,
          30597.38,
          28778.41,
          27154.71,
          29625.25,
          32332.44,
          23887.23,
          25506.55,
          27072.58,
          27329.02,
          25263.86,
          27078.73,
          14423.12,
          30545.39,
          23192.54,
          26738.26,
          31214.16,
          12945.7,
          19180.52,
          18367.53,
          34279.82,
          24140.98,
          24202.7,
          25639.94,
          18388.45,
          20595.12,
          25213.72,
          16568.85,
          27888.65,
          24699.16,
          31519.96,
          30280.79,
          26450.37,
          30565.08,
          21768.94,
          31974.08,
          27003.28,
          23677.32,
          20684.5,
          15831.49,
          26839.3,
          24229.25,
          26627.22,
          17939.06,
          26061.66,
          27229.45,
          30643.83,
          9391.43,
          21163.27,
          25529.97,
          20331.87,
          33482.23,
          27157.62,
          27623.22,
          28611.07,
          25061.5,
          23100.22,
          34688.72,
          21636.57,
          24774.34,
          29907.69,
          28673.32,
          26682.92,
          35920.08,
          33383.27,
          24412.27,
          26417.33,
          26932.41,
          21542.29,
          21563.57,
          29602.08,
          21619.52,
          27833.65,
          17243.33,
          29173.32,
          21336.75,
          32244.22,
          24650.34,
          24164.54,
          22397.47,
          30707.39,
          23624.31,
          23711.5,
          30294.17,
          21920,
          32412.38,
          25570.83,
          24317.91,
          19436.79,
          28757.73,
          31996.8,
          26292.79,
          20227.95,
          28526.49,
          36018.29,
          21498.1,
          24329.8,
          19557.53,
          20969.77,
          26436.73,
          26428.92,
          22373.24,
          14331.97,
          30054.31,
          29791.97,
          20895.83,
          24726.57,
          15751.72,
          24072.27,
          29099.05,
          30044,
          13799.76,
          37391.06,
          26094.75,
          27993.77,
          28397.56,
          24398.44,
          25814.39,
          27841.8,
          28954.41,
          22154.51,
          22113.01,
          22188.39,
          23611.14,
          21272.25,
          12973.8,
          28870.02,
          25649.49,
          28305.78,
          22640.1,
          22266.74
         ]
        },
        {
         "mode": "markers",
         "name": "Predicted",
         "type": "scatter",
         "x": [
          "2022-12-17T00:00:00",
          "2022-12-18T00:00:00",
          "2022-12-19T00:00:00",
          "2022-12-20T00:00:00",
          "2022-12-21T00:00:00",
          "2022-12-22T00:00:00",
          "2022-12-23T00:00:00",
          "2022-12-24T00:00:00",
          "2022-12-25T00:00:00",
          "2022-12-26T00:00:00",
          "2022-12-27T00:00:00",
          "2022-12-28T00:00:00",
          "2022-12-29T00:00:00",
          "2022-12-30T00:00:00",
          "2022-12-31T00:00:00",
          "2023-01-01T00:00:00",
          "2023-01-02T00:00:00",
          "2023-01-03T00:00:00",
          "2023-01-04T00:00:00",
          "2023-01-05T00:00:00",
          "2023-01-06T00:00:00",
          "2023-01-07T00:00:00",
          "2023-01-08T00:00:00",
          "2023-01-09T00:00:00",
          "2023-01-10T00:00:00",
          "2023-01-11T00:00:00",
          "2023-01-12T00:00:00",
          "2023-01-13T00:00:00",
          "2023-01-14T00:00:00",
          "2023-01-15T00:00:00",
          "2023-01-16T00:00:00",
          "2023-01-17T00:00:00",
          "2023-01-18T00:00:00",
          "2023-01-19T00:00:00",
          "2023-01-20T00:00:00",
          "2023-01-21T00:00:00",
          "2023-01-22T00:00:00",
          "2023-01-23T00:00:00",
          "2023-01-24T00:00:00",
          "2023-01-25T00:00:00",
          "2023-01-26T00:00:00",
          "2023-01-27T00:00:00",
          "2023-01-28T00:00:00",
          "2023-01-29T00:00:00",
          "2023-01-30T00:00:00",
          "2023-01-31T00:00:00",
          "2023-02-01T00:00:00",
          "2023-02-02T00:00:00",
          "2023-02-03T00:00:00",
          "2023-02-04T00:00:00",
          "2023-02-05T00:00:00",
          "2023-02-06T00:00:00",
          "2023-02-07T00:00:00",
          "2023-02-08T00:00:00",
          "2023-02-09T00:00:00",
          "2023-02-10T00:00:00",
          "2023-02-11T00:00:00",
          "2023-02-12T00:00:00",
          "2023-02-13T00:00:00",
          "2023-02-14T00:00:00",
          "2023-02-15T00:00:00",
          "2023-02-16T00:00:00",
          "2023-02-17T00:00:00",
          "2023-02-18T00:00:00",
          "2023-02-19T00:00:00",
          "2023-02-20T00:00:00",
          "2023-02-21T00:00:00",
          "2023-02-22T00:00:00",
          "2023-02-23T00:00:00",
          "2023-02-24T00:00:00",
          "2023-02-25T00:00:00",
          "2023-02-26T00:00:00",
          "2023-02-27T00:00:00",
          "2023-02-28T00:00:00",
          "2023-03-01T00:00:00",
          "2023-03-02T00:00:00",
          "2023-03-03T00:00:00",
          "2023-03-04T00:00:00",
          "2023-03-05T00:00:00",
          "2023-03-06T00:00:00",
          "2023-03-07T00:00:00",
          "2023-03-08T00:00:00",
          "2023-03-09T00:00:00",
          "2023-03-10T00:00:00",
          "2023-03-11T00:00:00",
          "2023-03-12T00:00:00",
          "2023-03-13T00:00:00",
          "2023-03-14T00:00:00",
          "2023-03-15T00:00:00",
          "2023-03-16T00:00:00",
          "2023-03-17T00:00:00",
          "2023-03-18T00:00:00",
          "2023-03-19T00:00:00",
          "2023-03-20T00:00:00",
          "2023-03-21T00:00:00",
          "2023-03-22T00:00:00",
          "2023-03-23T00:00:00",
          "2023-03-24T00:00:00",
          "2023-03-25T00:00:00",
          "2023-03-26T00:00:00",
          "2023-03-27T00:00:00",
          "2023-03-28T00:00:00",
          "2023-03-29T00:00:00",
          "2023-03-30T00:00:00",
          "2023-03-31T00:00:00",
          "2023-04-01T00:00:00",
          "2023-04-02T00:00:00",
          "2023-04-03T00:00:00",
          "2023-04-04T00:00:00",
          "2023-04-05T00:00:00",
          "2023-04-06T00:00:00",
          "2023-04-07T00:00:00",
          "2023-04-08T00:00:00",
          "2023-04-09T00:00:00",
          "2023-04-10T00:00:00",
          "2023-04-11T00:00:00",
          "2023-04-12T00:00:00",
          "2023-04-13T00:00:00",
          "2023-04-14T00:00:00",
          "2023-04-15T00:00:00",
          "2023-04-16T00:00:00",
          "2023-04-17T00:00:00",
          "2023-04-18T00:00:00",
          "2023-04-19T00:00:00",
          "2023-04-20T00:00:00",
          "2023-04-21T00:00:00",
          "2023-04-22T00:00:00",
          "2023-04-23T00:00:00",
          "2023-04-24T00:00:00",
          "2023-04-25T00:00:00",
          "2023-04-26T00:00:00",
          "2023-04-27T00:00:00",
          "2023-04-28T00:00:00",
          "2023-04-29T00:00:00",
          "2023-04-30T00:00:00",
          "2023-05-01T00:00:00",
          "2023-05-02T00:00:00",
          "2023-05-03T00:00:00",
          "2023-05-04T00:00:00",
          "2023-05-05T00:00:00",
          "2023-05-06T00:00:00",
          "2023-05-07T00:00:00",
          "2023-05-08T00:00:00",
          "2023-05-09T00:00:00",
          "2023-05-10T00:00:00",
          "2023-05-11T00:00:00",
          "2023-05-12T00:00:00",
          "2023-05-13T00:00:00",
          "2023-05-14T00:00:00",
          "2023-05-15T00:00:00",
          "2023-05-16T00:00:00",
          "2023-05-17T00:00:00",
          "2023-05-18T00:00:00",
          "2023-05-19T00:00:00",
          "2023-05-20T00:00:00",
          "2023-05-21T00:00:00",
          "2023-05-22T00:00:00",
          "2023-05-23T00:00:00",
          "2023-05-24T00:00:00",
          "2023-05-25T00:00:00",
          "2023-05-26T00:00:00",
          "2023-05-27T00:00:00",
          "2023-05-28T00:00:00",
          "2023-05-29T00:00:00",
          "2023-05-30T00:00:00",
          "2023-05-31T00:00:00",
          "2023-06-01T00:00:00",
          "2023-06-02T00:00:00",
          "2023-06-03T00:00:00",
          "2023-06-04T00:00:00",
          "2023-06-05T00:00:00",
          "2023-06-06T00:00:00",
          "2023-06-07T00:00:00",
          "2023-06-08T00:00:00",
          "2023-06-09T00:00:00",
          "2023-06-10T00:00:00",
          "2023-06-11T00:00:00",
          "2023-06-12T00:00:00",
          "2023-06-13T00:00:00",
          "2023-06-14T00:00:00",
          "2023-06-15T00:00:00",
          "2023-06-16T00:00:00",
          "2023-06-17T00:00:00",
          "2023-06-18T00:00:00",
          "2023-06-19T00:00:00",
          "2023-06-20T00:00:00",
          "2023-06-21T00:00:00",
          "2023-06-22T00:00:00",
          "2023-06-23T00:00:00",
          "2023-06-24T00:00:00",
          "2023-06-25T00:00:00",
          "2023-06-26T00:00:00",
          "2023-06-27T00:00:00",
          "2023-06-28T00:00:00",
          "2023-06-29T00:00:00",
          "2023-06-30T00:00:00",
          "2023-07-01T00:00:00",
          "2023-07-02T00:00:00",
          "2023-07-03T00:00:00",
          "2023-07-04T00:00:00",
          "2023-07-05T00:00:00",
          "2023-07-06T00:00:00",
          "2023-07-07T00:00:00",
          "2023-07-08T00:00:00",
          "2023-07-09T00:00:00",
          "2023-07-10T00:00:00",
          "2023-07-11T00:00:00",
          "2023-07-12T00:00:00",
          "2023-07-13T00:00:00",
          "2023-07-14T00:00:00",
          "2023-07-15T00:00:00",
          "2023-07-16T00:00:00",
          "2023-07-17T00:00:00",
          "2023-07-18T00:00:00",
          "2023-07-19T00:00:00",
          "2023-07-20T00:00:00",
          "2023-07-21T00:00:00",
          "2023-07-22T00:00:00",
          "2023-07-23T00:00:00",
          "2023-07-24T00:00:00",
          "2023-07-25T00:00:00",
          "2023-07-26T00:00:00",
          "2023-07-27T00:00:00",
          "2023-07-28T00:00:00",
          "2023-07-29T00:00:00",
          "2023-07-30T00:00:00",
          "2023-07-31T00:00:00",
          "2023-08-01T00:00:00",
          "2023-08-02T00:00:00",
          "2023-08-03T00:00:00",
          "2023-08-04T00:00:00",
          "2023-08-05T00:00:00",
          "2023-08-06T00:00:00",
          "2023-08-07T00:00:00",
          "2023-08-08T00:00:00",
          "2023-08-09T00:00:00",
          "2023-08-10T00:00:00",
          "2023-08-11T00:00:00",
          "2023-08-12T00:00:00",
          "2023-08-13T00:00:00",
          "2023-08-14T00:00:00",
          "2023-08-15T00:00:00",
          "2023-08-16T00:00:00",
          "2023-08-17T00:00:00",
          "2023-08-18T00:00:00",
          "2023-08-19T00:00:00",
          "2023-08-20T00:00:00",
          "2023-08-21T00:00:00",
          "2023-08-22T00:00:00",
          "2023-08-23T00:00:00",
          "2023-08-24T00:00:00",
          "2023-08-25T00:00:00",
          "2023-08-26T00:00:00",
          "2023-08-27T00:00:00",
          "2023-08-28T00:00:00",
          "2023-08-29T00:00:00",
          "2023-08-30T00:00:00",
          "2023-08-31T00:00:00",
          "2023-09-01T00:00:00",
          "2023-09-02T00:00:00",
          "2023-09-03T00:00:00",
          "2023-09-04T00:00:00",
          "2023-09-05T00:00:00",
          "2023-09-06T00:00:00",
          "2023-09-07T00:00:00",
          "2023-09-08T00:00:00",
          "2023-09-09T00:00:00",
          "2023-09-10T00:00:00",
          "2023-09-11T00:00:00",
          "2023-09-12T00:00:00",
          "2023-09-13T00:00:00",
          "2023-09-14T00:00:00",
          "2023-09-15T00:00:00",
          "2023-09-16T00:00:00",
          "2023-09-17T00:00:00",
          "2023-09-18T00:00:00",
          "2023-09-19T00:00:00",
          "2023-09-20T00:00:00",
          "2023-09-21T00:00:00",
          "2023-09-22T00:00:00",
          "2023-09-23T00:00:00",
          "2023-09-24T00:00:00",
          "2023-09-25T00:00:00",
          "2023-09-26T00:00:00",
          "2023-09-27T00:00:00",
          "2023-09-28T00:00:00",
          "2023-09-29T00:00:00",
          "2023-09-30T00:00:00",
          "2023-10-01T00:00:00",
          "2023-10-02T00:00:00",
          "2023-10-03T00:00:00",
          "2023-10-04T00:00:00",
          "2023-10-05T00:00:00",
          "2023-10-06T00:00:00",
          "2023-10-07T00:00:00",
          "2023-10-08T00:00:00",
          "2023-10-09T00:00:00",
          "2023-10-10T00:00:00",
          "2023-10-11T00:00:00",
          "2023-10-12T00:00:00",
          "2023-10-13T00:00:00",
          "2023-10-14T00:00:00",
          "2023-10-15T00:00:00",
          "2023-10-16T00:00:00",
          "2023-10-17T00:00:00",
          "2023-10-18T00:00:00",
          "2023-10-19T00:00:00",
          "2023-10-20T00:00:00",
          "2023-10-21T00:00:00",
          "2023-10-22T00:00:00",
          "2023-10-23T00:00:00",
          "2023-10-24T00:00:00",
          "2023-10-25T00:00:00",
          "2023-10-26T00:00:00",
          "2023-10-27T00:00:00",
          "2023-10-28T00:00:00",
          "2023-10-29T00:00:00",
          "2023-10-30T00:00:00",
          "2023-10-31T00:00:00"
         ],
         "y": [
          13952.5931,
          22579.13230000001,
          26875.411500000024,
          23426.578199999985,
          26261.97249999999,
          13095.265700000004,
          26845.8368,
          22867.0055,
          24366.395399999983,
          25413.31189999999,
          25081.914299999993,
          18172.4519,
          23977.79449999999,
          29351.64219999998,
          31924.280899999998,
          23551.217600000004,
          15389.145600000003,
          16990.234200000003,
          34250.83510000002,
          35450.415499999974,
          29766.785499999994,
          24846.87649999999,
          26836.243100000025,
          26512.50279999998,
          24864.86120000001,
          32269.394500000042,
          22912.603799999986,
          23378.137400000003,
          23313.02900000001,
          17715.71360000001,
          29109.222500000003,
          32283.583100000018,
          27204.628899999996,
          24115.239600000004,
          27533.136100000003,
          30992.04910000001,
          31029.697200000006,
          21481.696300000014,
          27411.88670000001,
          25622.930900000007,
          22122.6112,
          14515.155400000003,
          19814.8833,
          25990.97300000001,
          24634.534299999996,
          20162.2812,
          26105.889099999986,
          26771.84819999999,
          28653.848600000016,
          29864.279799999997,
          29412.0209,
          18961.784000000014,
          26007.985300000004,
          23742.240799999992,
          14242.083900000009,
          25550.9654,
          16621.6053,
          33183.30769999997,
          31716.304699999993,
          21090.84620000001,
          19240.9058,
          15148.137099999998,
          23223.369200000005,
          25586.814899999994,
          27842.201100000013,
          29586.17809999997,
          27874.308900000007,
          17298.3402,
          25037.088500000016,
          31965.265099999993,
          20176.324999999997,
          20175.8005,
          27542.229000000003,
          18401.871599999988,
          22274.829899999982,
          25704.86620000001,
          28391.70489999998,
          35185.50409999998,
          25577.926700000004,
          27005.0254,
          25072.670400000006,
          23965.6096,
          29719.27760000001,
          33845.84500000001,
          22910.78319999998,
          24041.541000000016,
          34709.93449999998,
          22465.536099999998,
          23023.872499999994,
          10575.203699999996,
          29504.475700000003,
          26967.1651,
          30987.987300000008,
          26619.381700000005,
          30528.367399999974,
          26223.94950000001,
          25431.268600000003,
          29786.454599999975,
          25298.992000000024,
          32782.247999999985,
          17050.446199999995,
          26714.25960000002,
          19839.384199999993,
          21522.224600000005,
          23312.815799999982,
          24386.671100000007,
          20241.279099999985,
          17477.143999999993,
          30461.1716,
          28588.092799999988,
          22131.956300000023,
          29309.328499999996,
          20010.8522,
          19745.68330000002,
          23302.9668,
          15191.76740000001,
          18372.070699999986,
          23282.0322,
          29414.941399999967,
          19233.060600000004,
          13149.175699999996,
          28662.384800000014,
          18379.0121,
          33284.56179999998,
          31130.40550000001,
          16885.537600000007,
          28956.15500000004,
          30042.72170000001,
          20101.558599999993,
          27037.805100000012,
          16533.904299999995,
          35904.39979999999,
          19477.767600000003,
          18363.354499999998,
          21497.06520000001,
          18158.975800000004,
          20750.1585,
          26563.674800000023,
          24911.232900000014,
          26879.746500000012,
          25917.126299999985,
          13735.630899999996,
          25602.010299999998,
          24121.539899999996,
          27556.3986,
          23017.607299999996,
          16089.360900000003,
          22099.575099999987,
          28623.592899999992,
          33310.6206,
          21925.66720000002,
          28776.851500000008,
          27555.460600000006,
          21746.57789999997,
          24440.339799999987,
          21983.571700000004,
          28225.429200000017,
          31960.285599999996,
          17968.599500000008,
          18945.996900000006,
          25915.2123,
          23398.362300000033,
          21240.20289999998,
          28863.947999999997,
          25330.78430000002,
          25836.710600000013,
          24860.995000000028,
          23176.096999999998,
          28550.191000000006,
          20921.367299999987,
          25899.126899999996,
          24605.47080000001,
          24883.872300000003,
          27708.536500000013,
          19029.480099999997,
          35826.25749999999,
          31614.87689999999,
          27158.83619999999,
          23116.666600000015,
          14842.021999999999,
          21745.323700000004,
          18601.787500000006,
          24256.382099999984,
          22873.631499999996,
          22741.471400000017,
          23391.1508,
          21445.234300000007,
          18619.97820000001,
          31073.71790000003,
          30220.75359999999,
          28627.440999999988,
          27286.420500000004,
          29976.458799999993,
          31965.892199999984,
          23885.342900000003,
          25724.598500000007,
          27176.208400000003,
          27315.982800000034,
          25290.011399999996,
          26957.99649999999,
          14535.455100000016,
          30486.623599999984,
          23218.840099999998,
          26816.876200000006,
          31442.01739999999,
          13534.546600000007,
          19928.1932,
          19157.00840000002,
          33733.24120000002,
          23847.142599999992,
          24276.943900000002,
          25926.434100000002,
          18499.882599999994,
          20871.594499999996,
          25471.84810000003,
          16436.262799999997,
          27619.163900000025,
          24748.49080000001,
          31788.41860000001,
          30132.5899,
          26461.823699999968,
          30335.110900000014,
          21892.652599999994,
          31546.74790000001,
          26642.51809999999,
          23793.869200000005,
          20917.773,
          17401.143400000008,
          26818.359899999992,
          24270.673000000003,
          26574.478099999993,
          18826.280199999997,
          26060.831500000004,
          27564.62400000002,
          29899.21669999997,
          11965.629100000011,
          21665.87319999998,
          25414.090399999986,
          20445.53209999999,
          33284.20419999999,
          27371.385399999985,
          27423.10780000001,
          28611.9911,
          24846.251500000013,
          22835.370600000002,
          33426.7014,
          21821.46510000001,
          24878.9469,
          29905.213099999986,
          28735.15989999999,
          26686.03820000002,
          34911.669199999975,
          32909.41939999998,
          24453.883800000014,
          26436.893800000027,
          26743.292200000007,
          21505.78649999999,
          21442.906199999998,
          29762.32220000001,
          21774.2374,
          28350.117099999996,
          17743.26689999999,
          29081.271499999977,
          21141.196800000012,
          32314.3224,
          24734.191999999992,
          24523.417499999996,
          22745.56850000001,
          31362.299699999996,
          23437.3185,
          23606.814100000003,
          30307.372999999952,
          21864.270299999975,
          31966.366899999975,
          25614.033299999992,
          24549.0041,
          19820.050899999987,
          28794.63419999997,
          32475.83020000003,
          26444.52610000002,
          20740.0223,
          28587.041300000004,
          35687.38920000001,
          21679.68110000001,
          24555.5923,
          19434.043700000017,
          20969.315700000006,
          26610.3335,
          26565.21540000001,
          22822.992999999988,
          13913.348700000006,
          30145.294200000022,
          30039.8943,
          21106.77690000001,
          24680.126500000002,
          17407.696999999996,
          24047.148,
          29007.031300000028,
          29961.75699999996,
          14369.093000000003,
          35850.44400000002,
          25923.25630000003,
          27707.879699999987,
          28147.818000000017,
          24588.2223,
          25810.138900000005,
          27707.84890000003,
          29097.933199999992,
          21833.274100000002,
          21726.637500000004,
          22067.137499999997,
          22971.543799999996,
          21407.773100000002,
          14134.213900000006,
          28672.071800000012,
          25518.63500000001,
          28249.61549999999,
          22824.227999999985,
          22379.3865
         ]
        }
       ],
       "layout": {
        "showlegend": true,
        "template": {
         "data": {
          "bar": [
           {
            "error_x": {
             "color": "#2a3f5f"
            },
            "error_y": {
             "color": "#2a3f5f"
            },
            "marker": {
             "line": {
              "color": "#E5ECF6",
              "width": 0.5
             },
             "pattern": {
              "fillmode": "overlay",
              "size": 10,
              "solidity": 0.2
             }
            },
            "type": "bar"
           }
          ],
          "barpolar": [
           {
            "marker": {
             "line": {
              "color": "#E5ECF6",
              "width": 0.5
             },
             "pattern": {
              "fillmode": "overlay",
              "size": 10,
              "solidity": 0.2
             }
            },
            "type": "barpolar"
           }
          ],
          "carpet": [
           {
            "aaxis": {
             "endlinecolor": "#2a3f5f",
             "gridcolor": "white",
             "linecolor": "white",
             "minorgridcolor": "white",
             "startlinecolor": "#2a3f5f"
            },
            "baxis": {
             "endlinecolor": "#2a3f5f",
             "gridcolor": "white",
             "linecolor": "white",
             "minorgridcolor": "white",
             "startlinecolor": "#2a3f5f"
            },
            "type": "carpet"
           }
          ],
          "choropleth": [
           {
            "colorbar": {
             "outlinewidth": 0,
             "ticks": ""
            },
            "type": "choropleth"
           }
          ],
          "contour": [
           {
            "colorbar": {
             "outlinewidth": 0,
             "ticks": ""
            },
            "colorscale": [
             [
              0,
              "#0d0887"
             ],
             [
              0.1111111111111111,
              "#46039f"
             ],
             [
              0.2222222222222222,
              "#7201a8"
             ],
             [
              0.3333333333333333,
              "#9c179e"
             ],
             [
              0.4444444444444444,
              "#bd3786"
             ],
             [
              0.5555555555555556,
              "#d8576b"
             ],
             [
              0.6666666666666666,
              "#ed7953"
             ],
             [
              0.7777777777777778,
              "#fb9f3a"
             ],
             [
              0.8888888888888888,
              "#fdca26"
             ],
             [
              1,
              "#f0f921"
             ]
            ],
            "type": "contour"
           }
          ],
          "contourcarpet": [
           {
            "colorbar": {
             "outlinewidth": 0,
             "ticks": ""
            },
            "type": "contourcarpet"
           }
          ],
          "heatmap": [
           {
            "colorbar": {
             "outlinewidth": 0,
             "ticks": ""
            },
            "colorscale": [
             [
              0,
              "#0d0887"
             ],
             [
              0.1111111111111111,
              "#46039f"
             ],
             [
              0.2222222222222222,
              "#7201a8"
             ],
             [
              0.3333333333333333,
              "#9c179e"
             ],
             [
              0.4444444444444444,
              "#bd3786"
             ],
             [
              0.5555555555555556,
              "#d8576b"
             ],
             [
              0.6666666666666666,
              "#ed7953"
             ],
             [
              0.7777777777777778,
              "#fb9f3a"
             ],
             [
              0.8888888888888888,
              "#fdca26"
             ],
             [
              1,
              "#f0f921"
             ]
            ],
            "type": "heatmap"
           }
          ],
          "heatmapgl": [
           {
            "colorbar": {
             "outlinewidth": 0,
             "ticks": ""
            },
            "colorscale": [
             [
              0,
              "#0d0887"
             ],
             [
              0.1111111111111111,
              "#46039f"
             ],
             [
              0.2222222222222222,
              "#7201a8"
             ],
             [
              0.3333333333333333,
              "#9c179e"
             ],
             [
              0.4444444444444444,
              "#bd3786"
             ],
             [
              0.5555555555555556,
              "#d8576b"
             ],
             [
              0.6666666666666666,
              "#ed7953"
             ],
             [
              0.7777777777777778,
              "#fb9f3a"
             ],
             [
              0.8888888888888888,
              "#fdca26"
             ],
             [
              1,
              "#f0f921"
             ]
            ],
            "type": "heatmapgl"
           }
          ],
          "histogram": [
           {
            "marker": {
             "pattern": {
              "fillmode": "overlay",
              "size": 10,
              "solidity": 0.2
             }
            },
            "type": "histogram"
           }
          ],
          "histogram2d": [
           {
            "colorbar": {
             "outlinewidth": 0,
             "ticks": ""
            },
            "colorscale": [
             [
              0,
              "#0d0887"
             ],
             [
              0.1111111111111111,
              "#46039f"
             ],
             [
              0.2222222222222222,
              "#7201a8"
             ],
             [
              0.3333333333333333,
              "#9c179e"
             ],
             [
              0.4444444444444444,
              "#bd3786"
             ],
             [
              0.5555555555555556,
              "#d8576b"
             ],
             [
              0.6666666666666666,
              "#ed7953"
             ],
             [
              0.7777777777777778,
              "#fb9f3a"
             ],
             [
              0.8888888888888888,
              "#fdca26"
             ],
             [
              1,
              "#f0f921"
             ]
            ],
            "type": "histogram2d"
           }
          ],
          "histogram2dcontour": [
           {
            "colorbar": {
             "outlinewidth": 0,
             "ticks": ""
            },
            "colorscale": [
             [
              0,
              "#0d0887"
             ],
             [
              0.1111111111111111,
              "#46039f"
             ],
             [
              0.2222222222222222,
              "#7201a8"
             ],
             [
              0.3333333333333333,
              "#9c179e"
             ],
             [
              0.4444444444444444,
              "#bd3786"
             ],
             [
              0.5555555555555556,
              "#d8576b"
             ],
             [
              0.6666666666666666,
              "#ed7953"
             ],
             [
              0.7777777777777778,
              "#fb9f3a"
             ],
             [
              0.8888888888888888,
              "#fdca26"
             ],
             [
              1,
              "#f0f921"
             ]
            ],
            "type": "histogram2dcontour"
           }
          ],
          "mesh3d": [
           {
            "colorbar": {
             "outlinewidth": 0,
             "ticks": ""
            },
            "type": "mesh3d"
           }
          ],
          "parcoords": [
           {
            "line": {
             "colorbar": {
              "outlinewidth": 0,
              "ticks": ""
             }
            },
            "type": "parcoords"
           }
          ],
          "pie": [
           {
            "automargin": true,
            "type": "pie"
           }
          ],
          "scatter": [
           {
            "fillpattern": {
             "fillmode": "overlay",
             "size": 10,
             "solidity": 0.2
            },
            "type": "scatter"
           }
          ],
          "scatter3d": [
           {
            "line": {
             "colorbar": {
              "outlinewidth": 0,
              "ticks": ""
             }
            },
            "marker": {
             "colorbar": {
              "outlinewidth": 0,
              "ticks": ""
             }
            },
            "type": "scatter3d"
           }
          ],
          "scattercarpet": [
           {
            "marker": {
             "colorbar": {
              "outlinewidth": 0,
              "ticks": ""
             }
            },
            "type": "scattercarpet"
           }
          ],
          "scattergeo": [
           {
            "marker": {
             "colorbar": {
              "outlinewidth": 0,
              "ticks": ""
             }
            },
            "type": "scattergeo"
           }
          ],
          "scattergl": [
           {
            "marker": {
             "colorbar": {
              "outlinewidth": 0,
              "ticks": ""
             }
            },
            "type": "scattergl"
           }
          ],
          "scattermapbox": [
           {
            "marker": {
             "colorbar": {
              "outlinewidth": 0,
              "ticks": ""
             }
            },
            "type": "scattermapbox"
           }
          ],
          "scatterpolar": [
           {
            "marker": {
             "colorbar": {
              "outlinewidth": 0,
              "ticks": ""
             }
            },
            "type": "scatterpolar"
           }
          ],
          "scatterpolargl": [
           {
            "marker": {
             "colorbar": {
              "outlinewidth": 0,
              "ticks": ""
             }
            },
            "type": "scatterpolargl"
           }
          ],
          "scatterternary": [
           {
            "marker": {
             "colorbar": {
              "outlinewidth": 0,
              "ticks": ""
             }
            },
            "type": "scatterternary"
           }
          ],
          "surface": [
           {
            "colorbar": {
             "outlinewidth": 0,
             "ticks": ""
            },
            "colorscale": [
             [
              0,
              "#0d0887"
             ],
             [
              0.1111111111111111,
              "#46039f"
             ],
             [
              0.2222222222222222,
              "#7201a8"
             ],
             [
              0.3333333333333333,
              "#9c179e"
             ],
             [
              0.4444444444444444,
              "#bd3786"
             ],
             [
              0.5555555555555556,
              "#d8576b"
             ],
             [
              0.6666666666666666,
              "#ed7953"
             ],
             [
              0.7777777777777778,
              "#fb9f3a"
             ],
             [
              0.8888888888888888,
              "#fdca26"
             ],
             [
              1,
              "#f0f921"
             ]
            ],
            "type": "surface"
           }
          ],
          "table": [
           {
            "cells": {
             "fill": {
              "color": "#EBF0F8"
             },
             "line": {
              "color": "white"
             }
            },
            "header": {
             "fill": {
              "color": "#C8D4E3"
             },
             "line": {
              "color": "white"
             }
            },
            "type": "table"
           }
          ]
         },
         "layout": {
          "annotationdefaults": {
           "arrowcolor": "#2a3f5f",
           "arrowhead": 0,
           "arrowwidth": 1
          },
          "autotypenumbers": "strict",
          "coloraxis": {
           "colorbar": {
            "outlinewidth": 0,
            "ticks": ""
           }
          },
          "colorscale": {
           "diverging": [
            [
             0,
             "#8e0152"
            ],
            [
             0.1,
             "#c51b7d"
            ],
            [
             0.2,
             "#de77ae"
            ],
            [
             0.3,
             "#f1b6da"
            ],
            [
             0.4,
             "#fde0ef"
            ],
            [
             0.5,
             "#f7f7f7"
            ],
            [
             0.6,
             "#e6f5d0"
            ],
            [
             0.7,
             "#b8e186"
            ],
            [
             0.8,
             "#7fbc41"
            ],
            [
             0.9,
             "#4d9221"
            ],
            [
             1,
             "#276419"
            ]
           ],
           "sequential": [
            [
             0,
             "#0d0887"
            ],
            [
             0.1111111111111111,
             "#46039f"
            ],
            [
             0.2222222222222222,
             "#7201a8"
            ],
            [
             0.3333333333333333,
             "#9c179e"
            ],
            [
             0.4444444444444444,
             "#bd3786"
            ],
            [
             0.5555555555555556,
             "#d8576b"
            ],
            [
             0.6666666666666666,
             "#ed7953"
            ],
            [
             0.7777777777777778,
             "#fb9f3a"
            ],
            [
             0.8888888888888888,
             "#fdca26"
            ],
            [
             1,
             "#f0f921"
            ]
           ],
           "sequentialminus": [
            [
             0,
             "#0d0887"
            ],
            [
             0.1111111111111111,
             "#46039f"
            ],
            [
             0.2222222222222222,
             "#7201a8"
            ],
            [
             0.3333333333333333,
             "#9c179e"
            ],
            [
             0.4444444444444444,
             "#bd3786"
            ],
            [
             0.5555555555555556,
             "#d8576b"
            ],
            [
             0.6666666666666666,
             "#ed7953"
            ],
            [
             0.7777777777777778,
             "#fb9f3a"
            ],
            [
             0.8888888888888888,
             "#fdca26"
            ],
            [
             1,
             "#f0f921"
            ]
           ]
          },
          "colorway": [
           "#636efa",
           "#EF553B",
           "#00cc96",
           "#ab63fa",
           "#FFA15A",
           "#19d3f3",
           "#FF6692",
           "#B6E880",
           "#FF97FF",
           "#FECB52"
          ],
          "font": {
           "color": "#2a3f5f"
          },
          "geo": {
           "bgcolor": "white",
           "lakecolor": "white",
           "landcolor": "#E5ECF6",
           "showlakes": true,
           "showland": true,
           "subunitcolor": "white"
          },
          "hoverlabel": {
           "align": "left"
          },
          "hovermode": "closest",
          "mapbox": {
           "style": "light"
          },
          "paper_bgcolor": "white",
          "plot_bgcolor": "#E5ECF6",
          "polar": {
           "angularaxis": {
            "gridcolor": "white",
            "linecolor": "white",
            "ticks": ""
           },
           "bgcolor": "#E5ECF6",
           "radialaxis": {
            "gridcolor": "white",
            "linecolor": "white",
            "ticks": ""
           }
          },
          "scene": {
           "xaxis": {
            "backgroundcolor": "#E5ECF6",
            "gridcolor": "white",
            "gridwidth": 2,
            "linecolor": "white",
            "showbackground": true,
            "ticks": "",
            "zerolinecolor": "white"
           },
           "yaxis": {
            "backgroundcolor": "#E5ECF6",
            "gridcolor": "white",
            "gridwidth": 2,
            "linecolor": "white",
            "showbackground": true,
            "ticks": "",
            "zerolinecolor": "white"
           },
           "zaxis": {
            "backgroundcolor": "#E5ECF6",
            "gridcolor": "white",
            "gridwidth": 2,
            "linecolor": "white",
            "showbackground": true,
            "ticks": "",
            "zerolinecolor": "white"
           }
          },
          "shapedefaults": {
           "line": {
            "color": "#2a3f5f"
           }
          },
          "ternary": {
           "aaxis": {
            "gridcolor": "white",
            "linecolor": "white",
            "ticks": ""
           },
           "baxis": {
            "gridcolor": "white",
            "linecolor": "white",
            "ticks": ""
           },
           "bgcolor": "#E5ECF6",
           "caxis": {
            "gridcolor": "white",
            "linecolor": "white",
            "ticks": ""
           }
          },
          "title": {
           "x": 0.05
          },
          "xaxis": {
           "automargin": true,
           "gridcolor": "white",
           "linecolor": "white",
           "ticks": "",
           "title": {
            "standoff": 15
           },
           "zerolinecolor": "white",
           "zerolinewidth": 2
          },
          "yaxis": {
           "automargin": true,
           "gridcolor": "white",
           "linecolor": "white",
           "ticks": "",
           "title": {
            "standoff": 15
           },
           "zerolinecolor": "white",
           "zerolinewidth": 2
          }
         }
        },
        "title": {
         "text": "Actual vs Predicted Sales (Random Forest)"
        },
        "xaxis": {
         "title": {
          "text": "Date"
         }
        },
        "yaxis": {
         "title": {
          "text": "Sales"
         }
        }
       }
      }
     },
     "metadata": {},
     "output_type": "display_data"
    }
   ],
   "source": [
    "import plotly.graph_objects as go\n",
    "\n",
    "trace_actual = go.Scatter(x=test.index, y=y_test, mode='markers', name='Actual')\n",
    "trace_predicted = go.Scatter(x=test.index, y=rf_predictions, mode='markers', name='Predicted')\n",
    "\n",
    "# Create layout\n",
    "layout = go.Layout(\n",
    "    title='Actual vs Predicted Sales (Random Forest)',\n",
    "    xaxis=dict(title='Date'),\n",
    "    yaxis=dict(title='Sales'),\n",
    "    showlegend=True\n",
    ")\n",
    "\n",
    "# Create figure\n",
    "fig = go.Figure(data=[trace_actual, trace_predicted], layout=layout)\n",
    "\n",
    "# Show figure\n",
    "fig.show()\n"
   ]
  },
  {
   "cell_type": "code",
   "execution_count": 78,
   "metadata": {},
   "outputs": [],
   "source": [
    "next_15_days = pd.date_range(start=test.index[-1] + pd.DateOffset(1), periods=15, freq='D')\n",
    "sample_data = pd.DataFrame(index=next_15_days, columns=['Inventory', 'After Sales', 'Load Count', 'Total Gallons Delivered', 'Temp-F'])\n",
    "\n"
   ]
  },
  {
   "cell_type": "code",
   "execution_count": 79,
   "metadata": {},
   "outputs": [],
   "source": [
    "for column in sample_data.columns:\n",
    "    sample_data[column] = np.random.choice(df[column], size=len(sample_data))\n",
    "\n"
   ]
  },
  {
   "cell_type": "code",
   "execution_count": 80,
   "metadata": {},
   "outputs": [
    {
     "data": {
      "text/html": [
       "<div>\n",
       "<style scoped>\n",
       "    .dataframe tbody tr th:only-of-type {\n",
       "        vertical-align: middle;\n",
       "    }\n",
       "\n",
       "    .dataframe tbody tr th {\n",
       "        vertical-align: top;\n",
       "    }\n",
       "\n",
       "    .dataframe thead th {\n",
       "        text-align: right;\n",
       "    }\n",
       "</style>\n",
       "<table border=\"1\" class=\"dataframe\">\n",
       "  <thead>\n",
       "    <tr style=\"text-align: right;\">\n",
       "      <th></th>\n",
       "      <th>Inventory</th>\n",
       "      <th>After Sales</th>\n",
       "      <th>Load Count</th>\n",
       "      <th>Total Gallons Delivered</th>\n",
       "      <th>Temp-F</th>\n",
       "    </tr>\n",
       "  </thead>\n",
       "  <tbody>\n",
       "    <tr>\n",
       "      <th>2023-11-01</th>\n",
       "      <td>36473.142</td>\n",
       "      <td>3874.01</td>\n",
       "      <td>4</td>\n",
       "      <td>36595</td>\n",
       "      <td>77.9</td>\n",
       "    </tr>\n",
       "    <tr>\n",
       "      <th>2023-11-02</th>\n",
       "      <td>44063.159</td>\n",
       "      <td>-2711.43</td>\n",
       "      <td>3</td>\n",
       "      <td>28858</td>\n",
       "      <td>70.4</td>\n",
       "    </tr>\n",
       "    <tr>\n",
       "      <th>2023-11-03</th>\n",
       "      <td>29292.524</td>\n",
       "      <td>-5631.60</td>\n",
       "      <td>3</td>\n",
       "      <td>31164</td>\n",
       "      <td>78.3</td>\n",
       "    </tr>\n",
       "    <tr>\n",
       "      <th>2023-11-04</th>\n",
       "      <td>29412.098</td>\n",
       "      <td>1158.90</td>\n",
       "      <td>4</td>\n",
       "      <td>23901</td>\n",
       "      <td>77.9</td>\n",
       "    </tr>\n",
       "    <tr>\n",
       "      <th>2023-11-05</th>\n",
       "      <td>42485.060</td>\n",
       "      <td>21440.59</td>\n",
       "      <td>2</td>\n",
       "      <td>32696</td>\n",
       "      <td>79.5</td>\n",
       "    </tr>\n",
       "    <tr>\n",
       "      <th>2023-11-06</th>\n",
       "      <td>36932.230</td>\n",
       "      <td>12842.27</td>\n",
       "      <td>3</td>\n",
       "      <td>40455</td>\n",
       "      <td>78.3</td>\n",
       "    </tr>\n",
       "    <tr>\n",
       "      <th>2023-11-07</th>\n",
       "      <td>40259.688</td>\n",
       "      <td>8506.06</td>\n",
       "      <td>3</td>\n",
       "      <td>32633</td>\n",
       "      <td>74.8</td>\n",
       "    </tr>\n",
       "    <tr>\n",
       "      <th>2023-11-08</th>\n",
       "      <td>40845.723</td>\n",
       "      <td>4449.65</td>\n",
       "      <td>2</td>\n",
       "      <td>30728</td>\n",
       "      <td>78.6</td>\n",
       "    </tr>\n",
       "    <tr>\n",
       "      <th>2023-11-09</th>\n",
       "      <td>33038.305</td>\n",
       "      <td>22364.34</td>\n",
       "      <td>3</td>\n",
       "      <td>39453</td>\n",
       "      <td>50.0</td>\n",
       "    </tr>\n",
       "    <tr>\n",
       "      <th>2023-11-10</th>\n",
       "      <td>41130.917</td>\n",
       "      <td>5817.25</td>\n",
       "      <td>3</td>\n",
       "      <td>37592</td>\n",
       "      <td>70.5</td>\n",
       "    </tr>\n",
       "    <tr>\n",
       "      <th>2023-11-11</th>\n",
       "      <td>30438.465</td>\n",
       "      <td>14538.71</td>\n",
       "      <td>2</td>\n",
       "      <td>15330</td>\n",
       "      <td>72.4</td>\n",
       "    </tr>\n",
       "    <tr>\n",
       "      <th>2023-11-12</th>\n",
       "      <td>20553.104</td>\n",
       "      <td>2551.69</td>\n",
       "      <td>2</td>\n",
       "      <td>29702</td>\n",
       "      <td>71.4</td>\n",
       "    </tr>\n",
       "    <tr>\n",
       "      <th>2023-11-13</th>\n",
       "      <td>38878.067</td>\n",
       "      <td>410.61</td>\n",
       "      <td>2</td>\n",
       "      <td>39615</td>\n",
       "      <td>79.7</td>\n",
       "    </tr>\n",
       "    <tr>\n",
       "      <th>2023-11-14</th>\n",
       "      <td>45908.396</td>\n",
       "      <td>16816.91</td>\n",
       "      <td>3</td>\n",
       "      <td>40160</td>\n",
       "      <td>75.0</td>\n",
       "    </tr>\n",
       "    <tr>\n",
       "      <th>2023-11-15</th>\n",
       "      <td>26362.652</td>\n",
       "      <td>4068.70</td>\n",
       "      <td>3</td>\n",
       "      <td>22841</td>\n",
       "      <td>79.1</td>\n",
       "    </tr>\n",
       "  </tbody>\n",
       "</table>\n",
       "</div>"
      ],
      "text/plain": [
       "            Inventory  After Sales  Load Count  Total Gallons Delivered  \\\n",
       "2023-11-01  36473.142      3874.01           4                    36595   \n",
       "2023-11-02  44063.159     -2711.43           3                    28858   \n",
       "2023-11-03  29292.524     -5631.60           3                    31164   \n",
       "2023-11-04  29412.098      1158.90           4                    23901   \n",
       "2023-11-05  42485.060     21440.59           2                    32696   \n",
       "2023-11-06  36932.230     12842.27           3                    40455   \n",
       "2023-11-07  40259.688      8506.06           3                    32633   \n",
       "2023-11-08  40845.723      4449.65           2                    30728   \n",
       "2023-11-09  33038.305     22364.34           3                    39453   \n",
       "2023-11-10  41130.917      5817.25           3                    37592   \n",
       "2023-11-11  30438.465     14538.71           2                    15330   \n",
       "2023-11-12  20553.104      2551.69           2                    29702   \n",
       "2023-11-13  38878.067       410.61           2                    39615   \n",
       "2023-11-14  45908.396     16816.91           3                    40160   \n",
       "2023-11-15  26362.652      4068.70           3                    22841   \n",
       "\n",
       "            Temp-F  \n",
       "2023-11-01    77.9  \n",
       "2023-11-02    70.4  \n",
       "2023-11-03    78.3  \n",
       "2023-11-04    77.9  \n",
       "2023-11-05    79.5  \n",
       "2023-11-06    78.3  \n",
       "2023-11-07    74.8  \n",
       "2023-11-08    78.6  \n",
       "2023-11-09    50.0  \n",
       "2023-11-10    70.5  \n",
       "2023-11-11    72.4  \n",
       "2023-11-12    71.4  \n",
       "2023-11-13    79.7  \n",
       "2023-11-14    75.0  \n",
       "2023-11-15    79.1  "
      ]
     },
     "execution_count": 80,
     "metadata": {},
     "output_type": "execute_result"
    }
   ],
   "source": [
    "sample_data"
   ]
  },
  {
   "cell_type": "code",
   "execution_count": 81,
   "metadata": {},
   "outputs": [],
   "source": [
    "# Make predictions for the next 15 days using your trained Random Forest model\n",
    "sample_predictions = rf_model.predict(sample_data)"
   ]
  },
  {
   "cell_type": "code",
   "execution_count": 82,
   "metadata": {},
   "outputs": [
    {
     "data": {
      "text/plain": [
       "array([32338.3318, 37649.1519, 34122.8278, 28356.1664, 20763.5834,\n",
       "       23920.1275, 31782.1515, 35537.2885, 12826.4664, 34815.3463,\n",
       "       15854.4084, 18731.5543, 35780.0349, 27974.2897, 22581.7965])"
      ]
     },
     "execution_count": 82,
     "metadata": {},
     "output_type": "execute_result"
    }
   ],
   "source": [
    "sample_predictions"
   ]
  },
  {
   "cell_type": "code",
   "execution_count": 83,
   "metadata": {},
   "outputs": [
    {
     "data": {
      "application/vnd.plotly.v1+json": {
       "config": {
        "plotlyServerURL": "https://plot.ly"
       },
       "data": [
        {
         "mode": "markers",
         "name": "Actual",
         "type": "scatter",
         "x": [
          "2022-12-17T00:00:00",
          "2022-12-18T00:00:00",
          "2022-12-19T00:00:00",
          "2022-12-20T00:00:00",
          "2022-12-21T00:00:00",
          "2022-12-22T00:00:00",
          "2022-12-23T00:00:00",
          "2022-12-24T00:00:00",
          "2022-12-25T00:00:00",
          "2022-12-26T00:00:00",
          "2022-12-27T00:00:00",
          "2022-12-28T00:00:00",
          "2022-12-29T00:00:00",
          "2022-12-30T00:00:00",
          "2022-12-31T00:00:00",
          "2023-01-01T00:00:00",
          "2023-01-02T00:00:00",
          "2023-01-03T00:00:00",
          "2023-01-04T00:00:00",
          "2023-01-05T00:00:00",
          "2023-01-06T00:00:00",
          "2023-01-07T00:00:00",
          "2023-01-08T00:00:00",
          "2023-01-09T00:00:00",
          "2023-01-10T00:00:00",
          "2023-01-11T00:00:00",
          "2023-01-12T00:00:00",
          "2023-01-13T00:00:00",
          "2023-01-14T00:00:00",
          "2023-01-15T00:00:00",
          "2023-01-16T00:00:00",
          "2023-01-17T00:00:00",
          "2023-01-18T00:00:00",
          "2023-01-19T00:00:00",
          "2023-01-20T00:00:00",
          "2023-01-21T00:00:00",
          "2023-01-22T00:00:00",
          "2023-01-23T00:00:00",
          "2023-01-24T00:00:00",
          "2023-01-25T00:00:00",
          "2023-01-26T00:00:00",
          "2023-01-27T00:00:00",
          "2023-01-28T00:00:00",
          "2023-01-29T00:00:00",
          "2023-01-30T00:00:00",
          "2023-01-31T00:00:00",
          "2023-02-01T00:00:00",
          "2023-02-02T00:00:00",
          "2023-02-03T00:00:00",
          "2023-02-04T00:00:00",
          "2023-02-05T00:00:00",
          "2023-02-06T00:00:00",
          "2023-02-07T00:00:00",
          "2023-02-08T00:00:00",
          "2023-02-09T00:00:00",
          "2023-02-10T00:00:00",
          "2023-02-11T00:00:00",
          "2023-02-12T00:00:00",
          "2023-02-13T00:00:00",
          "2023-02-14T00:00:00",
          "2023-02-15T00:00:00",
          "2023-02-16T00:00:00",
          "2023-02-17T00:00:00",
          "2023-02-18T00:00:00",
          "2023-02-19T00:00:00",
          "2023-02-20T00:00:00",
          "2023-02-21T00:00:00",
          "2023-02-22T00:00:00",
          "2023-02-23T00:00:00",
          "2023-02-24T00:00:00",
          "2023-02-25T00:00:00",
          "2023-02-26T00:00:00",
          "2023-02-27T00:00:00",
          "2023-02-28T00:00:00",
          "2023-03-01T00:00:00",
          "2023-03-02T00:00:00",
          "2023-03-03T00:00:00",
          "2023-03-04T00:00:00",
          "2023-03-05T00:00:00",
          "2023-03-06T00:00:00",
          "2023-03-07T00:00:00",
          "2023-03-08T00:00:00",
          "2023-03-09T00:00:00",
          "2023-03-10T00:00:00",
          "2023-03-11T00:00:00",
          "2023-03-12T00:00:00",
          "2023-03-13T00:00:00",
          "2023-03-14T00:00:00",
          "2023-03-15T00:00:00",
          "2023-03-16T00:00:00",
          "2023-03-17T00:00:00",
          "2023-03-18T00:00:00",
          "2023-03-19T00:00:00",
          "2023-03-20T00:00:00",
          "2023-03-21T00:00:00",
          "2023-03-22T00:00:00",
          "2023-03-23T00:00:00",
          "2023-03-24T00:00:00",
          "2023-03-25T00:00:00",
          "2023-03-26T00:00:00",
          "2023-03-27T00:00:00",
          "2023-03-28T00:00:00",
          "2023-03-29T00:00:00",
          "2023-03-30T00:00:00",
          "2023-03-31T00:00:00",
          "2023-04-01T00:00:00",
          "2023-04-02T00:00:00",
          "2023-04-03T00:00:00",
          "2023-04-04T00:00:00",
          "2023-04-05T00:00:00",
          "2023-04-06T00:00:00",
          "2023-04-07T00:00:00",
          "2023-04-08T00:00:00",
          "2023-04-09T00:00:00",
          "2023-04-10T00:00:00",
          "2023-04-11T00:00:00",
          "2023-04-12T00:00:00",
          "2023-04-13T00:00:00",
          "2023-04-14T00:00:00",
          "2023-04-15T00:00:00",
          "2023-04-16T00:00:00",
          "2023-04-17T00:00:00",
          "2023-04-18T00:00:00",
          "2023-04-19T00:00:00",
          "2023-04-20T00:00:00",
          "2023-04-21T00:00:00",
          "2023-04-22T00:00:00",
          "2023-04-23T00:00:00",
          "2023-04-24T00:00:00",
          "2023-04-25T00:00:00",
          "2023-04-26T00:00:00",
          "2023-04-27T00:00:00",
          "2023-04-28T00:00:00",
          "2023-04-29T00:00:00",
          "2023-04-30T00:00:00",
          "2023-05-01T00:00:00",
          "2023-05-02T00:00:00",
          "2023-05-03T00:00:00",
          "2023-05-04T00:00:00",
          "2023-05-05T00:00:00",
          "2023-05-06T00:00:00",
          "2023-05-07T00:00:00",
          "2023-05-08T00:00:00",
          "2023-05-09T00:00:00",
          "2023-05-10T00:00:00",
          "2023-05-11T00:00:00",
          "2023-05-12T00:00:00",
          "2023-05-13T00:00:00",
          "2023-05-14T00:00:00",
          "2023-05-15T00:00:00",
          "2023-05-16T00:00:00",
          "2023-05-17T00:00:00",
          "2023-05-18T00:00:00",
          "2023-05-19T00:00:00",
          "2023-05-20T00:00:00",
          "2023-05-21T00:00:00",
          "2023-05-22T00:00:00",
          "2023-05-23T00:00:00",
          "2023-05-24T00:00:00",
          "2023-05-25T00:00:00",
          "2023-05-26T00:00:00",
          "2023-05-27T00:00:00",
          "2023-05-28T00:00:00",
          "2023-05-29T00:00:00",
          "2023-05-30T00:00:00",
          "2023-05-31T00:00:00",
          "2023-06-01T00:00:00",
          "2023-06-02T00:00:00",
          "2023-06-03T00:00:00",
          "2023-06-04T00:00:00",
          "2023-06-05T00:00:00",
          "2023-06-06T00:00:00",
          "2023-06-07T00:00:00",
          "2023-06-08T00:00:00",
          "2023-06-09T00:00:00",
          "2023-06-10T00:00:00",
          "2023-06-11T00:00:00",
          "2023-06-12T00:00:00",
          "2023-06-13T00:00:00",
          "2023-06-14T00:00:00",
          "2023-06-15T00:00:00",
          "2023-06-16T00:00:00",
          "2023-06-17T00:00:00",
          "2023-06-18T00:00:00",
          "2023-06-19T00:00:00",
          "2023-06-20T00:00:00",
          "2023-06-21T00:00:00",
          "2023-06-22T00:00:00",
          "2023-06-23T00:00:00",
          "2023-06-24T00:00:00",
          "2023-06-25T00:00:00",
          "2023-06-26T00:00:00",
          "2023-06-27T00:00:00",
          "2023-06-28T00:00:00",
          "2023-06-29T00:00:00",
          "2023-06-30T00:00:00",
          "2023-07-01T00:00:00",
          "2023-07-02T00:00:00",
          "2023-07-03T00:00:00",
          "2023-07-04T00:00:00",
          "2023-07-05T00:00:00",
          "2023-07-06T00:00:00",
          "2023-07-07T00:00:00",
          "2023-07-08T00:00:00",
          "2023-07-09T00:00:00",
          "2023-07-10T00:00:00",
          "2023-07-11T00:00:00",
          "2023-07-12T00:00:00",
          "2023-07-13T00:00:00",
          "2023-07-14T00:00:00",
          "2023-07-15T00:00:00",
          "2023-07-16T00:00:00",
          "2023-07-17T00:00:00",
          "2023-07-18T00:00:00",
          "2023-07-19T00:00:00",
          "2023-07-20T00:00:00",
          "2023-07-21T00:00:00",
          "2023-07-22T00:00:00",
          "2023-07-23T00:00:00",
          "2023-07-24T00:00:00",
          "2023-07-25T00:00:00",
          "2023-07-26T00:00:00",
          "2023-07-27T00:00:00",
          "2023-07-28T00:00:00",
          "2023-07-29T00:00:00",
          "2023-07-30T00:00:00",
          "2023-07-31T00:00:00",
          "2023-08-01T00:00:00",
          "2023-08-02T00:00:00",
          "2023-08-03T00:00:00",
          "2023-08-04T00:00:00",
          "2023-08-05T00:00:00",
          "2023-08-06T00:00:00",
          "2023-08-07T00:00:00",
          "2023-08-08T00:00:00",
          "2023-08-09T00:00:00",
          "2023-08-10T00:00:00",
          "2023-08-11T00:00:00",
          "2023-08-12T00:00:00",
          "2023-08-13T00:00:00",
          "2023-08-14T00:00:00",
          "2023-08-15T00:00:00",
          "2023-08-16T00:00:00",
          "2023-08-17T00:00:00",
          "2023-08-18T00:00:00",
          "2023-08-19T00:00:00",
          "2023-08-20T00:00:00",
          "2023-08-21T00:00:00",
          "2023-08-22T00:00:00",
          "2023-08-23T00:00:00",
          "2023-08-24T00:00:00",
          "2023-08-25T00:00:00",
          "2023-08-26T00:00:00",
          "2023-08-27T00:00:00",
          "2023-08-28T00:00:00",
          "2023-08-29T00:00:00",
          "2023-08-30T00:00:00",
          "2023-08-31T00:00:00",
          "2023-09-01T00:00:00",
          "2023-09-02T00:00:00",
          "2023-09-03T00:00:00",
          "2023-09-04T00:00:00",
          "2023-09-05T00:00:00",
          "2023-09-06T00:00:00",
          "2023-09-07T00:00:00",
          "2023-09-08T00:00:00",
          "2023-09-09T00:00:00",
          "2023-09-10T00:00:00",
          "2023-09-11T00:00:00",
          "2023-09-12T00:00:00",
          "2023-09-13T00:00:00",
          "2023-09-14T00:00:00",
          "2023-09-15T00:00:00",
          "2023-09-16T00:00:00",
          "2023-09-17T00:00:00",
          "2023-09-18T00:00:00",
          "2023-09-19T00:00:00",
          "2023-09-20T00:00:00",
          "2023-09-21T00:00:00",
          "2023-09-22T00:00:00",
          "2023-09-23T00:00:00",
          "2023-09-24T00:00:00",
          "2023-09-25T00:00:00",
          "2023-09-26T00:00:00",
          "2023-09-27T00:00:00",
          "2023-09-28T00:00:00",
          "2023-09-29T00:00:00",
          "2023-09-30T00:00:00",
          "2023-10-01T00:00:00",
          "2023-10-02T00:00:00",
          "2023-10-03T00:00:00",
          "2023-10-04T00:00:00",
          "2023-10-05T00:00:00",
          "2023-10-06T00:00:00",
          "2023-10-07T00:00:00",
          "2023-10-08T00:00:00",
          "2023-10-09T00:00:00",
          "2023-10-10T00:00:00",
          "2023-10-11T00:00:00",
          "2023-10-12T00:00:00",
          "2023-10-13T00:00:00",
          "2023-10-14T00:00:00",
          "2023-10-15T00:00:00",
          "2023-10-16T00:00:00",
          "2023-10-17T00:00:00",
          "2023-10-18T00:00:00",
          "2023-10-19T00:00:00",
          "2023-10-20T00:00:00",
          "2023-10-21T00:00:00",
          "2023-10-22T00:00:00",
          "2023-10-23T00:00:00",
          "2023-10-24T00:00:00",
          "2023-10-25T00:00:00",
          "2023-10-26T00:00:00",
          "2023-10-27T00:00:00",
          "2023-10-28T00:00:00",
          "2023-10-29T00:00:00",
          "2023-10-30T00:00:00",
          "2023-10-31T00:00:00"
         ],
         "y": [
          12882.23,
          22756.09,
          26960.22,
          23791.05,
          25909.71,
          12649.89,
          27140.75,
          22716.32,
          24345.62,
          25125.82,
          25392.4,
          18080.92,
          24054.75,
          29458.64,
          32083.93,
          23455.76,
          15086.61,
          16269.73,
          37239.92,
          34994.7,
          29442.3,
          24687.63,
          26727.46,
          26393.18,
          24785.9,
          32443.85,
          22990.69,
          23529.21,
          23085.45,
          17103.73,
          29226.06,
          32473.85,
          27212.3,
          23921.79,
          27488.09,
          31184.58,
          31215.82,
          21701.56,
          27506.46,
          25834.75,
          21947.09,
          14028.57,
          19382.91,
          26064.08,
          24651.26,
          20339.09,
          26433.32,
          27056.33,
          28921.43,
          30007.58,
          29802.22,
          18653.59,
          25961.08,
          24043.4,
          13831.14,
          25419.6,
          16623.11,
          32702.3,
          31555.96,
          21219.14,
          18251.59,
          14877.43,
          23140.33,
          25729.75,
          27958.14,
          30162.45,
          27908.03,
          17312.12,
          24792.65,
          32284.52,
          20244.11,
          20049.77,
          27437.06,
          18610.33,
          22501.96,
          25378.5,
          28641.79,
          35455.57,
          25678.82,
          27200.87,
          25040.84,
          23608.11,
          29708.84,
          34416.6,
          22574.56,
          23774.31,
          34153.83,
          22213.16,
          22979.1,
          5468.68,
          29293.52,
          26886.4,
          30921.27,
          26859.24,
          31126.29,
          26493.79,
          25440.89,
          29983.89,
          25090.05,
          33320.89,
          17068.73,
          26703.96,
          19412.45,
          21547.33,
          23203.77,
          24187.54,
          20588.73,
          17692.69,
          30405.57,
          28437.97,
          22236.32,
          29239.6,
          19920.73,
          19981.59,
          23376.12,
          14858.2,
          18842.11,
          23384.8,
          29502.99,
          19072.22,
          14704.26,
          28589.47,
          18634.25,
          34246.43,
          31148.83,
          16722.71,
          28953.29,
          30149.14,
          20492.47,
          27139.39,
          17091.84,
          37715.89,
          19408.31,
          17403.65,
          21849.65,
          17926.14,
          20540.3,
          26580.25,
          24908.25,
          26610.17,
          26002.61,
          13020.52,
          25659.78,
          24394.96,
          27731.47,
          22445.7,
          16247.01,
          21857.13,
          28794.12,
          33594.78,
          22026.48,
          28670.33,
          27607.29,
          21798.24,
          23578.8,
          21858.89,
          27999.69,
          31786.21,
          17637.27,
          18447.07,
          25980.46,
          23803.63,
          21405.86,
          28820.63,
          25384.83,
          25454,
          25128.52,
          23186.49,
          28643.95,
          21185.34,
          25838.24,
          24624.1,
          24510.68,
          27671.31,
          19228.79,
          36869.18,
          32531.23,
          27224.56,
          22905.03,
          15271.68,
          21948.35,
          18254.22,
          24200.62,
          22668.59,
          22872.05,
          23379.05,
          21318.12,
          18215.09,
          30807.26,
          30597.38,
          28778.41,
          27154.71,
          29625.25,
          32332.44,
          23887.23,
          25506.55,
          27072.58,
          27329.02,
          25263.86,
          27078.73,
          14423.12,
          30545.39,
          23192.54,
          26738.26,
          31214.16,
          12945.7,
          19180.52,
          18367.53,
          34279.82,
          24140.98,
          24202.7,
          25639.94,
          18388.45,
          20595.12,
          25213.72,
          16568.85,
          27888.65,
          24699.16,
          31519.96,
          30280.79,
          26450.37,
          30565.08,
          21768.94,
          31974.08,
          27003.28,
          23677.32,
          20684.5,
          15831.49,
          26839.3,
          24229.25,
          26627.22,
          17939.06,
          26061.66,
          27229.45,
          30643.83,
          9391.43,
          21163.27,
          25529.97,
          20331.87,
          33482.23,
          27157.62,
          27623.22,
          28611.07,
          25061.5,
          23100.22,
          34688.72,
          21636.57,
          24774.34,
          29907.69,
          28673.32,
          26682.92,
          35920.08,
          33383.27,
          24412.27,
          26417.33,
          26932.41,
          21542.29,
          21563.57,
          29602.08,
          21619.52,
          27833.65,
          17243.33,
          29173.32,
          21336.75,
          32244.22,
          24650.34,
          24164.54,
          22397.47,
          30707.39,
          23624.31,
          23711.5,
          30294.17,
          21920,
          32412.38,
          25570.83,
          24317.91,
          19436.79,
          28757.73,
          31996.8,
          26292.79,
          20227.95,
          28526.49,
          36018.29,
          21498.1,
          24329.8,
          19557.53,
          20969.77,
          26436.73,
          26428.92,
          22373.24,
          14331.97,
          30054.31,
          29791.97,
          20895.83,
          24726.57,
          15751.72,
          24072.27,
          29099.05,
          30044,
          13799.76,
          37391.06,
          26094.75,
          27993.77,
          28397.56,
          24398.44,
          25814.39,
          27841.8,
          28954.41,
          22154.51,
          22113.01,
          22188.39,
          23611.14,
          21272.25,
          12973.8,
          28870.02,
          25649.49,
          28305.78,
          22640.1,
          22266.74
         ]
        },
        {
         "mode": "markers",
         "name": "Predicted (Test Set)",
         "type": "scatter",
         "x": [
          "2022-12-17T00:00:00",
          "2022-12-18T00:00:00",
          "2022-12-19T00:00:00",
          "2022-12-20T00:00:00",
          "2022-12-21T00:00:00",
          "2022-12-22T00:00:00",
          "2022-12-23T00:00:00",
          "2022-12-24T00:00:00",
          "2022-12-25T00:00:00",
          "2022-12-26T00:00:00",
          "2022-12-27T00:00:00",
          "2022-12-28T00:00:00",
          "2022-12-29T00:00:00",
          "2022-12-30T00:00:00",
          "2022-12-31T00:00:00",
          "2023-01-01T00:00:00",
          "2023-01-02T00:00:00",
          "2023-01-03T00:00:00",
          "2023-01-04T00:00:00",
          "2023-01-05T00:00:00",
          "2023-01-06T00:00:00",
          "2023-01-07T00:00:00",
          "2023-01-08T00:00:00",
          "2023-01-09T00:00:00",
          "2023-01-10T00:00:00",
          "2023-01-11T00:00:00",
          "2023-01-12T00:00:00",
          "2023-01-13T00:00:00",
          "2023-01-14T00:00:00",
          "2023-01-15T00:00:00",
          "2023-01-16T00:00:00",
          "2023-01-17T00:00:00",
          "2023-01-18T00:00:00",
          "2023-01-19T00:00:00",
          "2023-01-20T00:00:00",
          "2023-01-21T00:00:00",
          "2023-01-22T00:00:00",
          "2023-01-23T00:00:00",
          "2023-01-24T00:00:00",
          "2023-01-25T00:00:00",
          "2023-01-26T00:00:00",
          "2023-01-27T00:00:00",
          "2023-01-28T00:00:00",
          "2023-01-29T00:00:00",
          "2023-01-30T00:00:00",
          "2023-01-31T00:00:00",
          "2023-02-01T00:00:00",
          "2023-02-02T00:00:00",
          "2023-02-03T00:00:00",
          "2023-02-04T00:00:00",
          "2023-02-05T00:00:00",
          "2023-02-06T00:00:00",
          "2023-02-07T00:00:00",
          "2023-02-08T00:00:00",
          "2023-02-09T00:00:00",
          "2023-02-10T00:00:00",
          "2023-02-11T00:00:00",
          "2023-02-12T00:00:00",
          "2023-02-13T00:00:00",
          "2023-02-14T00:00:00",
          "2023-02-15T00:00:00",
          "2023-02-16T00:00:00",
          "2023-02-17T00:00:00",
          "2023-02-18T00:00:00",
          "2023-02-19T00:00:00",
          "2023-02-20T00:00:00",
          "2023-02-21T00:00:00",
          "2023-02-22T00:00:00",
          "2023-02-23T00:00:00",
          "2023-02-24T00:00:00",
          "2023-02-25T00:00:00",
          "2023-02-26T00:00:00",
          "2023-02-27T00:00:00",
          "2023-02-28T00:00:00",
          "2023-03-01T00:00:00",
          "2023-03-02T00:00:00",
          "2023-03-03T00:00:00",
          "2023-03-04T00:00:00",
          "2023-03-05T00:00:00",
          "2023-03-06T00:00:00",
          "2023-03-07T00:00:00",
          "2023-03-08T00:00:00",
          "2023-03-09T00:00:00",
          "2023-03-10T00:00:00",
          "2023-03-11T00:00:00",
          "2023-03-12T00:00:00",
          "2023-03-13T00:00:00",
          "2023-03-14T00:00:00",
          "2023-03-15T00:00:00",
          "2023-03-16T00:00:00",
          "2023-03-17T00:00:00",
          "2023-03-18T00:00:00",
          "2023-03-19T00:00:00",
          "2023-03-20T00:00:00",
          "2023-03-21T00:00:00",
          "2023-03-22T00:00:00",
          "2023-03-23T00:00:00",
          "2023-03-24T00:00:00",
          "2023-03-25T00:00:00",
          "2023-03-26T00:00:00",
          "2023-03-27T00:00:00",
          "2023-03-28T00:00:00",
          "2023-03-29T00:00:00",
          "2023-03-30T00:00:00",
          "2023-03-31T00:00:00",
          "2023-04-01T00:00:00",
          "2023-04-02T00:00:00",
          "2023-04-03T00:00:00",
          "2023-04-04T00:00:00",
          "2023-04-05T00:00:00",
          "2023-04-06T00:00:00",
          "2023-04-07T00:00:00",
          "2023-04-08T00:00:00",
          "2023-04-09T00:00:00",
          "2023-04-10T00:00:00",
          "2023-04-11T00:00:00",
          "2023-04-12T00:00:00",
          "2023-04-13T00:00:00",
          "2023-04-14T00:00:00",
          "2023-04-15T00:00:00",
          "2023-04-16T00:00:00",
          "2023-04-17T00:00:00",
          "2023-04-18T00:00:00",
          "2023-04-19T00:00:00",
          "2023-04-20T00:00:00",
          "2023-04-21T00:00:00",
          "2023-04-22T00:00:00",
          "2023-04-23T00:00:00",
          "2023-04-24T00:00:00",
          "2023-04-25T00:00:00",
          "2023-04-26T00:00:00",
          "2023-04-27T00:00:00",
          "2023-04-28T00:00:00",
          "2023-04-29T00:00:00",
          "2023-04-30T00:00:00",
          "2023-05-01T00:00:00",
          "2023-05-02T00:00:00",
          "2023-05-03T00:00:00",
          "2023-05-04T00:00:00",
          "2023-05-05T00:00:00",
          "2023-05-06T00:00:00",
          "2023-05-07T00:00:00",
          "2023-05-08T00:00:00",
          "2023-05-09T00:00:00",
          "2023-05-10T00:00:00",
          "2023-05-11T00:00:00",
          "2023-05-12T00:00:00",
          "2023-05-13T00:00:00",
          "2023-05-14T00:00:00",
          "2023-05-15T00:00:00",
          "2023-05-16T00:00:00",
          "2023-05-17T00:00:00",
          "2023-05-18T00:00:00",
          "2023-05-19T00:00:00",
          "2023-05-20T00:00:00",
          "2023-05-21T00:00:00",
          "2023-05-22T00:00:00",
          "2023-05-23T00:00:00",
          "2023-05-24T00:00:00",
          "2023-05-25T00:00:00",
          "2023-05-26T00:00:00",
          "2023-05-27T00:00:00",
          "2023-05-28T00:00:00",
          "2023-05-29T00:00:00",
          "2023-05-30T00:00:00",
          "2023-05-31T00:00:00",
          "2023-06-01T00:00:00",
          "2023-06-02T00:00:00",
          "2023-06-03T00:00:00",
          "2023-06-04T00:00:00",
          "2023-06-05T00:00:00",
          "2023-06-06T00:00:00",
          "2023-06-07T00:00:00",
          "2023-06-08T00:00:00",
          "2023-06-09T00:00:00",
          "2023-06-10T00:00:00",
          "2023-06-11T00:00:00",
          "2023-06-12T00:00:00",
          "2023-06-13T00:00:00",
          "2023-06-14T00:00:00",
          "2023-06-15T00:00:00",
          "2023-06-16T00:00:00",
          "2023-06-17T00:00:00",
          "2023-06-18T00:00:00",
          "2023-06-19T00:00:00",
          "2023-06-20T00:00:00",
          "2023-06-21T00:00:00",
          "2023-06-22T00:00:00",
          "2023-06-23T00:00:00",
          "2023-06-24T00:00:00",
          "2023-06-25T00:00:00",
          "2023-06-26T00:00:00",
          "2023-06-27T00:00:00",
          "2023-06-28T00:00:00",
          "2023-06-29T00:00:00",
          "2023-06-30T00:00:00",
          "2023-07-01T00:00:00",
          "2023-07-02T00:00:00",
          "2023-07-03T00:00:00",
          "2023-07-04T00:00:00",
          "2023-07-05T00:00:00",
          "2023-07-06T00:00:00",
          "2023-07-07T00:00:00",
          "2023-07-08T00:00:00",
          "2023-07-09T00:00:00",
          "2023-07-10T00:00:00",
          "2023-07-11T00:00:00",
          "2023-07-12T00:00:00",
          "2023-07-13T00:00:00",
          "2023-07-14T00:00:00",
          "2023-07-15T00:00:00",
          "2023-07-16T00:00:00",
          "2023-07-17T00:00:00",
          "2023-07-18T00:00:00",
          "2023-07-19T00:00:00",
          "2023-07-20T00:00:00",
          "2023-07-21T00:00:00",
          "2023-07-22T00:00:00",
          "2023-07-23T00:00:00",
          "2023-07-24T00:00:00",
          "2023-07-25T00:00:00",
          "2023-07-26T00:00:00",
          "2023-07-27T00:00:00",
          "2023-07-28T00:00:00",
          "2023-07-29T00:00:00",
          "2023-07-30T00:00:00",
          "2023-07-31T00:00:00",
          "2023-08-01T00:00:00",
          "2023-08-02T00:00:00",
          "2023-08-03T00:00:00",
          "2023-08-04T00:00:00",
          "2023-08-05T00:00:00",
          "2023-08-06T00:00:00",
          "2023-08-07T00:00:00",
          "2023-08-08T00:00:00",
          "2023-08-09T00:00:00",
          "2023-08-10T00:00:00",
          "2023-08-11T00:00:00",
          "2023-08-12T00:00:00",
          "2023-08-13T00:00:00",
          "2023-08-14T00:00:00",
          "2023-08-15T00:00:00",
          "2023-08-16T00:00:00",
          "2023-08-17T00:00:00",
          "2023-08-18T00:00:00",
          "2023-08-19T00:00:00",
          "2023-08-20T00:00:00",
          "2023-08-21T00:00:00",
          "2023-08-22T00:00:00",
          "2023-08-23T00:00:00",
          "2023-08-24T00:00:00",
          "2023-08-25T00:00:00",
          "2023-08-26T00:00:00",
          "2023-08-27T00:00:00",
          "2023-08-28T00:00:00",
          "2023-08-29T00:00:00",
          "2023-08-30T00:00:00",
          "2023-08-31T00:00:00",
          "2023-09-01T00:00:00",
          "2023-09-02T00:00:00",
          "2023-09-03T00:00:00",
          "2023-09-04T00:00:00",
          "2023-09-05T00:00:00",
          "2023-09-06T00:00:00",
          "2023-09-07T00:00:00",
          "2023-09-08T00:00:00",
          "2023-09-09T00:00:00",
          "2023-09-10T00:00:00",
          "2023-09-11T00:00:00",
          "2023-09-12T00:00:00",
          "2023-09-13T00:00:00",
          "2023-09-14T00:00:00",
          "2023-09-15T00:00:00",
          "2023-09-16T00:00:00",
          "2023-09-17T00:00:00",
          "2023-09-18T00:00:00",
          "2023-09-19T00:00:00",
          "2023-09-20T00:00:00",
          "2023-09-21T00:00:00",
          "2023-09-22T00:00:00",
          "2023-09-23T00:00:00",
          "2023-09-24T00:00:00",
          "2023-09-25T00:00:00",
          "2023-09-26T00:00:00",
          "2023-09-27T00:00:00",
          "2023-09-28T00:00:00",
          "2023-09-29T00:00:00",
          "2023-09-30T00:00:00",
          "2023-10-01T00:00:00",
          "2023-10-02T00:00:00",
          "2023-10-03T00:00:00",
          "2023-10-04T00:00:00",
          "2023-10-05T00:00:00",
          "2023-10-06T00:00:00",
          "2023-10-07T00:00:00",
          "2023-10-08T00:00:00",
          "2023-10-09T00:00:00",
          "2023-10-10T00:00:00",
          "2023-10-11T00:00:00",
          "2023-10-12T00:00:00",
          "2023-10-13T00:00:00",
          "2023-10-14T00:00:00",
          "2023-10-15T00:00:00",
          "2023-10-16T00:00:00",
          "2023-10-17T00:00:00",
          "2023-10-18T00:00:00",
          "2023-10-19T00:00:00",
          "2023-10-20T00:00:00",
          "2023-10-21T00:00:00",
          "2023-10-22T00:00:00",
          "2023-10-23T00:00:00",
          "2023-10-24T00:00:00",
          "2023-10-25T00:00:00",
          "2023-10-26T00:00:00",
          "2023-10-27T00:00:00",
          "2023-10-28T00:00:00",
          "2023-10-29T00:00:00",
          "2023-10-30T00:00:00",
          "2023-10-31T00:00:00"
         ],
         "y": [
          13952.5931,
          22579.13230000001,
          26875.411500000024,
          23426.578199999985,
          26261.97249999999,
          13095.265700000004,
          26845.8368,
          22867.0055,
          24366.395399999983,
          25413.31189999999,
          25081.914299999993,
          18172.4519,
          23977.79449999999,
          29351.64219999998,
          31924.280899999998,
          23551.217600000004,
          15389.145600000003,
          16990.234200000003,
          34250.83510000002,
          35450.415499999974,
          29766.785499999994,
          24846.87649999999,
          26836.243100000025,
          26512.50279999998,
          24864.86120000001,
          32269.394500000042,
          22912.603799999986,
          23378.137400000003,
          23313.02900000001,
          17715.71360000001,
          29109.222500000003,
          32283.583100000018,
          27204.628899999996,
          24115.239600000004,
          27533.136100000003,
          30992.04910000001,
          31029.697200000006,
          21481.696300000014,
          27411.88670000001,
          25622.930900000007,
          22122.6112,
          14515.155400000003,
          19814.8833,
          25990.97300000001,
          24634.534299999996,
          20162.2812,
          26105.889099999986,
          26771.84819999999,
          28653.848600000016,
          29864.279799999997,
          29412.0209,
          18961.784000000014,
          26007.985300000004,
          23742.240799999992,
          14242.083900000009,
          25550.9654,
          16621.6053,
          33183.30769999997,
          31716.304699999993,
          21090.84620000001,
          19240.9058,
          15148.137099999998,
          23223.369200000005,
          25586.814899999994,
          27842.201100000013,
          29586.17809999997,
          27874.308900000007,
          17298.3402,
          25037.088500000016,
          31965.265099999993,
          20176.324999999997,
          20175.8005,
          27542.229000000003,
          18401.871599999988,
          22274.829899999982,
          25704.86620000001,
          28391.70489999998,
          35185.50409999998,
          25577.926700000004,
          27005.0254,
          25072.670400000006,
          23965.6096,
          29719.27760000001,
          33845.84500000001,
          22910.78319999998,
          24041.541000000016,
          34709.93449999998,
          22465.536099999998,
          23023.872499999994,
          10575.203699999996,
          29504.475700000003,
          26967.1651,
          30987.987300000008,
          26619.381700000005,
          30528.367399999974,
          26223.94950000001,
          25431.268600000003,
          29786.454599999975,
          25298.992000000024,
          32782.247999999985,
          17050.446199999995,
          26714.25960000002,
          19839.384199999993,
          21522.224600000005,
          23312.815799999982,
          24386.671100000007,
          20241.279099999985,
          17477.143999999993,
          30461.1716,
          28588.092799999988,
          22131.956300000023,
          29309.328499999996,
          20010.8522,
          19745.68330000002,
          23302.9668,
          15191.76740000001,
          18372.070699999986,
          23282.0322,
          29414.941399999967,
          19233.060600000004,
          13149.175699999996,
          28662.384800000014,
          18379.0121,
          33284.56179999998,
          31130.40550000001,
          16885.537600000007,
          28956.15500000004,
          30042.72170000001,
          20101.558599999993,
          27037.805100000012,
          16533.904299999995,
          35904.39979999999,
          19477.767600000003,
          18363.354499999998,
          21497.06520000001,
          18158.975800000004,
          20750.1585,
          26563.674800000023,
          24911.232900000014,
          26879.746500000012,
          25917.126299999985,
          13735.630899999996,
          25602.010299999998,
          24121.539899999996,
          27556.3986,
          23017.607299999996,
          16089.360900000003,
          22099.575099999987,
          28623.592899999992,
          33310.6206,
          21925.66720000002,
          28776.851500000008,
          27555.460600000006,
          21746.57789999997,
          24440.339799999987,
          21983.571700000004,
          28225.429200000017,
          31960.285599999996,
          17968.599500000008,
          18945.996900000006,
          25915.2123,
          23398.362300000033,
          21240.20289999998,
          28863.947999999997,
          25330.78430000002,
          25836.710600000013,
          24860.995000000028,
          23176.096999999998,
          28550.191000000006,
          20921.367299999987,
          25899.126899999996,
          24605.47080000001,
          24883.872300000003,
          27708.536500000013,
          19029.480099999997,
          35826.25749999999,
          31614.87689999999,
          27158.83619999999,
          23116.666600000015,
          14842.021999999999,
          21745.323700000004,
          18601.787500000006,
          24256.382099999984,
          22873.631499999996,
          22741.471400000017,
          23391.1508,
          21445.234300000007,
          18619.97820000001,
          31073.71790000003,
          30220.75359999999,
          28627.440999999988,
          27286.420500000004,
          29976.458799999993,
          31965.892199999984,
          23885.342900000003,
          25724.598500000007,
          27176.208400000003,
          27315.982800000034,
          25290.011399999996,
          26957.99649999999,
          14535.455100000016,
          30486.623599999984,
          23218.840099999998,
          26816.876200000006,
          31442.01739999999,
          13534.546600000007,
          19928.1932,
          19157.00840000002,
          33733.24120000002,
          23847.142599999992,
          24276.943900000002,
          25926.434100000002,
          18499.882599999994,
          20871.594499999996,
          25471.84810000003,
          16436.262799999997,
          27619.163900000025,
          24748.49080000001,
          31788.41860000001,
          30132.5899,
          26461.823699999968,
          30335.110900000014,
          21892.652599999994,
          31546.74790000001,
          26642.51809999999,
          23793.869200000005,
          20917.773,
          17401.143400000008,
          26818.359899999992,
          24270.673000000003,
          26574.478099999993,
          18826.280199999997,
          26060.831500000004,
          27564.62400000002,
          29899.21669999997,
          11965.629100000011,
          21665.87319999998,
          25414.090399999986,
          20445.53209999999,
          33284.20419999999,
          27371.385399999985,
          27423.10780000001,
          28611.9911,
          24846.251500000013,
          22835.370600000002,
          33426.7014,
          21821.46510000001,
          24878.9469,
          29905.213099999986,
          28735.15989999999,
          26686.03820000002,
          34911.669199999975,
          32909.41939999998,
          24453.883800000014,
          26436.893800000027,
          26743.292200000007,
          21505.78649999999,
          21442.906199999998,
          29762.32220000001,
          21774.2374,
          28350.117099999996,
          17743.26689999999,
          29081.271499999977,
          21141.196800000012,
          32314.3224,
          24734.191999999992,
          24523.417499999996,
          22745.56850000001,
          31362.299699999996,
          23437.3185,
          23606.814100000003,
          30307.372999999952,
          21864.270299999975,
          31966.366899999975,
          25614.033299999992,
          24549.0041,
          19820.050899999987,
          28794.63419999997,
          32475.83020000003,
          26444.52610000002,
          20740.0223,
          28587.041300000004,
          35687.38920000001,
          21679.68110000001,
          24555.5923,
          19434.043700000017,
          20969.315700000006,
          26610.3335,
          26565.21540000001,
          22822.992999999988,
          13913.348700000006,
          30145.294200000022,
          30039.8943,
          21106.77690000001,
          24680.126500000002,
          17407.696999999996,
          24047.148,
          29007.031300000028,
          29961.75699999996,
          14369.093000000003,
          35850.44400000002,
          25923.25630000003,
          27707.879699999987,
          28147.818000000017,
          24588.2223,
          25810.138900000005,
          27707.84890000003,
          29097.933199999992,
          21833.274100000002,
          21726.637500000004,
          22067.137499999997,
          22971.543799999996,
          21407.773100000002,
          14134.213900000006,
          28672.071800000012,
          25518.63500000001,
          28249.61549999999,
          22824.227999999985,
          22379.3865
         ]
        },
        {
         "mode": "markers",
         "name": "Forecast (Next 15 Days)",
         "type": "scatter",
         "x": [
          "2023-11-01T00:00:00",
          "2023-11-02T00:00:00",
          "2023-11-03T00:00:00",
          "2023-11-04T00:00:00",
          "2023-11-05T00:00:00",
          "2023-11-06T00:00:00",
          "2023-11-07T00:00:00",
          "2023-11-08T00:00:00",
          "2023-11-09T00:00:00",
          "2023-11-10T00:00:00",
          "2023-11-11T00:00:00",
          "2023-11-12T00:00:00",
          "2023-11-13T00:00:00",
          "2023-11-14T00:00:00",
          "2023-11-15T00:00:00"
         ],
         "y": [
          32338.33179999999,
          37649.15189999998,
          34122.82779999999,
          28356.166400000016,
          20763.583400000007,
          23920.12749999999,
          31782.151499999993,
          35537.28850000002,
          12826.466399999994,
          34815.3463,
          15854.408400000013,
          18731.55430000002,
          35780.03489999999,
          27974.28970000001,
          22581.796500000008
         ]
        }
       ],
       "layout": {
        "showlegend": true,
        "template": {
         "data": {
          "bar": [
           {
            "error_x": {
             "color": "#2a3f5f"
            },
            "error_y": {
             "color": "#2a3f5f"
            },
            "marker": {
             "line": {
              "color": "#E5ECF6",
              "width": 0.5
             },
             "pattern": {
              "fillmode": "overlay",
              "size": 10,
              "solidity": 0.2
             }
            },
            "type": "bar"
           }
          ],
          "barpolar": [
           {
            "marker": {
             "line": {
              "color": "#E5ECF6",
              "width": 0.5
             },
             "pattern": {
              "fillmode": "overlay",
              "size": 10,
              "solidity": 0.2
             }
            },
            "type": "barpolar"
           }
          ],
          "carpet": [
           {
            "aaxis": {
             "endlinecolor": "#2a3f5f",
             "gridcolor": "white",
             "linecolor": "white",
             "minorgridcolor": "white",
             "startlinecolor": "#2a3f5f"
            },
            "baxis": {
             "endlinecolor": "#2a3f5f",
             "gridcolor": "white",
             "linecolor": "white",
             "minorgridcolor": "white",
             "startlinecolor": "#2a3f5f"
            },
            "type": "carpet"
           }
          ],
          "choropleth": [
           {
            "colorbar": {
             "outlinewidth": 0,
             "ticks": ""
            },
            "type": "choropleth"
           }
          ],
          "contour": [
           {
            "colorbar": {
             "outlinewidth": 0,
             "ticks": ""
            },
            "colorscale": [
             [
              0,
              "#0d0887"
             ],
             [
              0.1111111111111111,
              "#46039f"
             ],
             [
              0.2222222222222222,
              "#7201a8"
             ],
             [
              0.3333333333333333,
              "#9c179e"
             ],
             [
              0.4444444444444444,
              "#bd3786"
             ],
             [
              0.5555555555555556,
              "#d8576b"
             ],
             [
              0.6666666666666666,
              "#ed7953"
             ],
             [
              0.7777777777777778,
              "#fb9f3a"
             ],
             [
              0.8888888888888888,
              "#fdca26"
             ],
             [
              1,
              "#f0f921"
             ]
            ],
            "type": "contour"
           }
          ],
          "contourcarpet": [
           {
            "colorbar": {
             "outlinewidth": 0,
             "ticks": ""
            },
            "type": "contourcarpet"
           }
          ],
          "heatmap": [
           {
            "colorbar": {
             "outlinewidth": 0,
             "ticks": ""
            },
            "colorscale": [
             [
              0,
              "#0d0887"
             ],
             [
              0.1111111111111111,
              "#46039f"
             ],
             [
              0.2222222222222222,
              "#7201a8"
             ],
             [
              0.3333333333333333,
              "#9c179e"
             ],
             [
              0.4444444444444444,
              "#bd3786"
             ],
             [
              0.5555555555555556,
              "#d8576b"
             ],
             [
              0.6666666666666666,
              "#ed7953"
             ],
             [
              0.7777777777777778,
              "#fb9f3a"
             ],
             [
              0.8888888888888888,
              "#fdca26"
             ],
             [
              1,
              "#f0f921"
             ]
            ],
            "type": "heatmap"
           }
          ],
          "heatmapgl": [
           {
            "colorbar": {
             "outlinewidth": 0,
             "ticks": ""
            },
            "colorscale": [
             [
              0,
              "#0d0887"
             ],
             [
              0.1111111111111111,
              "#46039f"
             ],
             [
              0.2222222222222222,
              "#7201a8"
             ],
             [
              0.3333333333333333,
              "#9c179e"
             ],
             [
              0.4444444444444444,
              "#bd3786"
             ],
             [
              0.5555555555555556,
              "#d8576b"
             ],
             [
              0.6666666666666666,
              "#ed7953"
             ],
             [
              0.7777777777777778,
              "#fb9f3a"
             ],
             [
              0.8888888888888888,
              "#fdca26"
             ],
             [
              1,
              "#f0f921"
             ]
            ],
            "type": "heatmapgl"
           }
          ],
          "histogram": [
           {
            "marker": {
             "pattern": {
              "fillmode": "overlay",
              "size": 10,
              "solidity": 0.2
             }
            },
            "type": "histogram"
           }
          ],
          "histogram2d": [
           {
            "colorbar": {
             "outlinewidth": 0,
             "ticks": ""
            },
            "colorscale": [
             [
              0,
              "#0d0887"
             ],
             [
              0.1111111111111111,
              "#46039f"
             ],
             [
              0.2222222222222222,
              "#7201a8"
             ],
             [
              0.3333333333333333,
              "#9c179e"
             ],
             [
              0.4444444444444444,
              "#bd3786"
             ],
             [
              0.5555555555555556,
              "#d8576b"
             ],
             [
              0.6666666666666666,
              "#ed7953"
             ],
             [
              0.7777777777777778,
              "#fb9f3a"
             ],
             [
              0.8888888888888888,
              "#fdca26"
             ],
             [
              1,
              "#f0f921"
             ]
            ],
            "type": "histogram2d"
           }
          ],
          "histogram2dcontour": [
           {
            "colorbar": {
             "outlinewidth": 0,
             "ticks": ""
            },
            "colorscale": [
             [
              0,
              "#0d0887"
             ],
             [
              0.1111111111111111,
              "#46039f"
             ],
             [
              0.2222222222222222,
              "#7201a8"
             ],
             [
              0.3333333333333333,
              "#9c179e"
             ],
             [
              0.4444444444444444,
              "#bd3786"
             ],
             [
              0.5555555555555556,
              "#d8576b"
             ],
             [
              0.6666666666666666,
              "#ed7953"
             ],
             [
              0.7777777777777778,
              "#fb9f3a"
             ],
             [
              0.8888888888888888,
              "#fdca26"
             ],
             [
              1,
              "#f0f921"
             ]
            ],
            "type": "histogram2dcontour"
           }
          ],
          "mesh3d": [
           {
            "colorbar": {
             "outlinewidth": 0,
             "ticks": ""
            },
            "type": "mesh3d"
           }
          ],
          "parcoords": [
           {
            "line": {
             "colorbar": {
              "outlinewidth": 0,
              "ticks": ""
             }
            },
            "type": "parcoords"
           }
          ],
          "pie": [
           {
            "automargin": true,
            "type": "pie"
           }
          ],
          "scatter": [
           {
            "fillpattern": {
             "fillmode": "overlay",
             "size": 10,
             "solidity": 0.2
            },
            "type": "scatter"
           }
          ],
          "scatter3d": [
           {
            "line": {
             "colorbar": {
              "outlinewidth": 0,
              "ticks": ""
             }
            },
            "marker": {
             "colorbar": {
              "outlinewidth": 0,
              "ticks": ""
             }
            },
            "type": "scatter3d"
           }
          ],
          "scattercarpet": [
           {
            "marker": {
             "colorbar": {
              "outlinewidth": 0,
              "ticks": ""
             }
            },
            "type": "scattercarpet"
           }
          ],
          "scattergeo": [
           {
            "marker": {
             "colorbar": {
              "outlinewidth": 0,
              "ticks": ""
             }
            },
            "type": "scattergeo"
           }
          ],
          "scattergl": [
           {
            "marker": {
             "colorbar": {
              "outlinewidth": 0,
              "ticks": ""
             }
            },
            "type": "scattergl"
           }
          ],
          "scattermapbox": [
           {
            "marker": {
             "colorbar": {
              "outlinewidth": 0,
              "ticks": ""
             }
            },
            "type": "scattermapbox"
           }
          ],
          "scatterpolar": [
           {
            "marker": {
             "colorbar": {
              "outlinewidth": 0,
              "ticks": ""
             }
            },
            "type": "scatterpolar"
           }
          ],
          "scatterpolargl": [
           {
            "marker": {
             "colorbar": {
              "outlinewidth": 0,
              "ticks": ""
             }
            },
            "type": "scatterpolargl"
           }
          ],
          "scatterternary": [
           {
            "marker": {
             "colorbar": {
              "outlinewidth": 0,
              "ticks": ""
             }
            },
            "type": "scatterternary"
           }
          ],
          "surface": [
           {
            "colorbar": {
             "outlinewidth": 0,
             "ticks": ""
            },
            "colorscale": [
             [
              0,
              "#0d0887"
             ],
             [
              0.1111111111111111,
              "#46039f"
             ],
             [
              0.2222222222222222,
              "#7201a8"
             ],
             [
              0.3333333333333333,
              "#9c179e"
             ],
             [
              0.4444444444444444,
              "#bd3786"
             ],
             [
              0.5555555555555556,
              "#d8576b"
             ],
             [
              0.6666666666666666,
              "#ed7953"
             ],
             [
              0.7777777777777778,
              "#fb9f3a"
             ],
             [
              0.8888888888888888,
              "#fdca26"
             ],
             [
              1,
              "#f0f921"
             ]
            ],
            "type": "surface"
           }
          ],
          "table": [
           {
            "cells": {
             "fill": {
              "color": "#EBF0F8"
             },
             "line": {
              "color": "white"
             }
            },
            "header": {
             "fill": {
              "color": "#C8D4E3"
             },
             "line": {
              "color": "white"
             }
            },
            "type": "table"
           }
          ]
         },
         "layout": {
          "annotationdefaults": {
           "arrowcolor": "#2a3f5f",
           "arrowhead": 0,
           "arrowwidth": 1
          },
          "autotypenumbers": "strict",
          "coloraxis": {
           "colorbar": {
            "outlinewidth": 0,
            "ticks": ""
           }
          },
          "colorscale": {
           "diverging": [
            [
             0,
             "#8e0152"
            ],
            [
             0.1,
             "#c51b7d"
            ],
            [
             0.2,
             "#de77ae"
            ],
            [
             0.3,
             "#f1b6da"
            ],
            [
             0.4,
             "#fde0ef"
            ],
            [
             0.5,
             "#f7f7f7"
            ],
            [
             0.6,
             "#e6f5d0"
            ],
            [
             0.7,
             "#b8e186"
            ],
            [
             0.8,
             "#7fbc41"
            ],
            [
             0.9,
             "#4d9221"
            ],
            [
             1,
             "#276419"
            ]
           ],
           "sequential": [
            [
             0,
             "#0d0887"
            ],
            [
             0.1111111111111111,
             "#46039f"
            ],
            [
             0.2222222222222222,
             "#7201a8"
            ],
            [
             0.3333333333333333,
             "#9c179e"
            ],
            [
             0.4444444444444444,
             "#bd3786"
            ],
            [
             0.5555555555555556,
             "#d8576b"
            ],
            [
             0.6666666666666666,
             "#ed7953"
            ],
            [
             0.7777777777777778,
             "#fb9f3a"
            ],
            [
             0.8888888888888888,
             "#fdca26"
            ],
            [
             1,
             "#f0f921"
            ]
           ],
           "sequentialminus": [
            [
             0,
             "#0d0887"
            ],
            [
             0.1111111111111111,
             "#46039f"
            ],
            [
             0.2222222222222222,
             "#7201a8"
            ],
            [
             0.3333333333333333,
             "#9c179e"
            ],
            [
             0.4444444444444444,
             "#bd3786"
            ],
            [
             0.5555555555555556,
             "#d8576b"
            ],
            [
             0.6666666666666666,
             "#ed7953"
            ],
            [
             0.7777777777777778,
             "#fb9f3a"
            ],
            [
             0.8888888888888888,
             "#fdca26"
            ],
            [
             1,
             "#f0f921"
            ]
           ]
          },
          "colorway": [
           "#636efa",
           "#EF553B",
           "#00cc96",
           "#ab63fa",
           "#FFA15A",
           "#19d3f3",
           "#FF6692",
           "#B6E880",
           "#FF97FF",
           "#FECB52"
          ],
          "font": {
           "color": "#2a3f5f"
          },
          "geo": {
           "bgcolor": "white",
           "lakecolor": "white",
           "landcolor": "#E5ECF6",
           "showlakes": true,
           "showland": true,
           "subunitcolor": "white"
          },
          "hoverlabel": {
           "align": "left"
          },
          "hovermode": "closest",
          "mapbox": {
           "style": "light"
          },
          "paper_bgcolor": "white",
          "plot_bgcolor": "#E5ECF6",
          "polar": {
           "angularaxis": {
            "gridcolor": "white",
            "linecolor": "white",
            "ticks": ""
           },
           "bgcolor": "#E5ECF6",
           "radialaxis": {
            "gridcolor": "white",
            "linecolor": "white",
            "ticks": ""
           }
          },
          "scene": {
           "xaxis": {
            "backgroundcolor": "#E5ECF6",
            "gridcolor": "white",
            "gridwidth": 2,
            "linecolor": "white",
            "showbackground": true,
            "ticks": "",
            "zerolinecolor": "white"
           },
           "yaxis": {
            "backgroundcolor": "#E5ECF6",
            "gridcolor": "white",
            "gridwidth": 2,
            "linecolor": "white",
            "showbackground": true,
            "ticks": "",
            "zerolinecolor": "white"
           },
           "zaxis": {
            "backgroundcolor": "#E5ECF6",
            "gridcolor": "white",
            "gridwidth": 2,
            "linecolor": "white",
            "showbackground": true,
            "ticks": "",
            "zerolinecolor": "white"
           }
          },
          "shapedefaults": {
           "line": {
            "color": "#2a3f5f"
           }
          },
          "ternary": {
           "aaxis": {
            "gridcolor": "white",
            "linecolor": "white",
            "ticks": ""
           },
           "baxis": {
            "gridcolor": "white",
            "linecolor": "white",
            "ticks": ""
           },
           "bgcolor": "#E5ECF6",
           "caxis": {
            "gridcolor": "white",
            "linecolor": "white",
            "ticks": ""
           }
          },
          "title": {
           "x": 0.05
          },
          "xaxis": {
           "automargin": true,
           "gridcolor": "white",
           "linecolor": "white",
           "ticks": "",
           "title": {
            "standoff": 15
           },
           "zerolinecolor": "white",
           "zerolinewidth": 2
          },
          "yaxis": {
           "automargin": true,
           "gridcolor": "white",
           "linecolor": "white",
           "ticks": "",
           "title": {
            "standoff": 15
           },
           "zerolinecolor": "white",
           "zerolinewidth": 2
          }
         }
        },
        "title": {
         "text": "Actual vs Predicted Sales (Random Forest)"
        },
        "xaxis": {
         "title": {
          "text": "Date"
         }
        },
        "yaxis": {
         "title": {
          "text": "Sales"
         }
        }
       }
      }
     },
     "metadata": {},
     "output_type": "display_data"
    }
   ],
   "source": [
    "\n",
    "\n",
    "trace_actual = go.Scatter(x=test.index, y=y_test, mode='markers', name='Actual')\n",
    "trace_predicted_test_set = go.Scatter(x=test.index, y=rf_predictions, mode='markers', name='Predicted (Test Set)')\n",
    "\n",
    "# Create trace for the forecast of the next 15 days\n",
    "trace_forecast_next_15_days = go.Scatter(x=sample_data.index, y=sample_predictions, mode='markers', name='Forecast (Next 15 Days)')\n",
    "\n",
    "# Create layout\n",
    "layout = go.Layout(\n",
    "    title='Actual vs Predicted Sales (Random Forest)',\n",
    "    xaxis=dict(title='Date'),\n",
    "    yaxis=dict(title='Sales'),\n",
    "    showlegend=True\n",
    ")\n",
    "\n",
    "# Create figure\n",
    "fig = go.Figure(data=[trace_actual, trace_predicted_test_set, trace_forecast_next_15_days], layout=layout)\n",
    "\n",
    "# Show figure\n",
    "fig.show()\n",
    "\n"
   ]
  }
 ],
 "metadata": {
  "kernelspec": {
   "display_name": "vs_code",
   "language": "python",
   "name": "python3"
  },
  "language_info": {
   "codemirror_mode": {
    "name": "ipython",
    "version": 3
   },
   "file_extension": ".py",
   "mimetype": "text/x-python",
   "name": "python",
   "nbconvert_exporter": "python",
   "pygments_lexer": "ipython3",
   "version": "3.10.13"
  }
 },
 "nbformat": 4,
 "nbformat_minor": 2
}
